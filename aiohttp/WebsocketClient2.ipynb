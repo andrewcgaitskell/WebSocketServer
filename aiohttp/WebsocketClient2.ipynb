{
  "nbformat": 4,
  "nbformat_minor": 0,
  "metadata": {
    "colab": {
      "name": "WebsocketClient2.ipynb",
      "provenance": [],
      "collapsed_sections": []
    },
    "kernelspec": {
      "name": "python3",
      "display_name": "Python 3"
    }
  },
  "cells": [
    {
      "cell_type": "code",
      "metadata": {
        "id": "fyZpFSJEtB0q",
        "colab": {
          "base_uri": "https://localhost:8080/"
        },
        "outputId": "a05e99e7-a0d1-4a54-b1d9-c697ce8c096d"
      },
      "source": [
        "!pip install websocket_client "
      ],
      "execution_count": 12,
      "outputs": [
        {
          "output_type": "stream",
          "text": [
            "Requirement already satisfied: websocket_client in /usr/local/lib/python3.6/dist-packages (0.57.0)\n",
            "Requirement already satisfied: six in /usr/local/lib/python3.6/dist-packages (from websocket_client) (1.15.0)\n"
          ],
          "name": "stdout"
        }
      ]
    },
    {
      "cell_type": "code",
      "metadata": {
        "id": "Cq4QVzMnsCch"
      },
      "source": [
        "import logging\n",
        "import threading\n",
        "import time"
      ],
      "execution_count": 13,
      "outputs": []
    },
    {
      "cell_type": "code",
      "metadata": {
        "id": "vvNAOcLAstKF"
      },
      "source": [
        "from websocket import create_connection"
      ],
      "execution_count": 14,
      "outputs": []
    },
    {
      "cell_type": "code",
      "metadata": {
        "id": "QG-dJg-PsyAP"
      },
      "source": [
        "uri = \"ws://player2.acgtest.info:5010/ws/\"\n"
      ],
      "execution_count": 15,
      "outputs": []
    },
    {
      "cell_type": "code",
      "metadata": {
        "id": "u-SVT-fotLqo"
      },
      "source": [
        "def hello_world(threadid):\n",
        "  ws = create_connection(uri)\n",
        "  print(\"Sending 'Hello, World'...\")\n",
        "  message = \"Hello, World from \" + str(threadid)\n",
        "  ws.send(message)\n",
        "  print(\"Sent\")\n",
        "  print(\"Receiving...\")\n",
        "  result =  ws.recv()\n",
        "  print(\"Received '%s'\" % result)\n",
        "  ws.close()"
      ],
      "execution_count": 16,
      "outputs": []
    },
    {
      "cell_type": "code",
      "metadata": {
        "colab": {
          "base_uri": "https://localhost:8080/"
        },
        "id": "4d1slYbrtaBv",
        "outputId": "b51a0863-dc00-4108-e09a-e36b77e03ecb"
      },
      "source": [
        "hello_world(1)"
      ],
      "execution_count": 17,
      "outputs": [
        {
          "output_type": "stream",
          "text": [
            "Sending 'Hello, World'...\n",
            "Sent\n",
            "Receiving...\n",
            "Received 'Hello, World from 1/answer/2'\n"
          ],
          "name": "stdout"
        }
      ]
    },
    {
      "cell_type": "code",
      "metadata": {
        "id": "8PK8o7KIr-sn"
      },
      "source": [
        "def thread_function(name):\n",
        "    logging.info(\"Thread %s: starting\", name)\n",
        "    time.sleep(2)\n",
        "    logging.info(\"Thread %s: finishing\", name)\n",
        "\n"
      ],
      "execution_count": 18,
      "outputs": []
    },
    {
      "cell_type": "code",
      "metadata": {
        "colab": {
          "base_uri": "https://localhost:8080/",
          "height": 1000
        },
        "id": "iFdKRdWtsOaK",
        "outputId": "598dbb94-b514-40fc-82ef-667f2d2cf2a2"
      },
      "source": [
        "for q in range(0, 100):\n",
        "  format = \"%(asctime)s: %(message)s\"\n",
        "  logging.basicConfig(format=format, level=logging.INFO,\n",
        "                      datefmt=\"%H:%M:%S\")\n",
        "\n",
        "  logging.info(\"Main    : before creating thread\")\n",
        "  x = threading.Thread(target=hello_world(1), args=(1,))\n",
        "  y = threading.Thread(target=hello_world(2), args=(2,))\n",
        "  z = threading.Thread(target=hello_world(3), args=(3,))\n",
        "  logging.info(\"Main    : before running thread\")\n",
        "  x.start()\n",
        "  y.start()\n",
        "  z.start()\n",
        "  logging.info(\"Main    : wait for the thread to finish\")\n",
        "  # x.join()\n",
        "  logging.info(\"Main    : all done\")"
      ],
      "execution_count": 19,
      "outputs": [
        {
          "output_type": "stream",
          "text": [
            "15:07:41: Main    : before creating thread\n"
          ],
          "name": "stderr"
        },
        {
          "output_type": "stream",
          "text": [
            "Sending 'Hello, World'...\n",
            "Sent\n",
            "Receiving...\n",
            "Received 'Hello, World from 1/answer/3'\n",
            "Sending 'Hello, World'...\n",
            "Sent\n",
            "Receiving...\n",
            "Received 'Hello, World from 2/answer/4'\n"
          ],
          "name": "stdout"
        },
        {
          "output_type": "stream",
          "text": [
            "15:07:42: Main    : before running thread\n",
            "15:07:42: Main    : wait for the thread to finish\n",
            "15:07:42: Main    : all done\n",
            "15:07:42: Main    : before creating thread\n"
          ],
          "name": "stderr"
        },
        {
          "output_type": "stream",
          "text": [
            "Sending 'Hello, World'...\n",
            "Sent\n",
            "Receiving...\n",
            "Received 'Hello, World from 3/answer/5'\n",
            "Sending 'Hello, World'...\n",
            "Sent\n",
            "Receiving...\n",
            "Received 'Hello, World from 1/answer/6'\n",
            "Sending 'Hello, World'...\n",
            "Sent\n",
            "Receiving...\n",
            "Received 'Hello, World from 2/answer/7'\n"
          ],
          "name": "stdout"
        },
        {
          "output_type": "stream",
          "text": [
            "15:07:43: Main    : before running thread\n",
            "15:07:43: Main    : wait for the thread to finish\n",
            "15:07:43: Main    : all done\n",
            "15:07:43: Main    : before creating thread\n"
          ],
          "name": "stderr"
        },
        {
          "output_type": "stream",
          "text": [
            "Sending 'Hello, World'...\n",
            "Sent\n",
            "Receiving...\n",
            "Received 'Hello, World from 3/answer/8'\n",
            "Sending 'Hello, World'...\n",
            "Sent\n",
            "Receiving...\n",
            "Received 'Hello, World from 1/answer/9'\n",
            "Sending 'Hello, World'...\n",
            "Sent\n",
            "Receiving...\n",
            "Received 'Hello, World from 2/answer/10'\n"
          ],
          "name": "stdout"
        },
        {
          "output_type": "stream",
          "text": [
            "15:07:44: Main    : before running thread\n",
            "15:07:44: Main    : wait for the thread to finish\n",
            "15:07:44: Main    : all done\n",
            "15:07:44: Main    : before creating thread\n"
          ],
          "name": "stderr"
        },
        {
          "output_type": "stream",
          "text": [
            "Sending 'Hello, World'...\n",
            "Sent\n",
            "Receiving...\n",
            "Received 'Hello, World from 3/answer/11'\n",
            "Sending 'Hello, World'...\n",
            "Sent\n",
            "Receiving...\n",
            "Received 'Hello, World from 1/answer/12'\n",
            "Sending 'Hello, World'...\n",
            "Sent\n",
            "Receiving...\n",
            "Received 'Hello, World from 2/answer/13'\n"
          ],
          "name": "stdout"
        },
        {
          "output_type": "stream",
          "text": [
            "15:07:45: Main    : before running thread\n",
            "15:07:45: Main    : wait for the thread to finish\n",
            "15:07:45: Main    : all done\n",
            "15:07:45: Main    : before creating thread\n"
          ],
          "name": "stderr"
        },
        {
          "output_type": "stream",
          "text": [
            "Sending 'Hello, World'...\n",
            "Sent\n",
            "Receiving...\n",
            "Received 'Hello, World from 3/answer/14'\n",
            "Sending 'Hello, World'...\n",
            "Sent\n",
            "Receiving...\n",
            "Received 'Hello, World from 1/answer/15'\n",
            "Sending 'Hello, World'...\n",
            "Sent\n",
            "Receiving...\n",
            "Received 'Hello, World from 2/answer/16'\n"
          ],
          "name": "stdout"
        },
        {
          "output_type": "stream",
          "text": [
            "15:07:46: Main    : before running thread\n",
            "15:07:46: Main    : wait for the thread to finish\n",
            "15:07:46: Main    : all done\n",
            "15:07:46: Main    : before creating thread\n"
          ],
          "name": "stderr"
        },
        {
          "output_type": "stream",
          "text": [
            "Sending 'Hello, World'...\n",
            "Sent\n",
            "Receiving...\n",
            "Received 'Hello, World from 3/answer/17'\n",
            "Sending 'Hello, World'...\n",
            "Sent\n",
            "Receiving...\n",
            "Received 'Hello, World from 1/answer/18'\n",
            "Sending 'Hello, World'...\n",
            "Sent\n",
            "Receiving...\n",
            "Received 'Hello, World from 2/answer/19'\n"
          ],
          "name": "stdout"
        },
        {
          "output_type": "stream",
          "text": [
            "15:07:47: Main    : before running thread\n",
            "15:07:47: Main    : wait for the thread to finish\n",
            "15:07:47: Main    : all done\n",
            "15:07:47: Main    : before creating thread\n"
          ],
          "name": "stderr"
        },
        {
          "output_type": "stream",
          "text": [
            "Sending 'Hello, World'...\n",
            "Sent\n",
            "Receiving...\n",
            "Received 'Hello, World from 3/answer/20'\n",
            "Sending 'Hello, World'...\n",
            "Sent\n",
            "Receiving...\n",
            "Received 'Hello, World from 1/answer/21'\n",
            "Sending 'Hello, World'...\n",
            "Sent\n",
            "Receiving...\n",
            "Received 'Hello, World from 2/answer/22'\n"
          ],
          "name": "stdout"
        },
        {
          "output_type": "stream",
          "text": [
            "15:07:48: Main    : before running thread\n",
            "15:07:48: Main    : wait for the thread to finish\n",
            "15:07:48: Main    : all done\n",
            "15:07:48: Main    : before creating thread\n"
          ],
          "name": "stderr"
        },
        {
          "output_type": "stream",
          "text": [
            "Sending 'Hello, World'...\n",
            "Sent\n",
            "Receiving...\n",
            "Received 'Hello, World from 3/answer/23'\n",
            "Sending 'Hello, World'...\n",
            "Sent\n",
            "Receiving...\n",
            "Received 'Hello, World from 1/answer/24'\n",
            "Sending 'Hello, World'...\n",
            "Sent\n",
            "Receiving...\n",
            "Received 'Hello, World from 2/answer/25'\n"
          ],
          "name": "stdout"
        },
        {
          "output_type": "stream",
          "text": [
            "15:07:49: Main    : before running thread\n",
            "15:07:49: Main    : wait for the thread to finish\n",
            "15:07:49: Main    : all done\n",
            "15:07:49: Main    : before creating thread\n"
          ],
          "name": "stderr"
        },
        {
          "output_type": "stream",
          "text": [
            "Sending 'Hello, World'...\n",
            "Sent\n",
            "Receiving...\n",
            "Received 'Hello, World from 3/answer/26'\n",
            "Sending 'Hello, World'...\n",
            "Sent\n",
            "Receiving...\n",
            "Received 'Hello, World from 1/answer/27'\n",
            "Sending 'Hello, World'...\n",
            "Sent\n",
            "Receiving...\n",
            "Received 'Hello, World from 2/answer/28'\n"
          ],
          "name": "stdout"
        },
        {
          "output_type": "stream",
          "text": [
            "15:07:50: Main    : before running thread\n",
            "15:07:50: Main    : wait for the thread to finish\n",
            "15:07:50: Main    : all done\n",
            "15:07:50: Main    : before creating thread\n"
          ],
          "name": "stderr"
        },
        {
          "output_type": "stream",
          "text": [
            "Sending 'Hello, World'...\n",
            "Sent\n",
            "Receiving...\n",
            "Received 'Hello, World from 3/answer/29'\n",
            "Sending 'Hello, World'...\n",
            "Sent\n",
            "Receiving...\n",
            "Received 'Hello, World from 1/answer/30'\n",
            "Sending 'Hello, World'...\n",
            "Sent\n",
            "Receiving...\n",
            "Received 'Hello, World from 2/answer/31'\n"
          ],
          "name": "stdout"
        },
        {
          "output_type": "stream",
          "text": [
            "15:07:51: Main    : before running thread\n",
            "15:07:51: Main    : wait for the thread to finish\n",
            "15:07:51: Main    : all done\n",
            "15:07:51: Main    : before creating thread\n"
          ],
          "name": "stderr"
        },
        {
          "output_type": "stream",
          "text": [
            "Sending 'Hello, World'...\n",
            "Sent\n",
            "Receiving...\n",
            "Received 'Hello, World from 3/answer/32'\n",
            "Sending 'Hello, World'...\n",
            "Sent\n",
            "Receiving...\n",
            "Received 'Hello, World from 1/answer/33'\n",
            "Sending 'Hello, World'...\n",
            "Sent\n",
            "Receiving...\n",
            "Received 'Hello, World from 2/answer/34'\n"
          ],
          "name": "stdout"
        },
        {
          "output_type": "stream",
          "text": [
            "15:07:53: Main    : before running thread\n",
            "15:07:53: Main    : wait for the thread to finish\n",
            "15:07:53: Main    : all done\n",
            "15:07:53: Main    : before creating thread\n"
          ],
          "name": "stderr"
        },
        {
          "output_type": "stream",
          "text": [
            "Sending 'Hello, World'...\n",
            "Sent\n",
            "Receiving...\n",
            "Received 'Hello, World from 3/answer/35'\n",
            "Sending 'Hello, World'...\n",
            "Sent\n",
            "Receiving...\n",
            "Received 'Hello, World from 1/answer/36'\n",
            "Sending 'Hello, World'...\n",
            "Sent\n",
            "Receiving...\n",
            "Received 'Hello, World from 2/answer/37'\n"
          ],
          "name": "stdout"
        },
        {
          "output_type": "stream",
          "text": [
            "15:07:54: Main    : before running thread\n",
            "15:07:54: Main    : wait for the thread to finish\n",
            "15:07:54: Main    : all done\n",
            "15:07:54: Main    : before creating thread\n"
          ],
          "name": "stderr"
        },
        {
          "output_type": "stream",
          "text": [
            "Sending 'Hello, World'...\n",
            "Sent\n",
            "Receiving...\n",
            "Received 'Hello, World from 3/answer/38'\n",
            "Sending 'Hello, World'...\n",
            "Sent\n",
            "Receiving...\n",
            "Received 'Hello, World from 1/answer/39'\n",
            "Sending 'Hello, World'...\n",
            "Sent\n",
            "Receiving...\n",
            "Received 'Hello, World from 2/answer/40'\n"
          ],
          "name": "stdout"
        },
        {
          "output_type": "stream",
          "text": [
            "15:07:55: Main    : before running thread\n",
            "15:07:55: Main    : wait for the thread to finish\n",
            "15:07:55: Main    : all done\n",
            "15:07:55: Main    : before creating thread\n"
          ],
          "name": "stderr"
        },
        {
          "output_type": "stream",
          "text": [
            "Sending 'Hello, World'...\n",
            "Sent\n",
            "Receiving...\n",
            "Received 'Hello, World from 3/answer/41'\n",
            "Sending 'Hello, World'...\n",
            "Sent\n",
            "Receiving...\n",
            "Received 'Hello, World from 1/answer/43'\n",
            "Sending 'Hello, World'...\n",
            "Sent\n",
            "Receiving...\n",
            "Received 'Hello, World from 2/answer/45'\n"
          ],
          "name": "stdout"
        },
        {
          "output_type": "stream",
          "text": [
            "15:07:56: Main    : before running thread\n",
            "15:07:56: Main    : wait for the thread to finish\n",
            "15:07:56: Main    : all done\n",
            "15:07:56: Main    : before creating thread\n"
          ],
          "name": "stderr"
        },
        {
          "output_type": "stream",
          "text": [
            "Sending 'Hello, World'...\n",
            "Sent\n",
            "Receiving...\n",
            "Received 'Hello, World from 3/answer/47'\n",
            "Sending 'Hello, World'...\n",
            "Sent\n",
            "Receiving...\n",
            "Received 'Hello, World from 1/answer/49'\n",
            "Sending 'Hello, World'...\n",
            "Sent\n",
            "Receiving...\n",
            "Received 'Hello, World from 2/answer/51'\n"
          ],
          "name": "stdout"
        },
        {
          "output_type": "stream",
          "text": [
            "15:07:57: Main    : before running thread\n",
            "15:07:57: Main    : wait for the thread to finish\n",
            "15:07:57: Main    : all done\n",
            "15:07:57: Main    : before creating thread\n"
          ],
          "name": "stderr"
        },
        {
          "output_type": "stream",
          "text": [
            "Sending 'Hello, World'...\n",
            "Sent\n",
            "Receiving...\n",
            "Received 'Hello, World from 3/answer/53'\n",
            "Sending 'Hello, World'...\n",
            "Sent\n",
            "Receiving...\n",
            "Received 'Hello, World from 1/answer/55'\n",
            "Sending 'Hello, World'...\n",
            "Sent\n",
            "Receiving...\n",
            "Received 'Hello, World from 2/answer/57'\n"
          ],
          "name": "stdout"
        },
        {
          "output_type": "stream",
          "text": [
            "15:07:58: Main    : before running thread\n",
            "15:07:58: Main    : wait for the thread to finish\n",
            "15:07:58: Main    : all done\n",
            "15:07:58: Main    : before creating thread\n"
          ],
          "name": "stderr"
        },
        {
          "output_type": "stream",
          "text": [
            "Sending 'Hello, World'...\n",
            "Sent\n",
            "Receiving...\n",
            "Received 'Hello, World from 3/answer/59'\n",
            "Sending 'Hello, World'...\n",
            "Sent\n",
            "Receiving...\n",
            "Received 'Hello, World from 1/answer/61'\n",
            "Sending 'Hello, World'...\n",
            "Sent\n",
            "Receiving...\n",
            "Received 'Hello, World from 2/answer/63'\n"
          ],
          "name": "stdout"
        },
        {
          "output_type": "stream",
          "text": [
            "15:07:59: Main    : before running thread\n"
          ],
          "name": "stderr"
        },
        {
          "output_type": "stream",
          "text": [
            "Sending 'Hello, World'...\n",
            "Sent\n",
            "Receiving...\n",
            "Received 'Hello, World from 3/answer/65'\n"
          ],
          "name": "stdout"
        },
        {
          "output_type": "stream",
          "text": [
            "15:07:59: Main    : wait for the thread to finish\n",
            "15:07:59: Main    : all done\n",
            "15:07:59: Main    : before creating thread\n"
          ],
          "name": "stderr"
        },
        {
          "output_type": "stream",
          "text": [
            "Sending 'Hello, World'...\n",
            "Sent\n",
            "Receiving...\n",
            "Received 'Hello, World from 1/answer/67'\n",
            "Sending 'Hello, World'...\n",
            "Sent\n",
            "Receiving...\n",
            "Received 'Hello, World from 2/answer/69'\n"
          ],
          "name": "stdout"
        },
        {
          "output_type": "stream",
          "text": [
            "15:08:00: Main    : before running thread\n",
            "15:08:00: Main    : wait for the thread to finish\n",
            "15:08:00: Main    : all done\n",
            "15:08:00: Main    : before creating thread\n"
          ],
          "name": "stderr"
        },
        {
          "output_type": "stream",
          "text": [
            "Sending 'Hello, World'...\n",
            "Sent\n",
            "Receiving...\n",
            "Received 'Hello, World from 3/answer/71'\n",
            "Sending 'Hello, World'...\n",
            "Sent\n",
            "Receiving...\n",
            "Received 'Hello, World from 1/answer/73'\n",
            "Sending 'Hello, World'...\n",
            "Sent\n",
            "Receiving...\n",
            "Received 'Hello, World from 2/answer/75'\n"
          ],
          "name": "stdout"
        },
        {
          "output_type": "stream",
          "text": [
            "15:08:01: Main    : before running thread\n",
            "15:08:01: Main    : wait for the thread to finish\n",
            "15:08:01: Main    : all done\n",
            "15:08:01: Main    : before creating thread\n"
          ],
          "name": "stderr"
        },
        {
          "output_type": "stream",
          "text": [
            "Sending 'Hello, World'...\n",
            "Sent\n",
            "Receiving...\n",
            "Received 'Hello, World from 3/answer/77'\n",
            "Sending 'Hello, World'...\n",
            "Sent\n",
            "Receiving...\n",
            "Received 'Hello, World from 1/answer/79'\n",
            "Sending 'Hello, World'...\n",
            "Sent\n",
            "Receiving...\n",
            "Received 'Hello, World from 2/answer/81'\n"
          ],
          "name": "stdout"
        },
        {
          "output_type": "stream",
          "text": [
            "15:08:02: Main    : before running thread\n",
            "15:08:02: Main    : wait for the thread to finish\n",
            "15:08:02: Main    : all done\n",
            "15:08:02: Main    : before creating thread\n"
          ],
          "name": "stderr"
        },
        {
          "output_type": "stream",
          "text": [
            "Sending 'Hello, World'...\n",
            "Sent\n",
            "Receiving...\n",
            "Received 'Hello, World from 3/answer/83'\n",
            "Sending 'Hello, World'...\n",
            "Sent\n",
            "Receiving...\n",
            "Received 'Hello, World from 1/answer/85'\n",
            "Sending 'Hello, World'...\n",
            "Sent\n",
            "Receiving...\n",
            "Received 'Hello, World from 2/answer/87'\n"
          ],
          "name": "stdout"
        },
        {
          "output_type": "stream",
          "text": [
            "15:08:04: Main    : before running thread\n",
            "15:08:04: Main    : wait for the thread to finish\n",
            "15:08:04: Main    : all done\n",
            "15:08:04: Main    : before creating thread\n"
          ],
          "name": "stderr"
        },
        {
          "output_type": "stream",
          "text": [
            "Sending 'Hello, World'...\n",
            "Sent\n",
            "Receiving...\n",
            "Received 'Hello, World from 3/answer/89'\n",
            "Sending 'Hello, World'...\n",
            "Sent\n",
            "Receiving...\n",
            "Received 'Hello, World from 1/answer/91'\n",
            "Sending 'Hello, World'...\n",
            "Sent\n",
            "Receiving...\n",
            "Received 'Hello, World from 2/answer/93'\n"
          ],
          "name": "stdout"
        },
        {
          "output_type": "stream",
          "text": [
            "15:08:05: Main    : before running thread\n",
            "15:08:05: Main    : wait for the thread to finish\n",
            "15:08:05: Main    : all done\n",
            "15:08:05: Main    : before creating thread\n"
          ],
          "name": "stderr"
        },
        {
          "output_type": "stream",
          "text": [
            "Sending 'Hello, World'...\n",
            "Sent\n",
            "Receiving...\n",
            "Received 'Hello, World from 3/answer/95'\n",
            "Sending 'Hello, World'...\n",
            "Sent\n",
            "Receiving...\n",
            "Received 'Hello, World from 1/answer/97'\n"
          ],
          "name": "stdout"
        },
        {
          "output_type": "error",
          "ename": "ConnectionRefusedError",
          "evalue": "ignored",
          "traceback": [
            "\u001b[0;31m---------------------------------------------------------------------------\u001b[0m",
            "\u001b[0;31mConnectionRefusedError\u001b[0m                    Traceback (most recent call last)",
            "\u001b[0;32m<ipython-input-19-247f8a9796e8>\u001b[0m in \u001b[0;36m<module>\u001b[0;34m()\u001b[0m\n\u001b[1;32m      6\u001b[0m   \u001b[0mlogging\u001b[0m\u001b[0;34m.\u001b[0m\u001b[0minfo\u001b[0m\u001b[0;34m(\u001b[0m\u001b[0;34m\"Main    : before creating thread\"\u001b[0m\u001b[0;34m)\u001b[0m\u001b[0;34m\u001b[0m\u001b[0;34m\u001b[0m\u001b[0m\n\u001b[1;32m      7\u001b[0m   \u001b[0mx\u001b[0m \u001b[0;34m=\u001b[0m \u001b[0mthreading\u001b[0m\u001b[0;34m.\u001b[0m\u001b[0mThread\u001b[0m\u001b[0;34m(\u001b[0m\u001b[0mtarget\u001b[0m\u001b[0;34m=\u001b[0m\u001b[0mhello_world\u001b[0m\u001b[0;34m(\u001b[0m\u001b[0;36m1\u001b[0m\u001b[0;34m)\u001b[0m\u001b[0;34m,\u001b[0m \u001b[0margs\u001b[0m\u001b[0;34m=\u001b[0m\u001b[0;34m(\u001b[0m\u001b[0;36m1\u001b[0m\u001b[0;34m,\u001b[0m\u001b[0;34m)\u001b[0m\u001b[0;34m)\u001b[0m\u001b[0;34m\u001b[0m\u001b[0;34m\u001b[0m\u001b[0m\n\u001b[0;32m----> 8\u001b[0;31m   \u001b[0my\u001b[0m \u001b[0;34m=\u001b[0m \u001b[0mthreading\u001b[0m\u001b[0;34m.\u001b[0m\u001b[0mThread\u001b[0m\u001b[0;34m(\u001b[0m\u001b[0mtarget\u001b[0m\u001b[0;34m=\u001b[0m\u001b[0mhello_world\u001b[0m\u001b[0;34m(\u001b[0m\u001b[0;36m2\u001b[0m\u001b[0;34m)\u001b[0m\u001b[0;34m,\u001b[0m \u001b[0margs\u001b[0m\u001b[0;34m=\u001b[0m\u001b[0;34m(\u001b[0m\u001b[0;36m2\u001b[0m\u001b[0;34m,\u001b[0m\u001b[0;34m)\u001b[0m\u001b[0;34m)\u001b[0m\u001b[0;34m\u001b[0m\u001b[0;34m\u001b[0m\u001b[0m\n\u001b[0m\u001b[1;32m      9\u001b[0m   \u001b[0mz\u001b[0m \u001b[0;34m=\u001b[0m \u001b[0mthreading\u001b[0m\u001b[0;34m.\u001b[0m\u001b[0mThread\u001b[0m\u001b[0;34m(\u001b[0m\u001b[0mtarget\u001b[0m\u001b[0;34m=\u001b[0m\u001b[0mhello_world\u001b[0m\u001b[0;34m(\u001b[0m\u001b[0;36m3\u001b[0m\u001b[0;34m)\u001b[0m\u001b[0;34m,\u001b[0m \u001b[0margs\u001b[0m\u001b[0;34m=\u001b[0m\u001b[0;34m(\u001b[0m\u001b[0;36m3\u001b[0m\u001b[0;34m,\u001b[0m\u001b[0;34m)\u001b[0m\u001b[0;34m)\u001b[0m\u001b[0;34m\u001b[0m\u001b[0;34m\u001b[0m\u001b[0m\n\u001b[1;32m     10\u001b[0m   \u001b[0mlogging\u001b[0m\u001b[0;34m.\u001b[0m\u001b[0minfo\u001b[0m\u001b[0;34m(\u001b[0m\u001b[0;34m\"Main    : before running thread\"\u001b[0m\u001b[0;34m)\u001b[0m\u001b[0;34m\u001b[0m\u001b[0;34m\u001b[0m\u001b[0m\n",
            "\u001b[0;32m<ipython-input-16-ddd63d8d4e75>\u001b[0m in \u001b[0;36mhello_world\u001b[0;34m(threadid)\u001b[0m\n\u001b[1;32m      1\u001b[0m \u001b[0;32mdef\u001b[0m \u001b[0mhello_world\u001b[0m\u001b[0;34m(\u001b[0m\u001b[0mthreadid\u001b[0m\u001b[0;34m)\u001b[0m\u001b[0;34m:\u001b[0m\u001b[0;34m\u001b[0m\u001b[0;34m\u001b[0m\u001b[0m\n\u001b[0;32m----> 2\u001b[0;31m   \u001b[0mws\u001b[0m \u001b[0;34m=\u001b[0m \u001b[0mcreate_connection\u001b[0m\u001b[0;34m(\u001b[0m\u001b[0muri\u001b[0m\u001b[0;34m)\u001b[0m\u001b[0;34m\u001b[0m\u001b[0;34m\u001b[0m\u001b[0m\n\u001b[0m\u001b[1;32m      3\u001b[0m   \u001b[0mprint\u001b[0m\u001b[0;34m(\u001b[0m\u001b[0;34m\"Sending 'Hello, World'...\"\u001b[0m\u001b[0;34m)\u001b[0m\u001b[0;34m\u001b[0m\u001b[0;34m\u001b[0m\u001b[0m\n\u001b[1;32m      4\u001b[0m   \u001b[0mmessage\u001b[0m \u001b[0;34m=\u001b[0m \u001b[0;34m\"Hello, World from \"\u001b[0m \u001b[0;34m+\u001b[0m \u001b[0mstr\u001b[0m\u001b[0;34m(\u001b[0m\u001b[0mthreadid\u001b[0m\u001b[0;34m)\u001b[0m\u001b[0;34m\u001b[0m\u001b[0;34m\u001b[0m\u001b[0m\n\u001b[1;32m      5\u001b[0m   \u001b[0mws\u001b[0m\u001b[0;34m.\u001b[0m\u001b[0msend\u001b[0m\u001b[0;34m(\u001b[0m\u001b[0mmessage\u001b[0m\u001b[0;34m)\u001b[0m\u001b[0;34m\u001b[0m\u001b[0;34m\u001b[0m\u001b[0m\n",
            "\u001b[0;32m/usr/local/lib/python3.6/dist-packages/websocket/_core.py\u001b[0m in \u001b[0;36mcreate_connection\u001b[0;34m(url, timeout, class_, **options)\u001b[0m\n\u001b[1;32m    513\u001b[0m                      skip_utf8_validation=skip_utf8_validation, **options)\n\u001b[1;32m    514\u001b[0m     \u001b[0mwebsock\u001b[0m\u001b[0;34m.\u001b[0m\u001b[0msettimeout\u001b[0m\u001b[0;34m(\u001b[0m\u001b[0mtimeout\u001b[0m \u001b[0;32mif\u001b[0m \u001b[0mtimeout\u001b[0m \u001b[0;32mis\u001b[0m \u001b[0;32mnot\u001b[0m \u001b[0;32mNone\u001b[0m \u001b[0;32melse\u001b[0m \u001b[0mgetdefaulttimeout\u001b[0m\u001b[0;34m(\u001b[0m\u001b[0;34m)\u001b[0m\u001b[0;34m)\u001b[0m\u001b[0;34m\u001b[0m\u001b[0;34m\u001b[0m\u001b[0m\n\u001b[0;32m--> 515\u001b[0;31m     \u001b[0mwebsock\u001b[0m\u001b[0;34m.\u001b[0m\u001b[0mconnect\u001b[0m\u001b[0;34m(\u001b[0m\u001b[0murl\u001b[0m\u001b[0;34m,\u001b[0m \u001b[0;34m**\u001b[0m\u001b[0moptions\u001b[0m\u001b[0;34m)\u001b[0m\u001b[0;34m\u001b[0m\u001b[0;34m\u001b[0m\u001b[0m\n\u001b[0m\u001b[1;32m    516\u001b[0m     \u001b[0;32mreturn\u001b[0m \u001b[0mwebsock\u001b[0m\u001b[0;34m\u001b[0m\u001b[0;34m\u001b[0m\u001b[0m\n",
            "\u001b[0;32m/usr/local/lib/python3.6/dist-packages/websocket/_core.py\u001b[0m in \u001b[0;36mconnect\u001b[0;34m(self, url, **options)\u001b[0m\n\u001b[1;32m    221\u001b[0m         \u001b[0mself\u001b[0m\u001b[0;34m.\u001b[0m\u001b[0msock_opt\u001b[0m\u001b[0;34m.\u001b[0m\u001b[0mtimeout\u001b[0m \u001b[0;34m=\u001b[0m \u001b[0moptions\u001b[0m\u001b[0;34m.\u001b[0m\u001b[0mget\u001b[0m\u001b[0;34m(\u001b[0m\u001b[0;34m'timeout'\u001b[0m\u001b[0;34m,\u001b[0m \u001b[0mself\u001b[0m\u001b[0;34m.\u001b[0m\u001b[0msock_opt\u001b[0m\u001b[0;34m.\u001b[0m\u001b[0mtimeout\u001b[0m\u001b[0;34m)\u001b[0m\u001b[0;34m\u001b[0m\u001b[0;34m\u001b[0m\u001b[0m\n\u001b[1;32m    222\u001b[0m         self.sock, addrs = connect(url, self.sock_opt, proxy_info(**options),\n\u001b[0;32m--> 223\u001b[0;31m                                    options.pop('socket', None))\n\u001b[0m\u001b[1;32m    224\u001b[0m \u001b[0;34m\u001b[0m\u001b[0m\n\u001b[1;32m    225\u001b[0m         \u001b[0;32mtry\u001b[0m\u001b[0;34m:\u001b[0m\u001b[0;34m\u001b[0m\u001b[0;34m\u001b[0m\u001b[0m\n",
            "\u001b[0;32m/usr/local/lib/python3.6/dist-packages/websocket/_http.py\u001b[0m in \u001b[0;36mconnect\u001b[0;34m(url, options, proxy, socket)\u001b[0m\n\u001b[1;32m    119\u001b[0m     \u001b[0msock\u001b[0m \u001b[0;34m=\u001b[0m \u001b[0;32mNone\u001b[0m\u001b[0;34m\u001b[0m\u001b[0;34m\u001b[0m\u001b[0m\n\u001b[1;32m    120\u001b[0m     \u001b[0;32mtry\u001b[0m\u001b[0;34m:\u001b[0m\u001b[0;34m\u001b[0m\u001b[0;34m\u001b[0m\u001b[0m\n\u001b[0;32m--> 121\u001b[0;31m         \u001b[0msock\u001b[0m \u001b[0;34m=\u001b[0m \u001b[0m_open_socket\u001b[0m\u001b[0;34m(\u001b[0m\u001b[0maddrinfo_list\u001b[0m\u001b[0;34m,\u001b[0m \u001b[0moptions\u001b[0m\u001b[0;34m.\u001b[0m\u001b[0msockopt\u001b[0m\u001b[0;34m,\u001b[0m \u001b[0moptions\u001b[0m\u001b[0;34m.\u001b[0m\u001b[0mtimeout\u001b[0m\u001b[0;34m)\u001b[0m\u001b[0;34m\u001b[0m\u001b[0;34m\u001b[0m\u001b[0m\n\u001b[0m\u001b[1;32m    122\u001b[0m         \u001b[0;32mif\u001b[0m \u001b[0mneed_tunnel\u001b[0m\u001b[0;34m:\u001b[0m\u001b[0;34m\u001b[0m\u001b[0;34m\u001b[0m\u001b[0m\n\u001b[1;32m    123\u001b[0m             \u001b[0msock\u001b[0m \u001b[0;34m=\u001b[0m \u001b[0m_tunnel\u001b[0m\u001b[0;34m(\u001b[0m\u001b[0msock\u001b[0m\u001b[0;34m,\u001b[0m \u001b[0mhostname\u001b[0m\u001b[0;34m,\u001b[0m \u001b[0mport\u001b[0m\u001b[0;34m,\u001b[0m \u001b[0mauth\u001b[0m\u001b[0;34m)\u001b[0m\u001b[0;34m\u001b[0m\u001b[0;34m\u001b[0m\u001b[0m\n",
            "\u001b[0;32m/usr/local/lib/python3.6/dist-packages/websocket/_http.py\u001b[0m in \u001b[0;36m_open_socket\u001b[0;34m(addrinfo_list, sockopt, timeout)\u001b[0m\n\u001b[1;32m    199\u001b[0m     \u001b[0;32melse\u001b[0m\u001b[0;34m:\u001b[0m\u001b[0;34m\u001b[0m\u001b[0;34m\u001b[0m\u001b[0m\n\u001b[1;32m    200\u001b[0m         \u001b[0;32mif\u001b[0m \u001b[0merr\u001b[0m\u001b[0;34m:\u001b[0m\u001b[0;34m\u001b[0m\u001b[0;34m\u001b[0m\u001b[0m\n\u001b[0;32m--> 201\u001b[0;31m             \u001b[0;32mraise\u001b[0m \u001b[0merr\u001b[0m\u001b[0;34m\u001b[0m\u001b[0;34m\u001b[0m\u001b[0m\n\u001b[0m\u001b[1;32m    202\u001b[0m \u001b[0;34m\u001b[0m\u001b[0m\n\u001b[1;32m    203\u001b[0m     \u001b[0;32mreturn\u001b[0m \u001b[0msock\u001b[0m\u001b[0;34m\u001b[0m\u001b[0;34m\u001b[0m\u001b[0m\n",
            "\u001b[0;32m/usr/local/lib/python3.6/dist-packages/websocket/_http.py\u001b[0m in \u001b[0;36m_open_socket\u001b[0;34m(addrinfo_list, sockopt, timeout)\u001b[0m\n\u001b[1;32m    174\u001b[0m         \u001b[0;32mwhile\u001b[0m \u001b[0;32mnot\u001b[0m \u001b[0merr\u001b[0m\u001b[0;34m:\u001b[0m\u001b[0;34m\u001b[0m\u001b[0;34m\u001b[0m\u001b[0m\n\u001b[1;32m    175\u001b[0m             \u001b[0;32mtry\u001b[0m\u001b[0;34m:\u001b[0m\u001b[0;34m\u001b[0m\u001b[0;34m\u001b[0m\u001b[0m\n\u001b[0;32m--> 176\u001b[0;31m                 \u001b[0msock\u001b[0m\u001b[0;34m.\u001b[0m\u001b[0mconnect\u001b[0m\u001b[0;34m(\u001b[0m\u001b[0maddress\u001b[0m\u001b[0;34m)\u001b[0m\u001b[0;34m\u001b[0m\u001b[0;34m\u001b[0m\u001b[0m\n\u001b[0m\u001b[1;32m    177\u001b[0m             \u001b[0;32mexcept\u001b[0m \u001b[0mProxyConnectionError\u001b[0m \u001b[0;32mas\u001b[0m \u001b[0merror\u001b[0m\u001b[0;34m:\u001b[0m\u001b[0;34m\u001b[0m\u001b[0;34m\u001b[0m\u001b[0m\n\u001b[1;32m    178\u001b[0m                 \u001b[0merr\u001b[0m \u001b[0;34m=\u001b[0m \u001b[0mWebSocketProxyException\u001b[0m\u001b[0;34m(\u001b[0m\u001b[0mstr\u001b[0m\u001b[0;34m(\u001b[0m\u001b[0merror\u001b[0m\u001b[0;34m)\u001b[0m\u001b[0;34m)\u001b[0m\u001b[0;34m\u001b[0m\u001b[0;34m\u001b[0m\u001b[0m\n",
            "\u001b[0;31mConnectionRefusedError\u001b[0m: [Errno 111] Connection refused"
          ]
        }
      ]
    }
  ]
}