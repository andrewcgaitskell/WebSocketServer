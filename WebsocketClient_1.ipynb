{
  "nbformat": 4,
  "nbformat_minor": 0,
  "metadata": {
    "colab": {
      "name": "WebsocketClient1.ipynb",
      "provenance": [],
      "collapsed_sections": [],
      "authorship_tag": "ABX9TyPDISr7qFmLbcxaLxxFB6ox",
      "include_colab_link": true
    },
    "kernelspec": {
      "name": "python3",
      "display_name": "Python 3"
    }
  },
  "cells": [
    {
      "cell_type": "markdown",
      "metadata": {
        "id": "view-in-github",
        "colab_type": "text"
      },
      "source": [
        "<a href=\"https://colab.research.google.com/github/andrewcgaitskell/WebSocketServer/blob/main/WebsocketClient_1.ipynb\" target=\"_parent\"><img src=\"https://colab.research.google.com/assets/colab-badge.svg\" alt=\"Open In Colab\"/></a>"
      ]
    },
    {
      "cell_type": "code",
      "metadata": {
        "id": "fyZpFSJEtB0q",
        "colab": {
          "base_uri": "https://localhost:8080/"
        },
        "outputId": "97474a0f-be88-46cf-9f39-990d78cac191"
      },
      "source": [
        "!pip install websocket_client "
      ],
      "execution_count": 15,
      "outputs": [
        {
          "output_type": "stream",
          "text": [
            "Requirement already satisfied: websocket_client in /usr/local/lib/python3.6/dist-packages (0.57.0)\n",
            "Requirement already satisfied: six in /usr/local/lib/python3.6/dist-packages (from websocket_client) (1.15.0)\n"
          ],
          "name": "stdout"
        }
      ]
    },
    {
      "cell_type": "code",
      "metadata": {
        "id": "Cq4QVzMnsCch"
      },
      "source": [
        "import logging\n",
        "import threading\n",
        "import time"
      ],
      "execution_count": 16,
      "outputs": []
    },
    {
      "cell_type": "code",
      "metadata": {
        "id": "vvNAOcLAstKF"
      },
      "source": [
        "from websocket import create_connection"
      ],
      "execution_count": 17,
      "outputs": []
    },
    {
      "cell_type": "code",
      "metadata": {
        "id": "QG-dJg-PsyAP"
      },
      "source": [
        "uri = \"ws://player2.acgtest.info:5010/ws/\"\n"
      ],
      "execution_count": 18,
      "outputs": []
    },
    {
      "cell_type": "code",
      "metadata": {
        "id": "u-SVT-fotLqo"
      },
      "source": [
        "def hello_world(threadid):\n",
        "  ws = create_connection(uri)\n",
        "  print(\"Sending 'Hello, World'...\")\n",
        "  message = \"Hello, World from \" + str(threadid)\n",
        "  ws.send(message)\n",
        "  print(\"Sent\")\n",
        "  print(\"Receiving...\")\n",
        "  result =  ws.recv()\n",
        "  print(\"Received '%s'\" % result)\n",
        "  ws.close()"
      ],
      "execution_count": 19,
      "outputs": []
    },
    {
      "cell_type": "code",
      "metadata": {
        "colab": {
          "base_uri": "https://localhost:8080/"
        },
        "id": "4d1slYbrtaBv",
        "outputId": "264a3ee7-c34a-40c7-b8bb-ab3465bfc0fe"
      },
      "source": [
        "hello_world(1)"
      ],
      "execution_count": 20,
      "outputs": [
        {
          "output_type": "stream",
          "text": [
            "Sending 'Hello, World'...\n",
            "Sent\n",
            "Receiving...\n",
            "Received 'Hello, World from 1/answer'\n"
          ],
          "name": "stdout"
        }
      ]
    },
    {
      "cell_type": "code",
      "metadata": {
        "id": "8PK8o7KIr-sn"
      },
      "source": [
        "def thread_function(name):\n",
        "    logging.info(\"Thread %s: starting\", name)\n",
        "    time.sleep(2)\n",
        "    logging.info(\"Thread %s: finishing\", name)\n",
        "\n"
      ],
      "execution_count": 21,
      "outputs": []
    },
    {
      "cell_type": "code",
      "metadata": {
        "colab": {
          "base_uri": "https://localhost:8080/",
          "height": 1000
        },
        "id": "iFdKRdWtsOaK",
        "outputId": "08b1ce41-11ef-49d6-fa66-265328bdcdd8"
      },
      "source": [
        "for q in range(0, 100):\n",
        "  format = \"%(asctime)s: %(message)s\"\n",
        "  logging.basicConfig(format=format, level=logging.INFO,\n",
        "                      datefmt=\"%H:%M:%S\")\n",
        "\n",
        "  logging.info(\"Main    : before creating thread\")\n",
        "  x = threading.Thread(target=hello_world(1), args=(1,))\n",
        "  y = threading.Thread(target=hello_world(2), args=(2,))\n",
        "  z = threading.Thread(target=hello_world(3), args=(3,))\n",
        "  logging.info(\"Main    : before running thread\")\n",
        "  x.start()\n",
        "  y.start()\n",
        "  z.start()\n",
        "  logging.info(\"Main    : wait for the thread to finish\")\n",
        "  # x.join()\n",
        "  logging.info(\"Main    : all done\")"
      ],
      "execution_count": 27,
      "outputs": [
        {
          "output_type": "stream",
          "text": [
            "15:07:55: Main    : before creating thread\n"
          ],
          "name": "stderr"
        },
        {
          "output_type": "stream",
          "text": [
            "Sending 'Hello, World'...\n",
            "Sent\n",
            "Receiving...\n",
            "Received 'Hello, World from 1/answer/42'\n",
            "Sending 'Hello, World'...\n",
            "Sent\n",
            "Receiving...\n",
            "Received 'Hello, World from 2/answer/44'\n"
          ],
          "name": "stdout"
        },
        {
          "output_type": "stream",
          "text": [
            "15:07:56: Main    : before running thread\n",
            "15:07:56: Main    : wait for the thread to finish\n",
            "15:07:56: Main    : all done\n",
            "15:07:56: Main    : before creating thread\n"
          ],
          "name": "stderr"
        },
        {
          "output_type": "stream",
          "text": [
            "Sending 'Hello, World'...\n",
            "Sent\n",
            "Receiving...\n",
            "Received 'Hello, World from 3/answer/46'\n",
            "Sending 'Hello, World'...\n",
            "Sent\n",
            "Receiving...\n",
            "Received 'Hello, World from 1/answer/48'\n",
            "Sending 'Hello, World'...\n",
            "Sent\n",
            "Receiving...\n",
            "Received 'Hello, World from 2/answer/50'\n"
          ],
          "name": "stdout"
        },
        {
          "output_type": "stream",
          "text": [
            "15:07:57: Main    : before running thread\n",
            "15:07:57: Main    : wait for the thread to finish\n",
            "15:07:57: Main    : all done\n",
            "15:07:57: Main    : before creating thread\n"
          ],
          "name": "stderr"
        },
        {
          "output_type": "stream",
          "text": [
            "Sending 'Hello, World'...\n",
            "Sent\n",
            "Receiving...\n",
            "Received 'Hello, World from 3/answer/52'\n",
            "Sending 'Hello, World'...\n",
            "Sent\n",
            "Receiving...\n",
            "Received 'Hello, World from 1/answer/54'\n",
            "Sending 'Hello, World'...\n",
            "Sent\n",
            "Receiving...\n",
            "Received 'Hello, World from 2/answer/56'\n"
          ],
          "name": "stdout"
        },
        {
          "output_type": "stream",
          "text": [
            "15:07:58: Main    : before running thread\n",
            "15:07:58: Main    : wait for the thread to finish\n",
            "15:07:58: Main    : all done\n",
            "15:07:58: Main    : before creating thread\n"
          ],
          "name": "stderr"
        },
        {
          "output_type": "stream",
          "text": [
            "Sending 'Hello, World'...\n",
            "Sent\n",
            "Receiving...\n",
            "Received 'Hello, World from 3/answer/58'\n",
            "Sending 'Hello, World'...\n",
            "Sent\n",
            "Receiving...\n",
            "Received 'Hello, World from 1/answer/60'\n",
            "Sending 'Hello, World'...\n",
            "Sent\n",
            "Receiving...\n",
            "Received 'Hello, World from 2/answer/62'\n"
          ],
          "name": "stdout"
        },
        {
          "output_type": "stream",
          "text": [
            "15:07:59: Main    : before running thread\n",
            "15:07:59: Main    : wait for the thread to finish\n",
            "15:07:59: Main    : all done\n",
            "15:07:59: Main    : before creating thread\n"
          ],
          "name": "stderr"
        },
        {
          "output_type": "stream",
          "text": [
            "Sending 'Hello, World'...\n",
            "Sent\n",
            "Receiving...\n",
            "Received 'Hello, World from 3/answer/64'\n",
            "Sending 'Hello, World'...\n",
            "Sent\n",
            "Receiving...\n",
            "Received 'Hello, World from 1/answer/66'\n",
            "Sending 'Hello, World'...\n",
            "Sent\n",
            "Receiving...\n",
            "Received 'Hello, World from 2/answer/68'\n"
          ],
          "name": "stdout"
        },
        {
          "output_type": "stream",
          "text": [
            "15:08:00: Main    : before running thread\n",
            "15:08:00: Main    : wait for the thread to finish\n",
            "15:08:00: Main    : all done\n",
            "15:08:00: Main    : before creating thread\n"
          ],
          "name": "stderr"
        },
        {
          "output_type": "stream",
          "text": [
            "Sending 'Hello, World'...\n",
            "Sent\n",
            "Receiving...\n",
            "Received 'Hello, World from 3/answer/70'\n",
            "Sending 'Hello, World'...\n",
            "Sent\n",
            "Receiving...\n",
            "Received 'Hello, World from 1/answer/72'\n",
            "Sending 'Hello, World'...\n",
            "Sent\n",
            "Receiving...\n",
            "Received 'Hello, World from 2/answer/74'\n"
          ],
          "name": "stdout"
        },
        {
          "output_type": "stream",
          "text": [
            "15:08:01: Main    : before running thread\n",
            "15:08:01: Main    : wait for the thread to finish\n",
            "15:08:01: Main    : all done\n",
            "15:08:01: Main    : before creating thread\n"
          ],
          "name": "stderr"
        },
        {
          "output_type": "stream",
          "text": [
            "Sending 'Hello, World'...\n",
            "Sent\n",
            "Receiving...\n",
            "Received 'Hello, World from 3/answer/76'\n",
            "Sending 'Hello, World'...\n",
            "Sent\n",
            "Receiving...\n",
            "Received 'Hello, World from 1/answer/78'\n",
            "Sending 'Hello, World'...\n",
            "Sent\n",
            "Receiving...\n",
            "Received 'Hello, World from 2/answer/80'\n"
          ],
          "name": "stdout"
        },
        {
          "output_type": "stream",
          "text": [
            "15:08:02: Main    : before running thread\n",
            "15:08:02: Main    : wait for the thread to finish\n",
            "15:08:02: Main    : all done\n",
            "15:08:02: Main    : before creating thread\n"
          ],
          "name": "stderr"
        },
        {
          "output_type": "stream",
          "text": [
            "Sending 'Hello, World'...\n",
            "Sent\n",
            "Receiving...\n",
            "Received 'Hello, World from 3/answer/82'\n",
            "Sending 'Hello, World'...\n",
            "Sent\n",
            "Receiving...\n",
            "Received 'Hello, World from 1/answer/84'\n",
            "Sending 'Hello, World'...\n",
            "Sent\n",
            "Receiving...\n",
            "Received 'Hello, World from 2/answer/86'\n"
          ],
          "name": "stdout"
        },
        {
          "output_type": "stream",
          "text": [
            "15:08:03: Main    : before running thread\n",
            "15:08:03: Main    : wait for the thread to finish\n",
            "15:08:03: Main    : all done\n",
            "15:08:03: Main    : before creating thread\n"
          ],
          "name": "stderr"
        },
        {
          "output_type": "stream",
          "text": [
            "Sending 'Hello, World'...\n",
            "Sent\n",
            "Receiving...\n",
            "Received 'Hello, World from 3/answer/88'\n",
            "Sending 'Hello, World'...\n",
            "Sent\n",
            "Receiving...\n",
            "Received 'Hello, World from 1/answer/90'\n",
            "Sending 'Hello, World'...\n",
            "Sent\n",
            "Receiving...\n",
            "Received 'Hello, World from 2/answer/92'\n"
          ],
          "name": "stdout"
        },
        {
          "output_type": "stream",
          "text": [
            "15:08:04: Main    : before running thread\n",
            "15:08:04: Main    : wait for the thread to finish\n",
            "15:08:04: Main    : all done\n",
            "15:08:04: Main    : before creating thread\n"
          ],
          "name": "stderr"
        },
        {
          "output_type": "stream",
          "text": [
            "Sending 'Hello, World'...\n",
            "Sent\n",
            "Receiving...\n",
            "Received 'Hello, World from 3/answer/94'\n",
            "Sending 'Hello, World'...\n",
            "Sent\n",
            "Receiving...\n",
            "Received 'Hello, World from 1/answer/96'\n",
            "Sending 'Hello, World'...\n",
            "Sent\n",
            "Receiving...\n",
            "Received 'Hello, World from 2/answer/98'\n"
          ],
          "name": "stdout"
        },
        {
          "output_type": "stream",
          "text": [
            "15:08:05: Main    : before running thread\n",
            "15:08:05: Main    : wait for the thread to finish\n",
            "15:08:05: Main    : all done\n",
            "15:08:05: Main    : before creating thread\n"
          ],
          "name": "stderr"
        },
        {
          "output_type": "stream",
          "text": [
            "Sending 'Hello, World'...\n",
            "Sent\n",
            "Receiving...\n",
            "Received 'Hello, World from 3/answer/2'\n",
            "Sending 'Hello, World'...\n",
            "Sent\n",
            "Receiving...\n",
            "Received 'Hello, World from 1/answer/3'\n",
            "Sending 'Hello, World'...\n",
            "Sent\n",
            "Receiving...\n",
            "Received 'Hello, World from 2/answer/4'\n"
          ],
          "name": "stdout"
        },
        {
          "output_type": "stream",
          "text": [
            "15:08:07: Main    : before running thread\n",
            "15:08:07: Main    : wait for the thread to finish\n",
            "15:08:07: Main    : all done\n",
            "15:08:07: Main    : before creating thread\n"
          ],
          "name": "stderr"
        },
        {
          "output_type": "stream",
          "text": [
            "Sending 'Hello, World'...\n",
            "Sent\n",
            "Receiving...\n",
            "Received 'Hello, World from 3/answer/5'\n",
            "Sending 'Hello, World'...\n",
            "Sent\n",
            "Receiving...\n",
            "Received 'Hello, World from 1/answer/6'\n",
            "Sending 'Hello, World'...\n",
            "Sent\n",
            "Receiving...\n",
            "Received 'Hello, World from 2/answer/7'\n"
          ],
          "name": "stdout"
        },
        {
          "output_type": "stream",
          "text": [
            "15:08:08: Main    : before running thread\n",
            "15:08:08: Main    : wait for the thread to finish\n",
            "15:08:08: Main    : all done\n",
            "15:08:08: Main    : before creating thread\n"
          ],
          "name": "stderr"
        },
        {
          "output_type": "stream",
          "text": [
            "Sending 'Hello, World'...\n",
            "Sent\n",
            "Receiving...\n",
            "Received 'Hello, World from 3/answer/8'\n",
            "Sending 'Hello, World'...\n",
            "Sent\n",
            "Receiving...\n",
            "Received 'Hello, World from 1/answer/9'\n",
            "Sending 'Hello, World'...\n",
            "Sent\n",
            "Receiving...\n",
            "Received 'Hello, World from 2/answer/10'\n"
          ],
          "name": "stdout"
        },
        {
          "output_type": "stream",
          "text": [
            "15:08:09: Main    : before running thread\n",
            "15:08:09: Main    : wait for the thread to finish\n",
            "15:08:09: Main    : all done\n",
            "15:08:09: Main    : before creating thread\n"
          ],
          "name": "stderr"
        },
        {
          "output_type": "stream",
          "text": [
            "Sending 'Hello, World'...\n",
            "Sent\n",
            "Receiving...\n",
            "Received 'Hello, World from 3/answer/11'\n",
            "Sending 'Hello, World'...\n",
            "Sent\n",
            "Receiving...\n",
            "Received 'Hello, World from 1/answer/12'\n",
            "Sending 'Hello, World'...\n",
            "Sent\n",
            "Receiving...\n",
            "Received 'Hello, World from 2/answer/13'\n"
          ],
          "name": "stdout"
        },
        {
          "output_type": "stream",
          "text": [
            "15:08:10: Main    : before running thread\n",
            "15:08:10: Main    : wait for the thread to finish\n",
            "15:08:10: Main    : all done\n",
            "15:08:10: Main    : before creating thread\n"
          ],
          "name": "stderr"
        },
        {
          "output_type": "stream",
          "text": [
            "Sending 'Hello, World'...\n",
            "Sent\n",
            "Receiving...\n",
            "Received 'Hello, World from 3/answer/14'\n",
            "Sending 'Hello, World'...\n",
            "Sent\n",
            "Receiving...\n",
            "Received 'Hello, World from 1/answer/15'\n",
            "Sending 'Hello, World'...\n",
            "Sent\n",
            "Receiving...\n",
            "Received 'Hello, World from 2/answer/16'\n"
          ],
          "name": "stdout"
        },
        {
          "output_type": "stream",
          "text": [
            "15:08:11: Main    : before running thread\n",
            "15:08:11: Main    : wait for the thread to finish\n",
            "15:08:11: Main    : all done\n",
            "15:08:11: Main    : before creating thread\n"
          ],
          "name": "stderr"
        },
        {
          "output_type": "stream",
          "text": [
            "Sending 'Hello, World'...\n",
            "Sent\n",
            "Receiving...\n",
            "Received 'Hello, World from 3/answer/17'\n",
            "Sending 'Hello, World'...\n",
            "Sent\n",
            "Receiving...\n",
            "Received 'Hello, World from 1/answer/18'\n",
            "Sending 'Hello, World'...\n",
            "Sent\n",
            "Receiving...\n",
            "Received 'Hello, World from 2/answer/19'\n"
          ],
          "name": "stdout"
        },
        {
          "output_type": "stream",
          "text": [
            "15:08:12: Main    : before running thread\n",
            "15:08:12: Main    : wait for the thread to finish\n",
            "15:08:12: Main    : all done\n",
            "15:08:12: Main    : before creating thread\n"
          ],
          "name": "stderr"
        },
        {
          "output_type": "stream",
          "text": [
            "Sending 'Hello, World'...\n",
            "Sent\n",
            "Receiving...\n",
            "Received 'Hello, World from 3/answer/20'\n",
            "Sending 'Hello, World'...\n",
            "Sent\n",
            "Receiving...\n",
            "Received 'Hello, World from 1/answer/21'\n",
            "Sending 'Hello, World'...\n",
            "Sent\n",
            "Receiving...\n",
            "Received 'Hello, World from 2/answer/22'\n"
          ],
          "name": "stdout"
        },
        {
          "output_type": "stream",
          "text": [
            "15:08:13: Main    : before running thread\n",
            "15:08:13: Main    : wait for the thread to finish\n",
            "15:08:13: Main    : all done\n",
            "15:08:13: Main    : before creating thread\n"
          ],
          "name": "stderr"
        },
        {
          "output_type": "stream",
          "text": [
            "Sending 'Hello, World'...\n",
            "Sent\n",
            "Receiving...\n",
            "Received 'Hello, World from 3/answer/23'\n",
            "Sending 'Hello, World'...\n",
            "Sent\n",
            "Receiving...\n",
            "Received 'Hello, World from 1/answer/24'\n",
            "Sending 'Hello, World'...\n",
            "Sent\n",
            "Receiving...\n",
            "Received 'Hello, World from 2/answer/25'\n"
          ],
          "name": "stdout"
        },
        {
          "output_type": "stream",
          "text": [
            "15:08:14: Main    : before running thread\n",
            "15:08:14: Main    : wait for the thread to finish\n",
            "15:08:14: Main    : all done\n",
            "15:08:14: Main    : before creating thread\n"
          ],
          "name": "stderr"
        },
        {
          "output_type": "stream",
          "text": [
            "Sending 'Hello, World'...\n",
            "Sent\n",
            "Receiving...\n",
            "Received 'Hello, World from 3/answer/26'\n",
            "Sending 'Hello, World'...\n",
            "Sent\n",
            "Receiving...\n",
            "Received 'Hello, World from 1/answer/27'\n",
            "Sending 'Hello, World'...\n",
            "Sent\n",
            "Receiving...\n",
            "Received 'Hello, World from 2/answer/28'\n"
          ],
          "name": "stdout"
        },
        {
          "output_type": "stream",
          "text": [
            "15:08:15: Main    : before running thread\n",
            "15:08:15: Main    : wait for the thread to finish\n",
            "15:08:15: Main    : all done\n",
            "15:08:15: Main    : before creating thread\n"
          ],
          "name": "stderr"
        },
        {
          "output_type": "stream",
          "text": [
            "Sending 'Hello, World'...\n",
            "Sent\n",
            "Receiving...\n",
            "Received 'Hello, World from 3/answer/29'\n",
            "Sending 'Hello, World'...\n",
            "Sent\n",
            "Receiving...\n",
            "Received 'Hello, World from 1/answer/30'\n",
            "Sending 'Hello, World'...\n",
            "Sent\n",
            "Receiving...\n",
            "Received 'Hello, World from 2/answer/31'\n"
          ],
          "name": "stdout"
        },
        {
          "output_type": "stream",
          "text": [
            "15:08:16: Main    : before running thread\n",
            "15:08:16: Main    : wait for the thread to finish\n",
            "15:08:16: Main    : all done\n",
            "15:08:16: Main    : before creating thread\n"
          ],
          "name": "stderr"
        },
        {
          "output_type": "stream",
          "text": [
            "Sending 'Hello, World'...\n",
            "Sent\n",
            "Receiving...\n",
            "Received 'Hello, World from 3/answer/32'\n",
            "Sending 'Hello, World'...\n",
            "Sent\n",
            "Receiving...\n",
            "Received 'Hello, World from 1/answer/33'\n",
            "Sending 'Hello, World'...\n",
            "Sent\n",
            "Receiving...\n",
            "Received 'Hello, World from 2/answer/34'\n"
          ],
          "name": "stdout"
        },
        {
          "output_type": "stream",
          "text": [
            "15:08:17: Main    : before running thread\n",
            "15:08:17: Main    : wait for the thread to finish\n",
            "15:08:17: Main    : all done\n",
            "15:08:17: Main    : before creating thread\n"
          ],
          "name": "stderr"
        },
        {
          "output_type": "stream",
          "text": [
            "Sending 'Hello, World'...\n",
            "Sent\n",
            "Receiving...\n",
            "Received 'Hello, World from 3/answer/35'\n",
            "Sending 'Hello, World'...\n",
            "Sent\n",
            "Receiving...\n",
            "Received 'Hello, World from 1/answer/36'\n",
            "Sending 'Hello, World'...\n",
            "Sent\n",
            "Receiving...\n",
            "Received 'Hello, World from 2/answer/37'\n"
          ],
          "name": "stdout"
        },
        {
          "output_type": "stream",
          "text": [
            "15:08:18: Main    : before running thread\n",
            "15:08:18: Main    : wait for the thread to finish\n",
            "15:08:18: Main    : all done\n",
            "15:08:18: Main    : before creating thread\n"
          ],
          "name": "stderr"
        },
        {
          "output_type": "stream",
          "text": [
            "Sending 'Hello, World'...\n",
            "Sent\n",
            "Receiving...\n",
            "Received 'Hello, World from 3/answer/38'\n",
            "Sending 'Hello, World'...\n",
            "Sent\n",
            "Receiving...\n",
            "Received 'Hello, World from 1/answer/39'\n",
            "Sending 'Hello, World'...\n",
            "Sent\n",
            "Receiving...\n",
            "Received 'Hello, World from 2/answer/40'\n"
          ],
          "name": "stdout"
        },
        {
          "output_type": "stream",
          "text": [
            "15:08:20: Main    : before running thread\n",
            "15:08:20: Main    : wait for the thread to finish\n",
            "15:08:20: Main    : all done\n",
            "15:08:20: Main    : before creating thread\n"
          ],
          "name": "stderr"
        },
        {
          "output_type": "stream",
          "text": [
            "Sending 'Hello, World'...\n",
            "Sent\n",
            "Receiving...\n",
            "Received 'Hello, World from 3/answer/41'\n",
            "Sending 'Hello, World'...\n",
            "Sent\n",
            "Receiving...\n",
            "Received 'Hello, World from 1/answer/42'\n",
            "Sending 'Hello, World'...\n",
            "Sent\n",
            "Receiving...\n",
            "Received 'Hello, World from 2/answer/43'\n"
          ],
          "name": "stdout"
        },
        {
          "output_type": "stream",
          "text": [
            "15:08:21: Main    : before running thread\n",
            "15:08:21: Main    : wait for the thread to finish\n",
            "15:08:21: Main    : all done\n",
            "15:08:21: Main    : before creating thread\n"
          ],
          "name": "stderr"
        },
        {
          "output_type": "stream",
          "text": [
            "Sending 'Hello, World'...\n",
            "Sent\n",
            "Receiving...\n",
            "Received 'Hello, World from 3/answer/44'\n",
            "Sending 'Hello, World'...\n",
            "Sent\n",
            "Receiving...\n",
            "Received 'Hello, World from 1/answer/45'\n",
            "Sending 'Hello, World'...\n",
            "Sent\n",
            "Receiving...\n",
            "Received 'Hello, World from 2/answer/46'\n"
          ],
          "name": "stdout"
        },
        {
          "output_type": "stream",
          "text": [
            "15:08:22: Main    : before running thread\n",
            "15:08:22: Main    : wait for the thread to finish\n",
            "15:08:22: Main    : all done\n",
            "15:08:22: Main    : before creating thread\n"
          ],
          "name": "stderr"
        },
        {
          "output_type": "stream",
          "text": [
            "Sending 'Hello, World'...\n",
            "Sent\n",
            "Receiving...\n",
            "Received 'Hello, World from 3/answer/47'\n",
            "Sending 'Hello, World'...\n",
            "Sent\n",
            "Receiving...\n",
            "Received 'Hello, World from 1/answer/48'\n",
            "Sending 'Hello, World'...\n",
            "Sent\n",
            "Receiving...\n",
            "Received 'Hello, World from 2/answer/49'\n"
          ],
          "name": "stdout"
        },
        {
          "output_type": "stream",
          "text": [
            "15:08:23: Main    : before running thread\n",
            "15:08:23: Main    : wait for the thread to finish\n",
            "15:08:23: Main    : all done\n",
            "15:08:23: Main    : before creating thread\n"
          ],
          "name": "stderr"
        },
        {
          "output_type": "stream",
          "text": [
            "Sending 'Hello, World'...\n",
            "Sent\n",
            "Receiving...\n",
            "Received 'Hello, World from 3/answer/50'\n",
            "Sending 'Hello, World'...\n",
            "Sent\n",
            "Receiving...\n",
            "Received 'Hello, World from 1/answer/51'\n",
            "Sending 'Hello, World'...\n",
            "Sent\n",
            "Receiving...\n",
            "Received 'Hello, World from 2/answer/52'\n"
          ],
          "name": "stdout"
        },
        {
          "output_type": "stream",
          "text": [
            "15:08:24: Main    : before running thread\n",
            "15:08:24: Main    : wait for the thread to finish\n",
            "15:08:24: Main    : all done\n",
            "15:08:24: Main    : before creating thread\n"
          ],
          "name": "stderr"
        },
        {
          "output_type": "stream",
          "text": [
            "Sending 'Hello, World'...\n",
            "Sent\n",
            "Receiving...\n",
            "Received 'Hello, World from 3/answer/53'\n",
            "Sending 'Hello, World'...\n",
            "Sent\n",
            "Receiving...\n",
            "Received 'Hello, World from 1/answer/54'\n",
            "Sending 'Hello, World'...\n",
            "Sent\n",
            "Receiving...\n",
            "Received 'Hello, World from 2/answer/55'\n"
          ],
          "name": "stdout"
        },
        {
          "output_type": "stream",
          "text": [
            "15:08:25: Main    : before running thread\n",
            "15:08:25: Main    : wait for the thread to finish\n",
            "15:08:25: Main    : all done\n",
            "15:08:25: Main    : before creating thread\n"
          ],
          "name": "stderr"
        },
        {
          "output_type": "stream",
          "text": [
            "Sending 'Hello, World'...\n",
            "Sent\n",
            "Receiving...\n",
            "Received 'Hello, World from 3/answer/56'\n",
            "Sending 'Hello, World'...\n",
            "Sent\n",
            "Receiving...\n",
            "Received 'Hello, World from 1/answer/57'\n",
            "Sending 'Hello, World'...\n",
            "Sent\n",
            "Receiving...\n",
            "Received 'Hello, World from 2/answer/58'\n"
          ],
          "name": "stdout"
        },
        {
          "output_type": "stream",
          "text": [
            "15:08:26: Main    : before running thread\n",
            "15:08:26: Main    : wait for the thread to finish\n",
            "15:08:26: Main    : all done\n",
            "15:08:26: Main    : before creating thread\n"
          ],
          "name": "stderr"
        },
        {
          "output_type": "stream",
          "text": [
            "Sending 'Hello, World'...\n",
            "Sent\n",
            "Receiving...\n",
            "Received 'Hello, World from 3/answer/59'\n",
            "Sending 'Hello, World'...\n",
            "Sent\n",
            "Receiving...\n",
            "Received 'Hello, World from 1/answer/60'\n",
            "Sending 'Hello, World'...\n",
            "Sent\n",
            "Receiving...\n",
            "Received 'Hello, World from 2/answer/61'\n"
          ],
          "name": "stdout"
        },
        {
          "output_type": "stream",
          "text": [
            "15:08:27: Main    : before running thread\n",
            "15:08:27: Main    : wait for the thread to finish\n",
            "15:08:27: Main    : all done\n",
            "15:08:27: Main    : before creating thread\n"
          ],
          "name": "stderr"
        },
        {
          "output_type": "stream",
          "text": [
            "Sending 'Hello, World'...\n",
            "Sent\n",
            "Receiving...\n",
            "Received 'Hello, World from 3/answer/62'\n",
            "Sending 'Hello, World'...\n",
            "Sent\n",
            "Receiving...\n",
            "Received 'Hello, World from 1/answer/63'\n",
            "Sending 'Hello, World'...\n",
            "Sent\n",
            "Receiving...\n",
            "Received 'Hello, World from 2/answer/64'\n"
          ],
          "name": "stdout"
        },
        {
          "output_type": "stream",
          "text": [
            "15:08:28: Main    : before running thread\n",
            "15:08:28: Main    : wait for the thread to finish\n",
            "15:08:28: Main    : all done\n",
            "15:08:28: Main    : before creating thread\n"
          ],
          "name": "stderr"
        },
        {
          "output_type": "stream",
          "text": [
            "Sending 'Hello, World'...\n",
            "Sent\n",
            "Receiving...\n",
            "Received 'Hello, World from 3/answer/65'\n",
            "Sending 'Hello, World'...\n",
            "Sent\n",
            "Receiving...\n",
            "Received 'Hello, World from 1/answer/66'\n",
            "Sending 'Hello, World'...\n",
            "Sent\n",
            "Receiving...\n",
            "Received 'Hello, World from 2/answer/67'\n"
          ],
          "name": "stdout"
        },
        {
          "output_type": "stream",
          "text": [
            "15:08:29: Main    : before running thread\n",
            "15:08:29: Main    : wait for the thread to finish\n",
            "15:08:29: Main    : all done\n",
            "15:08:29: Main    : before creating thread\n"
          ],
          "name": "stderr"
        },
        {
          "output_type": "stream",
          "text": [
            "Sending 'Hello, World'...\n",
            "Sent\n",
            "Receiving...\n",
            "Received 'Hello, World from 3/answer/68'\n",
            "Sending 'Hello, World'...\n",
            "Sent\n",
            "Receiving...\n",
            "Received 'Hello, World from 1/answer/69'\n",
            "Sending 'Hello, World'...\n",
            "Sent\n",
            "Receiving...\n",
            "Received 'Hello, World from 2/answer/70'\n"
          ],
          "name": "stdout"
        },
        {
          "output_type": "stream",
          "text": [
            "15:08:30: Main    : before running thread\n",
            "15:08:30: Main    : wait for the thread to finish\n",
            "15:08:30: Main    : all done\n",
            "15:08:30: Main    : before creating thread\n"
          ],
          "name": "stderr"
        },
        {
          "output_type": "stream",
          "text": [
            "Sending 'Hello, World'...\n",
            "Sent\n",
            "Receiving...\n",
            "Received 'Hello, World from 3/answer/71'\n",
            "Sending 'Hello, World'...\n",
            "Sent\n",
            "Receiving...\n",
            "Received 'Hello, World from 1/answer/72'\n",
            "Sending 'Hello, World'...\n",
            "Sent\n",
            "Receiving...\n",
            "Received 'Hello, World from 2/answer/73'\n"
          ],
          "name": "stdout"
        },
        {
          "output_type": "stream",
          "text": [
            "15:08:31: Main    : before running thread\n",
            "15:08:31: Main    : wait for the thread to finish\n",
            "15:08:31: Main    : all done\n",
            "15:08:31: Main    : before creating thread\n"
          ],
          "name": "stderr"
        },
        {
          "output_type": "stream",
          "text": [
            "Sending 'Hello, World'...\n",
            "Sent\n",
            "Receiving...\n",
            "Received 'Hello, World from 3/answer/74'\n",
            "Sending 'Hello, World'...\n",
            "Sent\n",
            "Receiving...\n",
            "Received 'Hello, World from 1/answer/75'\n",
            "Sending 'Hello, World'...\n",
            "Sent\n",
            "Receiving...\n",
            "Received 'Hello, World from 2/answer/76'\n"
          ],
          "name": "stdout"
        },
        {
          "output_type": "stream",
          "text": [
            "15:08:32: Main    : before running thread\n",
            "15:08:32: Main    : wait for the thread to finish\n",
            "15:08:33: Main    : all done\n",
            "15:08:33: Main    : before creating thread\n"
          ],
          "name": "stderr"
        },
        {
          "output_type": "stream",
          "text": [
            "Sending 'Hello, World'...\n",
            "Sent\n",
            "Receiving...\n",
            "Received 'Hello, World from 3/answer/77'\n",
            "Sending 'Hello, World'...\n",
            "Sent\n",
            "Receiving...\n",
            "Received 'Hello, World from 1/answer/78'\n",
            "Sending 'Hello, World'...\n",
            "Sent\n",
            "Receiving...\n",
            "Received 'Hello, World from 2/answer/79'\n"
          ],
          "name": "stdout"
        },
        {
          "output_type": "stream",
          "text": [
            "15:08:34: Main    : before running thread\n",
            "15:08:34: Main    : wait for the thread to finish\n",
            "15:08:34: Main    : all done\n",
            "15:08:34: Main    : before creating thread\n"
          ],
          "name": "stderr"
        },
        {
          "output_type": "stream",
          "text": [
            "Sending 'Hello, World'...\n",
            "Sent\n",
            "Receiving...\n",
            "Received 'Hello, World from 3/answer/80'\n",
            "Sending 'Hello, World'...\n",
            "Sent\n",
            "Receiving...\n",
            "Received 'Hello, World from 1/answer/81'\n",
            "Sending 'Hello, World'...\n",
            "Sent\n",
            "Receiving...\n",
            "Received 'Hello, World from 2/answer/82'\n"
          ],
          "name": "stdout"
        },
        {
          "output_type": "stream",
          "text": [
            "15:08:35: Main    : before running thread\n",
            "15:08:35: Main    : wait for the thread to finish\n",
            "15:08:35: Main    : all done\n",
            "15:08:35: Main    : before creating thread\n"
          ],
          "name": "stderr"
        },
        {
          "output_type": "stream",
          "text": [
            "Sending 'Hello, World'...\n",
            "Sent\n",
            "Receiving...\n",
            "Received 'Hello, World from 3/answer/83'\n",
            "Sending 'Hello, World'...\n",
            "Sent\n",
            "Receiving...\n",
            "Received 'Hello, World from 1/answer/84'\n"
          ],
          "name": "stdout"
        },
        {
          "output_type": "error",
          "ename": "ConnectionResetError",
          "evalue": "ignored",
          "traceback": [
            "\u001b[0;31m---------------------------------------------------------------------------\u001b[0m",
            "\u001b[0;31mConnectionResetError\u001b[0m                      Traceback (most recent call last)",
            "\u001b[0;32m<ipython-input-27-247f8a9796e8>\u001b[0m in \u001b[0;36m<module>\u001b[0;34m()\u001b[0m\n\u001b[1;32m      6\u001b[0m   \u001b[0mlogging\u001b[0m\u001b[0;34m.\u001b[0m\u001b[0minfo\u001b[0m\u001b[0;34m(\u001b[0m\u001b[0;34m\"Main    : before creating thread\"\u001b[0m\u001b[0;34m)\u001b[0m\u001b[0;34m\u001b[0m\u001b[0;34m\u001b[0m\u001b[0m\n\u001b[1;32m      7\u001b[0m   \u001b[0mx\u001b[0m \u001b[0;34m=\u001b[0m \u001b[0mthreading\u001b[0m\u001b[0;34m.\u001b[0m\u001b[0mThread\u001b[0m\u001b[0;34m(\u001b[0m\u001b[0mtarget\u001b[0m\u001b[0;34m=\u001b[0m\u001b[0mhello_world\u001b[0m\u001b[0;34m(\u001b[0m\u001b[0;36m1\u001b[0m\u001b[0;34m)\u001b[0m\u001b[0;34m,\u001b[0m \u001b[0margs\u001b[0m\u001b[0;34m=\u001b[0m\u001b[0;34m(\u001b[0m\u001b[0;36m1\u001b[0m\u001b[0;34m,\u001b[0m\u001b[0;34m)\u001b[0m\u001b[0;34m)\u001b[0m\u001b[0;34m\u001b[0m\u001b[0;34m\u001b[0m\u001b[0m\n\u001b[0;32m----> 8\u001b[0;31m   \u001b[0my\u001b[0m \u001b[0;34m=\u001b[0m \u001b[0mthreading\u001b[0m\u001b[0;34m.\u001b[0m\u001b[0mThread\u001b[0m\u001b[0;34m(\u001b[0m\u001b[0mtarget\u001b[0m\u001b[0;34m=\u001b[0m\u001b[0mhello_world\u001b[0m\u001b[0;34m(\u001b[0m\u001b[0;36m2\u001b[0m\u001b[0;34m)\u001b[0m\u001b[0;34m,\u001b[0m \u001b[0margs\u001b[0m\u001b[0;34m=\u001b[0m\u001b[0;34m(\u001b[0m\u001b[0;36m2\u001b[0m\u001b[0;34m,\u001b[0m\u001b[0;34m)\u001b[0m\u001b[0;34m)\u001b[0m\u001b[0;34m\u001b[0m\u001b[0;34m\u001b[0m\u001b[0m\n\u001b[0m\u001b[1;32m      9\u001b[0m   \u001b[0mz\u001b[0m \u001b[0;34m=\u001b[0m \u001b[0mthreading\u001b[0m\u001b[0;34m.\u001b[0m\u001b[0mThread\u001b[0m\u001b[0;34m(\u001b[0m\u001b[0mtarget\u001b[0m\u001b[0;34m=\u001b[0m\u001b[0mhello_world\u001b[0m\u001b[0;34m(\u001b[0m\u001b[0;36m3\u001b[0m\u001b[0;34m)\u001b[0m\u001b[0;34m,\u001b[0m \u001b[0margs\u001b[0m\u001b[0;34m=\u001b[0m\u001b[0;34m(\u001b[0m\u001b[0;36m3\u001b[0m\u001b[0;34m,\u001b[0m\u001b[0;34m)\u001b[0m\u001b[0;34m)\u001b[0m\u001b[0;34m\u001b[0m\u001b[0;34m\u001b[0m\u001b[0m\n\u001b[1;32m     10\u001b[0m   \u001b[0mlogging\u001b[0m\u001b[0;34m.\u001b[0m\u001b[0minfo\u001b[0m\u001b[0;34m(\u001b[0m\u001b[0;34m\"Main    : before running thread\"\u001b[0m\u001b[0;34m)\u001b[0m\u001b[0;34m\u001b[0m\u001b[0;34m\u001b[0m\u001b[0m\n",
            "\u001b[0;32m<ipython-input-19-ddd63d8d4e75>\u001b[0m in \u001b[0;36mhello_world\u001b[0;34m(threadid)\u001b[0m\n\u001b[1;32m      1\u001b[0m \u001b[0;32mdef\u001b[0m \u001b[0mhello_world\u001b[0m\u001b[0;34m(\u001b[0m\u001b[0mthreadid\u001b[0m\u001b[0;34m)\u001b[0m\u001b[0;34m:\u001b[0m\u001b[0;34m\u001b[0m\u001b[0;34m\u001b[0m\u001b[0m\n\u001b[0;32m----> 2\u001b[0;31m   \u001b[0mws\u001b[0m \u001b[0;34m=\u001b[0m \u001b[0mcreate_connection\u001b[0m\u001b[0;34m(\u001b[0m\u001b[0muri\u001b[0m\u001b[0;34m)\u001b[0m\u001b[0;34m\u001b[0m\u001b[0;34m\u001b[0m\u001b[0m\n\u001b[0m\u001b[1;32m      3\u001b[0m   \u001b[0mprint\u001b[0m\u001b[0;34m(\u001b[0m\u001b[0;34m\"Sending 'Hello, World'...\"\u001b[0m\u001b[0;34m)\u001b[0m\u001b[0;34m\u001b[0m\u001b[0;34m\u001b[0m\u001b[0m\n\u001b[1;32m      4\u001b[0m   \u001b[0mmessage\u001b[0m \u001b[0;34m=\u001b[0m \u001b[0;34m\"Hello, World from \"\u001b[0m \u001b[0;34m+\u001b[0m \u001b[0mstr\u001b[0m\u001b[0;34m(\u001b[0m\u001b[0mthreadid\u001b[0m\u001b[0;34m)\u001b[0m\u001b[0;34m\u001b[0m\u001b[0;34m\u001b[0m\u001b[0m\n\u001b[1;32m      5\u001b[0m   \u001b[0mws\u001b[0m\u001b[0;34m.\u001b[0m\u001b[0msend\u001b[0m\u001b[0;34m(\u001b[0m\u001b[0mmessage\u001b[0m\u001b[0;34m)\u001b[0m\u001b[0;34m\u001b[0m\u001b[0;34m\u001b[0m\u001b[0m\n",
            "\u001b[0;32m/usr/local/lib/python3.6/dist-packages/websocket/_core.py\u001b[0m in \u001b[0;36mcreate_connection\u001b[0;34m(url, timeout, class_, **options)\u001b[0m\n\u001b[1;32m    513\u001b[0m                      skip_utf8_validation=skip_utf8_validation, **options)\n\u001b[1;32m    514\u001b[0m     \u001b[0mwebsock\u001b[0m\u001b[0;34m.\u001b[0m\u001b[0msettimeout\u001b[0m\u001b[0;34m(\u001b[0m\u001b[0mtimeout\u001b[0m \u001b[0;32mif\u001b[0m \u001b[0mtimeout\u001b[0m \u001b[0;32mis\u001b[0m \u001b[0;32mnot\u001b[0m \u001b[0;32mNone\u001b[0m \u001b[0;32melse\u001b[0m \u001b[0mgetdefaulttimeout\u001b[0m\u001b[0;34m(\u001b[0m\u001b[0;34m)\u001b[0m\u001b[0;34m)\u001b[0m\u001b[0;34m\u001b[0m\u001b[0;34m\u001b[0m\u001b[0m\n\u001b[0;32m--> 515\u001b[0;31m     \u001b[0mwebsock\u001b[0m\u001b[0;34m.\u001b[0m\u001b[0mconnect\u001b[0m\u001b[0;34m(\u001b[0m\u001b[0murl\u001b[0m\u001b[0;34m,\u001b[0m \u001b[0;34m**\u001b[0m\u001b[0moptions\u001b[0m\u001b[0;34m)\u001b[0m\u001b[0;34m\u001b[0m\u001b[0;34m\u001b[0m\u001b[0m\n\u001b[0m\u001b[1;32m    516\u001b[0m     \u001b[0;32mreturn\u001b[0m \u001b[0mwebsock\u001b[0m\u001b[0;34m\u001b[0m\u001b[0;34m\u001b[0m\u001b[0m\n",
            "\u001b[0;32m/usr/local/lib/python3.6/dist-packages/websocket/_core.py\u001b[0m in \u001b[0;36mconnect\u001b[0;34m(self, url, **options)\u001b[0m\n\u001b[1;32m    224\u001b[0m \u001b[0;34m\u001b[0m\u001b[0m\n\u001b[1;32m    225\u001b[0m         \u001b[0;32mtry\u001b[0m\u001b[0;34m:\u001b[0m\u001b[0;34m\u001b[0m\u001b[0;34m\u001b[0m\u001b[0m\n\u001b[0;32m--> 226\u001b[0;31m             \u001b[0mself\u001b[0m\u001b[0;34m.\u001b[0m\u001b[0mhandshake_response\u001b[0m \u001b[0;34m=\u001b[0m \u001b[0mhandshake\u001b[0m\u001b[0;34m(\u001b[0m\u001b[0mself\u001b[0m\u001b[0;34m.\u001b[0m\u001b[0msock\u001b[0m\u001b[0;34m,\u001b[0m \u001b[0;34m*\u001b[0m\u001b[0maddrs\u001b[0m\u001b[0;34m,\u001b[0m \u001b[0;34m**\u001b[0m\u001b[0moptions\u001b[0m\u001b[0;34m)\u001b[0m\u001b[0;34m\u001b[0m\u001b[0;34m\u001b[0m\u001b[0m\n\u001b[0m\u001b[1;32m    227\u001b[0m             \u001b[0;32mfor\u001b[0m \u001b[0mattempt\u001b[0m \u001b[0;32min\u001b[0m \u001b[0mrange\u001b[0m\u001b[0;34m(\u001b[0m\u001b[0moptions\u001b[0m\u001b[0;34m.\u001b[0m\u001b[0mpop\u001b[0m\u001b[0;34m(\u001b[0m\u001b[0;34m'redirect_limit'\u001b[0m\u001b[0;34m,\u001b[0m \u001b[0;36m3\u001b[0m\u001b[0;34m)\u001b[0m\u001b[0;34m)\u001b[0m\u001b[0;34m:\u001b[0m\u001b[0;34m\u001b[0m\u001b[0;34m\u001b[0m\u001b[0m\n\u001b[1;32m    228\u001b[0m                 \u001b[0;32mif\u001b[0m \u001b[0mself\u001b[0m\u001b[0;34m.\u001b[0m\u001b[0mhandshake_response\u001b[0m\u001b[0;34m.\u001b[0m\u001b[0mstatus\u001b[0m \u001b[0;32min\u001b[0m \u001b[0mSUPPORTED_REDIRECT_STATUSES\u001b[0m\u001b[0;34m:\u001b[0m\u001b[0;34m\u001b[0m\u001b[0;34m\u001b[0m\u001b[0m\n",
            "\u001b[0;32m/usr/local/lib/python3.6/dist-packages/websocket/_handshake.py\u001b[0m in \u001b[0;36mhandshake\u001b[0;34m(sock, hostname, port, resource, **options)\u001b[0m\n\u001b[1;32m     78\u001b[0m     \u001b[0mdump\u001b[0m\u001b[0;34m(\u001b[0m\u001b[0;34m\"request header\"\u001b[0m\u001b[0;34m,\u001b[0m \u001b[0mheader_str\u001b[0m\u001b[0;34m)\u001b[0m\u001b[0;34m\u001b[0m\u001b[0;34m\u001b[0m\u001b[0m\n\u001b[1;32m     79\u001b[0m \u001b[0;34m\u001b[0m\u001b[0m\n\u001b[0;32m---> 80\u001b[0;31m     \u001b[0mstatus\u001b[0m\u001b[0;34m,\u001b[0m \u001b[0mresp\u001b[0m \u001b[0;34m=\u001b[0m \u001b[0m_get_resp_headers\u001b[0m\u001b[0;34m(\u001b[0m\u001b[0msock\u001b[0m\u001b[0;34m)\u001b[0m\u001b[0;34m\u001b[0m\u001b[0;34m\u001b[0m\u001b[0m\n\u001b[0m\u001b[1;32m     81\u001b[0m     \u001b[0;32mif\u001b[0m \u001b[0mstatus\u001b[0m \u001b[0;32min\u001b[0m \u001b[0mSUPPORTED_REDIRECT_STATUSES\u001b[0m\u001b[0;34m:\u001b[0m\u001b[0;34m\u001b[0m\u001b[0;34m\u001b[0m\u001b[0m\n\u001b[1;32m     82\u001b[0m         \u001b[0;32mreturn\u001b[0m \u001b[0mhandshake_response\u001b[0m\u001b[0;34m(\u001b[0m\u001b[0mstatus\u001b[0m\u001b[0;34m,\u001b[0m \u001b[0mresp\u001b[0m\u001b[0;34m,\u001b[0m \u001b[0;32mNone\u001b[0m\u001b[0;34m)\u001b[0m\u001b[0;34m\u001b[0m\u001b[0;34m\u001b[0m\u001b[0m\n",
            "\u001b[0;32m/usr/local/lib/python3.6/dist-packages/websocket/_handshake.py\u001b[0m in \u001b[0;36m_get_resp_headers\u001b[0;34m(sock, success_statuses)\u001b[0m\n\u001b[1;32m    161\u001b[0m \u001b[0;34m\u001b[0m\u001b[0m\n\u001b[1;32m    162\u001b[0m \u001b[0;32mdef\u001b[0m \u001b[0m_get_resp_headers\u001b[0m\u001b[0;34m(\u001b[0m\u001b[0msock\u001b[0m\u001b[0;34m,\u001b[0m \u001b[0msuccess_statuses\u001b[0m\u001b[0;34m=\u001b[0m\u001b[0mSUCCESS_STATUSES\u001b[0m\u001b[0;34m)\u001b[0m\u001b[0;34m:\u001b[0m\u001b[0;34m\u001b[0m\u001b[0;34m\u001b[0m\u001b[0m\n\u001b[0;32m--> 163\u001b[0;31m     \u001b[0mstatus\u001b[0m\u001b[0;34m,\u001b[0m \u001b[0mresp_headers\u001b[0m\u001b[0;34m,\u001b[0m \u001b[0mstatus_message\u001b[0m \u001b[0;34m=\u001b[0m \u001b[0mread_headers\u001b[0m\u001b[0;34m(\u001b[0m\u001b[0msock\u001b[0m\u001b[0;34m)\u001b[0m\u001b[0;34m\u001b[0m\u001b[0;34m\u001b[0m\u001b[0m\n\u001b[0m\u001b[1;32m    164\u001b[0m     \u001b[0;32mif\u001b[0m \u001b[0mstatus\u001b[0m \u001b[0;32mnot\u001b[0m \u001b[0;32min\u001b[0m \u001b[0msuccess_statuses\u001b[0m\u001b[0;34m:\u001b[0m\u001b[0;34m\u001b[0m\u001b[0;34m\u001b[0m\u001b[0m\n\u001b[1;32m    165\u001b[0m         \u001b[0;32mraise\u001b[0m \u001b[0mWebSocketBadStatusException\u001b[0m\u001b[0;34m(\u001b[0m\u001b[0;34m\"Handshake status %d %s\"\u001b[0m\u001b[0;34m,\u001b[0m \u001b[0mstatus\u001b[0m\u001b[0;34m,\u001b[0m \u001b[0mstatus_message\u001b[0m\u001b[0;34m,\u001b[0m \u001b[0mresp_headers\u001b[0m\u001b[0;34m)\u001b[0m\u001b[0;34m\u001b[0m\u001b[0;34m\u001b[0m\u001b[0m\n",
            "\u001b[0;32m/usr/local/lib/python3.6/dist-packages/websocket/_http.py\u001b[0m in \u001b[0;36mread_headers\u001b[0;34m(sock)\u001b[0m\n\u001b[1;32m    307\u001b[0m \u001b[0;34m\u001b[0m\u001b[0m\n\u001b[1;32m    308\u001b[0m     \u001b[0;32mwhile\u001b[0m \u001b[0;32mTrue\u001b[0m\u001b[0;34m:\u001b[0m\u001b[0;34m\u001b[0m\u001b[0;34m\u001b[0m\u001b[0m\n\u001b[0;32m--> 309\u001b[0;31m         \u001b[0mline\u001b[0m \u001b[0;34m=\u001b[0m \u001b[0mrecv_line\u001b[0m\u001b[0;34m(\u001b[0m\u001b[0msock\u001b[0m\u001b[0;34m)\u001b[0m\u001b[0;34m\u001b[0m\u001b[0;34m\u001b[0m\u001b[0m\n\u001b[0m\u001b[1;32m    310\u001b[0m         \u001b[0mline\u001b[0m \u001b[0;34m=\u001b[0m \u001b[0mline\u001b[0m\u001b[0;34m.\u001b[0m\u001b[0mdecode\u001b[0m\u001b[0;34m(\u001b[0m\u001b[0;34m'utf-8'\u001b[0m\u001b[0;34m)\u001b[0m\u001b[0;34m.\u001b[0m\u001b[0mstrip\u001b[0m\u001b[0;34m(\u001b[0m\u001b[0;34m)\u001b[0m\u001b[0;34m\u001b[0m\u001b[0;34m\u001b[0m\u001b[0m\n\u001b[1;32m    311\u001b[0m         \u001b[0;32mif\u001b[0m \u001b[0;32mnot\u001b[0m \u001b[0mline\u001b[0m\u001b[0;34m:\u001b[0m\u001b[0;34m\u001b[0m\u001b[0;34m\u001b[0m\u001b[0m\n",
            "\u001b[0;32m/usr/local/lib/python3.6/dist-packages/websocket/_socket.py\u001b[0m in \u001b[0;36mrecv_line\u001b[0;34m(sock)\u001b[0m\n\u001b[1;32m    121\u001b[0m     \u001b[0mline\u001b[0m \u001b[0;34m=\u001b[0m \u001b[0;34m[\u001b[0m\u001b[0;34m]\u001b[0m\u001b[0;34m\u001b[0m\u001b[0;34m\u001b[0m\u001b[0m\n\u001b[1;32m    122\u001b[0m     \u001b[0;32mwhile\u001b[0m \u001b[0;32mTrue\u001b[0m\u001b[0;34m:\u001b[0m\u001b[0;34m\u001b[0m\u001b[0;34m\u001b[0m\u001b[0m\n\u001b[0;32m--> 123\u001b[0;31m         \u001b[0mc\u001b[0m \u001b[0;34m=\u001b[0m \u001b[0mrecv\u001b[0m\u001b[0;34m(\u001b[0m\u001b[0msock\u001b[0m\u001b[0;34m,\u001b[0m \u001b[0;36m1\u001b[0m\u001b[0;34m)\u001b[0m\u001b[0;34m\u001b[0m\u001b[0;34m\u001b[0m\u001b[0m\n\u001b[0m\u001b[1;32m    124\u001b[0m         \u001b[0mline\u001b[0m\u001b[0;34m.\u001b[0m\u001b[0mappend\u001b[0m\u001b[0;34m(\u001b[0m\u001b[0mc\u001b[0m\u001b[0;34m)\u001b[0m\u001b[0;34m\u001b[0m\u001b[0;34m\u001b[0m\u001b[0m\n\u001b[1;32m    125\u001b[0m         \u001b[0;32mif\u001b[0m \u001b[0mc\u001b[0m \u001b[0;34m==\u001b[0m \u001b[0msix\u001b[0m\u001b[0;34m.\u001b[0m\u001b[0mb\u001b[0m\u001b[0;34m(\u001b[0m\u001b[0;34m\"\\n\"\u001b[0m\u001b[0;34m)\u001b[0m\u001b[0;34m:\u001b[0m\u001b[0;34m\u001b[0m\u001b[0;34m\u001b[0m\u001b[0m\n",
            "\u001b[0;32m/usr/local/lib/python3.6/dist-packages/websocket/_socket.py\u001b[0m in \u001b[0;36mrecv\u001b[0;34m(sock, bufsize)\u001b[0m\n\u001b[1;32m    100\u001b[0m             \u001b[0mbytes_\u001b[0m \u001b[0;34m=\u001b[0m \u001b[0msock\u001b[0m\u001b[0;34m.\u001b[0m\u001b[0mrecv\u001b[0m\u001b[0;34m(\u001b[0m\u001b[0mbufsize\u001b[0m\u001b[0;34m)\u001b[0m\u001b[0;34m\u001b[0m\u001b[0;34m\u001b[0m\u001b[0m\n\u001b[1;32m    101\u001b[0m         \u001b[0;32melse\u001b[0m\u001b[0;34m:\u001b[0m\u001b[0;34m\u001b[0m\u001b[0;34m\u001b[0m\u001b[0m\n\u001b[0;32m--> 102\u001b[0;31m             \u001b[0mbytes_\u001b[0m \u001b[0;34m=\u001b[0m \u001b[0m_recv\u001b[0m\u001b[0;34m(\u001b[0m\u001b[0;34m)\u001b[0m\u001b[0;34m\u001b[0m\u001b[0;34m\u001b[0m\u001b[0m\n\u001b[0m\u001b[1;32m    103\u001b[0m     \u001b[0;32mexcept\u001b[0m \u001b[0msocket\u001b[0m\u001b[0;34m.\u001b[0m\u001b[0mtimeout\u001b[0m \u001b[0;32mas\u001b[0m \u001b[0me\u001b[0m\u001b[0;34m:\u001b[0m\u001b[0;34m\u001b[0m\u001b[0;34m\u001b[0m\u001b[0m\n\u001b[1;32m    104\u001b[0m         \u001b[0mmessage\u001b[0m \u001b[0;34m=\u001b[0m \u001b[0mextract_err_message\u001b[0m\u001b[0;34m(\u001b[0m\u001b[0me\u001b[0m\u001b[0;34m)\u001b[0m\u001b[0;34m\u001b[0m\u001b[0;34m\u001b[0m\u001b[0m\n",
            "\u001b[0;32m/usr/local/lib/python3.6/dist-packages/websocket/_socket.py\u001b[0m in \u001b[0;36m_recv\u001b[0;34m()\u001b[0m\n\u001b[1;32m     82\u001b[0m     \u001b[0;32mdef\u001b[0m \u001b[0m_recv\u001b[0m\u001b[0;34m(\u001b[0m\u001b[0;34m)\u001b[0m\u001b[0;34m:\u001b[0m\u001b[0;34m\u001b[0m\u001b[0;34m\u001b[0m\u001b[0m\n\u001b[1;32m     83\u001b[0m         \u001b[0;32mtry\u001b[0m\u001b[0;34m:\u001b[0m\u001b[0;34m\u001b[0m\u001b[0;34m\u001b[0m\u001b[0m\n\u001b[0;32m---> 84\u001b[0;31m             \u001b[0;32mreturn\u001b[0m \u001b[0msock\u001b[0m\u001b[0;34m.\u001b[0m\u001b[0mrecv\u001b[0m\u001b[0;34m(\u001b[0m\u001b[0mbufsize\u001b[0m\u001b[0;34m)\u001b[0m\u001b[0;34m\u001b[0m\u001b[0;34m\u001b[0m\u001b[0m\n\u001b[0m\u001b[1;32m     85\u001b[0m         \u001b[0;32mexcept\u001b[0m \u001b[0mSSLWantReadError\u001b[0m\u001b[0;34m:\u001b[0m\u001b[0;34m\u001b[0m\u001b[0;34m\u001b[0m\u001b[0m\n\u001b[1;32m     86\u001b[0m             \u001b[0;32mpass\u001b[0m\u001b[0;34m\u001b[0m\u001b[0;34m\u001b[0m\u001b[0m\n",
            "\u001b[0;31mConnectionResetError\u001b[0m: [Errno 104] Connection reset by peer"
          ]
        }
      ]
    }
  ]
}