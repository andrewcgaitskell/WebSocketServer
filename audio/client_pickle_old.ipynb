{
 "cells": [
  {
   "cell_type": "code",
   "execution_count": 10,
   "id": "3f99ef2b",
   "metadata": {},
   "outputs": [],
   "source": [
    "import socket\n",
    "import time\n",
    "import pickle\n",
    "\n",
    "\n",
    "HEADERSIZE = 10"
   ]
  },
  {
   "cell_type": "code",
   "execution_count": 11,
   "id": "d3f809b0",
   "metadata": {},
   "outputs": [],
   "source": [
    "#s.connect((\"acgtest.info\", 5010))\n",
    "#d = {1:\"hi\", 2: \"there\"}\n",
    "#msg = pickle.dumps(d)\n",
    "#msg = bytes(f\"{len(msg):<{HEADERSIZE}}\", 'utf-8')+msg\n",
    "#print(msg)\n",
    "#s.send(msg)\n",
    "\n",
    "class MySocket:\n",
    "    \"\"\"demonstration class only\n",
    "      - coded for clarity, not efficiency\n",
    "    \"\"\"\n",
    "\n",
    "    def __init__(self, sock=None):\n",
    "        if sock is None:\n",
    "            self.sock = socket.socket(\n",
    "                            socket.AF_INET, socket.SOCK_STREAM)\n",
    "        else:\n",
    "            self.sock = sock\n",
    "\n",
    "    def connect(self, host, port):\n",
    "        self.sock.connect((host, port))\n",
    "\n",
    "    def mysend(self, msg):\n",
    "        totalsent = 0\n",
    "        MSGLEN = len(msg)\n",
    "        while totalsent < MSGLEN:\n",
    "            sent = self.sock.send(msg[totalsent:])\n",
    "            if sent == 0:\n",
    "                raise RuntimeError(\"socket connection broken\")\n",
    "            totalsent = totalsent + sent\n",
    "\n",
    "    def myreceive(self):\n",
    "        chunks = []\n",
    "        MSGLEN = len(msg)\n",
    "        bytes_recd = 0\n",
    "        while bytes_recd < MSGLEN:\n",
    "            chunk = self.sock.recv(min(MSGLEN - bytes_recd, 2048))\n",
    "            if chunk == b'':\n",
    "                raise RuntimeError(\"socket connection broken\")\n",
    "            chunks.append(chunk)\n",
    "            bytes_recd = bytes_recd + len(chunk)\n",
    "        return b''.join(chunks)\n",
    "    \n"
   ]
  },
  {
   "cell_type": "markdown",
   "id": "1c751546",
   "metadata": {},
   "source": [
    "global c\n",
    "    d = pickle.dumps(d)\n",
    "    MSGLEN = len(d)\n",
    "    print (\"MSGLEN =\", MSGLEN) # REMOVE AFTER DEBUG\n",
    "    MSGLENstr = pickle.dumps(MSGLEN)\n",
    "    c.send(MSGLENstr)\n",
    "    totalsent = 0\n",
    "    while totalsent < MSGLEN:\n",
    "        sent = c.send(d[totalsent:])\n",
    "        if sent == 0:\n",
    "            raise RuntimeError(\"socket connection broken\")\n",
    "        totalsent = totalsent + sent"
   ]
  },
  {
   "cell_type": "code",
   "execution_count": 13,
   "id": "59b92bd3",
   "metadata": {},
   "outputs": [],
   "source": [
    "s = MySocket()\n",
    "s.connect('acgtest.info',5010)\n",
    "d = 'Hello'\n",
    "d = pickle.dumps(d)\n",
    "s.mysend(d)"
   ]
  },
  {
   "cell_type": "markdown",
   "id": "adb96c7e",
   "metadata": {},
   "source": [
    "while True:\n",
    "    s.myreceive()"
   ]
  },
  {
   "cell_type": "code",
   "execution_count": null,
   "id": "ac3de874",
   "metadata": {},
   "outputs": [],
   "source": []
  }
 ],
 "metadata": {
  "kernelspec": {
   "display_name": "Python 3",
   "language": "python",
   "name": "python3"
  },
  "language_info": {
   "codemirror_mode": {
    "name": "ipython",
    "version": 3
   },
   "file_extension": ".py",
   "mimetype": "text/x-python",
   "name": "python",
   "nbconvert_exporter": "python",
   "pygments_lexer": "ipython3",
   "version": "3.8.10"
  }
 },
 "nbformat": 4,
 "nbformat_minor": 5
}
