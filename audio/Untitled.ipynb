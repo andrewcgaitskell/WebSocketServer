{
 "cells": [
  {
   "cell_type": "code",
   "execution_count": 19,
   "id": "1c048c2d",
   "metadata": {},
   "outputs": [],
   "source": [
    "import librosa\n",
    "\n",
    "import matplotlib.pyplot as plt\n",
    "\n",
    "\n",
    "import librosa.display"
   ]
  },
  {
   "cell_type": "code",
   "execution_count": 20,
   "id": "9e923777",
   "metadata": {},
   "outputs": [],
   "source": [
    "import numpy as np\n",
    "import pandas as pd"
   ]
  },
  {
   "cell_type": "code",
   "execution_count": 21,
   "id": "8737d83b",
   "metadata": {},
   "outputs": [
    {
     "data": {
      "text/plain": [
       "['myWave.wav',\n",
       " '2021-08-03T17:30:35.452265+00:00_2021-08-03T17:30:46.204300+00:00.bytes',\n",
       " '2021-08-03T17:30:24.670322+00:00_2021-08-03T17:30:35.451971+00:00.bytes']"
      ]
     },
     "execution_count": 21,
     "metadata": {},
     "output_type": "execute_result"
    }
   ],
   "source": [
    "import os\n",
    "myfolder = '/home/andrewcgaitskell/Downloads/audio/'\n",
    "contents = os.listdir(myfolder)\n",
    "contents"
   ]
  },
  {
   "cell_type": "code",
   "execution_count": 22,
   "id": "1a0358e3",
   "metadata": {},
   "outputs": [
    {
     "data": {
      "text/plain": [
       "27666"
      ]
     },
     "execution_count": 22,
     "metadata": {},
     "output_type": "execute_result"
    }
   ],
   "source": [
    "myfolder = '/home/andrewcgaitskell/Downloads/audio/'\n",
    "#myfile = '2021-07-27T14:45:35.015312+00:00.bytes'\n",
    "myfile = '2021-08-03T17:30:24.670322+00:00_2021-08-03T17:30:35.451971+00:00.bytes'\n",
    "myfullfile = myfolder + myfile\n",
    "bytes_df = pd.DataFrame()\n",
    "bytes_list = []\n",
    "with open(myfullfile, \"rb\") as f:\n",
    "    while (byte_val := f.read(2)):\n",
    "        # Do stuff with byte.\n",
    "        ##print(byte)\n",
    "        int_val = int.from_bytes(byte_val, \"big\")\n",
    "        bytes_list.append(int_val)\n",
    "        # printing int equivalent\n",
    "        #print(int_val)\n",
    "bytes_df = pd.DataFrame(bytes_list, columns = ['Value'])\n",
    "bytes_df['Value'].max()\n",
    "# max = 27666\n",
    "# min = 24800\n",
    "# range = 2866"
   ]
  },
  {
   "cell_type": "code",
   "execution_count": 23,
   "id": "2d60e7a6",
   "metadata": {},
   "outputs": [
    {
     "data": {
      "text/plain": [
       "array([26352, 26367, 26319, ..., 26319, 26174, 26124], dtype=int16)"
      ]
     },
     "execution_count": 23,
     "metadata": {},
     "output_type": "execute_result"
    }
   ],
   "source": [
    "with open(myfullfile, \"rb\") as f:\n",
    "    mybytes = f.read()\n",
    "newarray = np.frombuffer(mybytes, dtype='>i2', count=-1)\n",
    "newarray"
   ]
  },
  {
   "cell_type": "code",
   "execution_count": 24,
   "id": "3fc6140f",
   "metadata": {},
   "outputs": [],
   "source": [
    "myfolder = '/home/andrewcgaitskell/Downloads/audio/'\n",
    "#myfile = '2021-07-27T14:45:35.015312+00:00.bytes'\n",
    "myfile = 'myWave.wav'\n",
    "myfullfile = myfolder + myfile\n",
    "y, sr = librosa.load(myfullfile,sr=44000)"
   ]
  },
  {
   "cell_type": "code",
   "execution_count": 25,
   "id": "e0dc1e1f",
   "metadata": {},
   "outputs": [
    {
     "data": {
      "text/plain": [
       "array([ 0.00018983,  0.01405491,  0.02872976, ..., -0.02875865,\n",
       "       -0.01409333, -0.00020602], dtype=float32)"
      ]
     },
     "execution_count": 25,
     "metadata": {},
     "output_type": "execute_result"
    }
   ],
   "source": [
    "y"
   ]
  },
  {
   "cell_type": "code",
   "execution_count": 26,
   "id": "8e2f7e19",
   "metadata": {},
   "outputs": [],
   "source": [
    "D = librosa.stft(y)  # STFT of y\n",
    "S_db = librosa.amplitude_to_db(np.abs(D), ref=np.max)\n"
   ]
  },
  {
   "cell_type": "code",
   "execution_count": 27,
   "id": "360449b6",
   "metadata": {},
   "outputs": [
    {
     "data": {
      "text/plain": [
       "<matplotlib.colorbar.Colorbar at 0x7f93a2c0ce50>"
      ]
     },
     "execution_count": 27,
     "metadata": {},
     "output_type": "execute_result"
    },
    {
     "data": {
      "image/png": "[encoded data removed]",
      "text/plain": [
       "<Figure size 432x288 with 2 Axes>"
      ]
     },
     "metadata": {
      "needs_background": "light"
     },
     "output_type": "display_data"
    }
   ],
   "source": [
    "plt.figure()\n",
    "librosa.display.specshow(S_db)\n",
    "plt.colorbar()"
   ]
  },
  {
   "cell_type": "code",
   "execution_count": null,
   "id": "25e02179",
   "metadata": {},
   "outputs": [],
   "source": []
  }
 ],
 "metadata": {
  "kernelspec": {
   "display_name": "Python 3",
   "language": "python",
   "name": "python3"
  },
  "language_info": {
   "codemirror_mode": {
    "name": "ipython",
    "version": 3
   },
   "file_extension": ".py",
   "mimetype": "text/x-python",
   "name": "python",
   "nbconvert_exporter": "python",
   "pygments_lexer": "ipython3",
   "version": "3.8.10"
  }
 },
 "nbformat": 4,
 "nbformat_minor": 5
}
