{
 "cells": [
  {
   "cell_type": "code",
   "execution_count": 3,
   "id": "f0ae0a4e",
   "metadata": {},
   "outputs": [
    {
     "name": "stdout",
     "output_type": "stream",
     "text": [
      "b'GET  HTTP/1.0\\r\\nHost: acgtest.info\\r\\n\\r\\n'\n",
      "b''\n"
     ]
    }
   ],
   "source": [
    "import asyncore\n",
    "\n",
    "class HTTPClient(asyncore.dispatcher):\n",
    "\n",
    "    def __init__(self, host, path):\n",
    "        asyncore.dispatcher.__init__(self)\n",
    "        self.create_socket()\n",
    "        self.connect( (host, 5010) )\n",
    "        self.buffer = bytes('GET %s HTTP/1.0\\r\\nHost: %s\\r\\n\\r\\n' %\n",
    "                            (path, host), 'ascii')\n",
    "\n",
    "    def handle_connect(self):\n",
    "        pass\n",
    "\n",
    "    def handle_close(self):\n",
    "        self.close()\n",
    "\n",
    "    def handle_read(self):\n",
    "        print(self.recv(8192))\n",
    "\n",
    "    def writable(self):\n",
    "        return (len(self.buffer) > 0)\n",
    "\n",
    "    def handle_write(self):\n",
    "        sent = self.send(self.buffer)\n",
    "        self.buffer = self.buffer[sent:]\n",
    "\n",
    "\n",
    "client = HTTPClient('acgtest.info', '')\n",
    "asyncore.loop()"
   ]
  },
  {
   "cell_type": "code",
   "execution_count": null,
   "id": "c63c3690",
   "metadata": {},
   "outputs": [],
   "source": []
  }
 ],
 "metadata": {
  "kernelspec": {
   "display_name": "Python 3",
   "language": "python",
   "name": "python3"
  },
  "language_info": {
   "codemirror_mode": {
    "name": "ipython",
    "version": 3
   },
   "file_extension": ".py",
   "mimetype": "text/x-python",
   "name": "python",
   "nbconvert_exporter": "python",
   "pygments_lexer": "ipython3",
   "version": "3.8.10"
  }
 },
 "nbformat": 4,
 "nbformat_minor": 5
}
