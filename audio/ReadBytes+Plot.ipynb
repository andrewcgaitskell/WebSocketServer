{
 "cells": [
  {
   "cell_type": "code",
   "execution_count": 19,
   "id": "a83a60f8",
   "metadata": {},
   "outputs": [
    {
     "name": "stdout",
     "output_type": "stream",
     "text": [
      "['14:41:02', '14:41:05', '14:41:08', '14:41:11', '14:41:15', '14:41:18', '14:41:21', '14:41:24', '14:41:27', '14:41:30', '14:41:33', '14:41:37', '14:41:40', '14:41:43', '14:41:46', '14:41:49', '14:41:53', '14:41:56', '14:41:59', '14:42:02', '14:42:05', '14:42:08', '14:42:11', '14:42:15', '14:42:18', '14:42:21', '14:42:24', '14:42:27', '14:42:30', '14:42:33', '14:42:36', '14:42:39', '14:42:42', '14:42:44', '14:42:47', '14:42:50', '14:42:53', '14:42:56', '14:42:59', '14:43:01', '14:43:04', '14:43:07', '14:43:10', '14:43:13', '14:43:16', '14:43:18', '14:43:21', '14:43:24', '14:43:27', '14:43:30', '14:43:33', '14:43:36', '14:43:39', '14:43:42', '14:43:44', '14:43:48', '14:43:51', '14:43:53', '14:43:56', '14:43:59', '14:44:02', '14:44:05', '14:44:08', '14:44:10', '14:44:13', '14:44:16', '14:44:19', '14:44:23', '14:44:25', '14:44:28', '14:44:31', '14:44:34', '14:44:37', '14:44:40', '14:44:43', '14:44:46', '14:44:49', '14:44:52', '14:44:54', '14:44:57', '14:45:00', '14:45:03', '14:45:06', '14:45:09', '14:45:11', '14:45:14', '14:45:17', '14:45:20', '14:45:23', '14:45:26', '14:45:28', '14:45:31', '14:45:35']\n"
     ]
    }
   ],
   "source": [
    "import os\n",
    "myfolder = '/home/andrewcgaitskell/Downloads/audio/'\n",
    "contents = os.listdir(myfolder)\n",
    "y = []\n",
    "for x in contents:\n",
    "    #print(x[11:19])\n",
    "    tim = x[11:19]\n",
    "    y.append(tim)\n",
    "y.sort()\n",
    "print(y)"
   ]
  },
  {
   "cell_type": "code",
   "execution_count": 22,
   "id": "7d2047ab",
   "metadata": {},
   "outputs": [],
   "source": [
    "import pandas as pd"
   ]
  },
  {
   "cell_type": "code",
   "execution_count": 32,
   "id": "91ebfcf5",
   "metadata": {},
   "outputs": [],
   "source": [
    "myfolder = '/home/andrewcgaitskell/Downloads/audio/'\n",
    "#myfile = '2021-07-27T14:45:35.015312+00:00.bytes'\n",
    "myfile = '2021-07-27T14:45:28.911048+00:00.bytes'\n",
    "myfullfile = myfolder + myfile\n",
    "#with open(myfullfile, \"rb\") as f:\n",
    "#    while (byte := f.read(1)):\n",
    "#        # Do stuff with byte.\n",
    "#        print(byte)"
   ]
  },
  {
   "cell_type": "code",
   "execution_count": 33,
   "id": "e65603f5",
   "metadata": {},
   "outputs": [
    {
     "data": {
      "text/html": [
       "<div>\n",
       "<style scoped>\n",
       "    .dataframe tbody tr th:only-of-type {\n",
       "        vertical-align: middle;\n",
       "    }\n",
       "\n",
       "    .dataframe tbody tr th {\n",
       "        vertical-align: top;\n",
       "    }\n",
       "\n",
       "    .dataframe thead th {\n",
       "        text-align: right;\n",
       "    }\n",
       "</style>\n",
       "<table border=\"1\" class=\"dataframe\">\n",
       "  <thead>\n",
       "    <tr style=\"text-align: right;\">\n",
       "      <th></th>\n",
       "      <th>x</th>\n",
       "      <th>y</th>\n",
       "    </tr>\n",
       "  </thead>\n",
       "  <tbody>\n",
       "    <tr>\n",
       "      <th>0</th>\n",
       "      <td>0</td>\n",
       "      <td>0</td>\n",
       "    </tr>\n",
       "    <tr>\n",
       "      <th>1</th>\n",
       "      <td>1</td>\n",
       "      <td>0</td>\n",
       "    </tr>\n",
       "    <tr>\n",
       "      <th>2</th>\n",
       "      <td>2</td>\n",
       "      <td>0</td>\n",
       "    </tr>\n",
       "    <tr>\n",
       "      <th>3</th>\n",
       "      <td>3</td>\n",
       "      <td>0</td>\n",
       "    </tr>\n",
       "    <tr>\n",
       "      <th>4</th>\n",
       "      <td>4</td>\n",
       "      <td>0</td>\n",
       "    </tr>\n",
       "    <tr>\n",
       "      <th>...</th>\n",
       "      <td>...</td>\n",
       "      <td>...</td>\n",
       "    </tr>\n",
       "    <tr>\n",
       "      <th>796</th>\n",
       "      <td>796</td>\n",
       "      <td>0</td>\n",
       "    </tr>\n",
       "    <tr>\n",
       "      <th>797</th>\n",
       "      <td>797</td>\n",
       "      <td>0</td>\n",
       "    </tr>\n",
       "    <tr>\n",
       "      <th>798</th>\n",
       "      <td>798</td>\n",
       "      <td>0</td>\n",
       "    </tr>\n",
       "    <tr>\n",
       "      <th>799</th>\n",
       "      <td>799</td>\n",
       "      <td>0</td>\n",
       "    </tr>\n",
       "    <tr>\n",
       "      <th>800</th>\n",
       "      <td>800</td>\n",
       "      <td>0</td>\n",
       "    </tr>\n",
       "  </tbody>\n",
       "</table>\n",
       "<p>801 rows × 2 columns</p>\n",
       "</div>"
      ],
      "text/plain": [
       "       x  y\n",
       "0      0  0\n",
       "1      1  0\n",
       "2      2  0\n",
       "3      3  0\n",
       "4      4  0\n",
       "..   ... ..\n",
       "796  796  0\n",
       "797  797  0\n",
       "798  798  0\n",
       "799  799  0\n",
       "800  800  0\n",
       "\n",
       "[801 rows x 2 columns]"
      ]
     },
     "execution_count": 33,
     "metadata": {},
     "output_type": "execute_result"
    }
   ],
   "source": [
    "with open(myfullfile, \"rb\") as f:\n",
    "    x = 0\n",
    "    data = [[0,0]]\n",
    "    while (byte := f.read(1)):\n",
    "        # Do stuff with byte.\n",
    "        intbyt = int.from_bytes(byte, 'big')\n",
    "        ##print(intbyt)\n",
    "        x = x + 1\n",
    "        appendthis = [x,intbyt]\n",
    "        #print(appendthis)\n",
    "        try:\n",
    "            data.append(appendthis)\n",
    "        except:\n",
    "            a = 1\n",
    "        #print(appendthis)\n",
    "#print(data)\n",
    "data_df = pd.DataFrame(data=data, columns=['x','y'])\n",
    "data_df      "
   ]
  },
  {
   "cell_type": "code",
   "execution_count": 34,
   "id": "54e338ee",
   "metadata": {},
   "outputs": [
    {
     "data": {
      "text/plain": [
       "<AxesSubplot:xlabel='x'>"
      ]
     },
     "execution_count": 34,
     "metadata": {},
     "output_type": "execute_result"
    },
    {
     "data": {
      "image/png": "[encoded data removed]",
      "text/plain": [
       "<Figure size 432x288 with 1 Axes>"
      ]
     },
     "metadata": {
      "needs_background": "light"
     },
     "output_type": "display_data"
    }
   ],
   "source": [
    "data_df.plot.line(x='x', y='y')  "
   ]
  },
  {
   "cell_type": "code",
   "execution_count": null,
   "id": "7500e56e",
   "metadata": {},
   "outputs": [],
   "source": []
  },
  {
   "cell_type": "code",
   "execution_count": null,
   "id": "dffc664b",
   "metadata": {},
   "outputs": [],
   "source": []
  }
 ],
 "metadata": {
  "kernelspec": {
   "display_name": "Python 3",
   "language": "python",
   "name": "python3"
  },
  "language_info": {
   "codemirror_mode": {
    "name": "ipython",
    "version": 3
   },
   "file_extension": ".py",
   "mimetype": "text/x-python",
   "name": "python",
   "nbconvert_exporter": "python",
   "pygments_lexer": "ipython3",
   "version": "3.8.10"
  }
 },
 "nbformat": 4,
 "nbformat_minor": 5
}
