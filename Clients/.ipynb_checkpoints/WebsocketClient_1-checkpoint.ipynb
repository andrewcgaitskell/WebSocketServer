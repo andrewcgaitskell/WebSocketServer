{
 "cells": [
  {
   "cell_type": "code",
   "execution_count": 1,
   "metadata": {
    "colab": {
     "base_uri": "https://localhost:8080/"
    },
    "executionInfo": {
     "elapsed": 4276,
     "status": "ok",
     "timestamp": 1614023758247,
     "user": {
      "displayName": "Andrew Gaitskell",
      "photoUrl": "",
      "userId": "11970928497713339737"
     },
     "user_tz": 0
    },
    "id": "fyZpFSJEtB0q",
    "outputId": "7197bbaf-603e-43ee-dd86-63d394a80e05"
   },
   "outputs": [
    {
     "name": "stdout",
     "output_type": "stream",
     "text": [
      "Collecting websocket_client\n",
      "\u001b[?25l  Downloading https://files.pythonhosted.org/packages/4c/5f/f61b420143ed1c8dc69f9eaec5ff1ac36109d52c80de49d66e0c36c3dfdf/websocket_client-0.57.0-py2.py3-none-any.whl (200kB)\n",
      "\r",
      "\u001b[K     |█▋                              | 10kB 14.9MB/s eta 0:00:01\r",
      "\u001b[K     |███▎                            | 20kB 20.4MB/s eta 0:00:01\r",
      "\u001b[K     |█████                           | 30kB 11.9MB/s eta 0:00:01\r",
      "\u001b[K     |██████▌                         | 40kB 9.6MB/s eta 0:00:01\r",
      "\u001b[K     |████████▏                       | 51kB 8.0MB/s eta 0:00:01\r",
      "\u001b[K     |█████████▉                      | 61kB 8.7MB/s eta 0:00:01\r",
      "\u001b[K     |███████████▍                    | 71kB 8.3MB/s eta 0:00:01\r",
      "\u001b[K     |█████████████                   | 81kB 8.5MB/s eta 0:00:01\r",
      "\u001b[K     |██████████████▊                 | 92kB 8.2MB/s eta 0:00:01\r",
      "\u001b[K     |████████████████▎               | 102kB 7.6MB/s eta 0:00:01\r",
      "\u001b[K     |██████████████████              | 112kB 7.6MB/s eta 0:00:01\r",
      "\u001b[K     |███████████████████▋            | 122kB 7.6MB/s eta 0:00:01\r",
      "\u001b[K     |█████████████████████▏          | 133kB 7.6MB/s eta 0:00:01\r",
      "\u001b[K     |██████████████████████▉         | 143kB 7.6MB/s eta 0:00:01\r",
      "\u001b[K     |████████████████████████▌       | 153kB 7.6MB/s eta 0:00:01\r",
      "\u001b[K     |██████████████████████████      | 163kB 7.6MB/s eta 0:00:01\r",
      "\u001b[K     |███████████████████████████▊    | 174kB 7.6MB/s eta 0:00:01\r",
      "\u001b[K     |█████████████████████████████▍  | 184kB 7.6MB/s eta 0:00:01\r",
      "\u001b[K     |███████████████████████████████ | 194kB 7.6MB/s eta 0:00:01\r",
      "\u001b[K     |████████████████████████████████| 204kB 7.6MB/s \n",
      "\u001b[?25hRequirement already satisfied: six in /usr/local/lib/python3.6/dist-packages (from websocket_client) (1.15.0)\n",
      "Installing collected packages: websocket-client\n",
      "Successfully installed websocket-client-0.57.0\n"
     ]
    }
   ],
   "source": [
    "!pip install websocket_client "
   ]
  },
  {
   "cell_type": "code",
   "execution_count": 2,
   "metadata": {
    "executionInfo": {
     "elapsed": 4272,
     "status": "ok",
     "timestamp": 1614023758248,
     "user": {
      "displayName": "Andrew Gaitskell",
      "photoUrl": "",
      "userId": "11970928497713339737"
     },
     "user_tz": 0
    },
    "id": "Cq4QVzMnsCch"
   },
   "outputs": [],
   "source": [
    "import logging\n",
    "import threading\n",
    "import time"
   ]
  },
  {
   "cell_type": "code",
   "execution_count": 3,
   "metadata": {
    "executionInfo": {
     "elapsed": 4269,
     "status": "ok",
     "timestamp": 1614023758249,
     "user": {
      "displayName": "Andrew Gaitskell",
      "photoUrl": "",
      "userId": "11970928497713339737"
     },
     "user_tz": 0
    },
    "id": "vvNAOcLAstKF"
   },
   "outputs": [],
   "source": [
    "from websocket import create_connection"
   ]
  },
  {
   "cell_type": "code",
   "execution_count": 4,
   "metadata": {
    "executionInfo": {
     "elapsed": 4267,
     "status": "ok",
     "timestamp": 1614023758250,
     "user": {
      "displayName": "Andrew Gaitskell",
      "photoUrl": "",
      "userId": "11970928497713339737"
     },
     "user_tz": 0
    },
    "id": "QG-dJg-PsyAP"
   },
   "outputs": [],
   "source": [
    "uri = \"ws://35.214.36.98:5010/ws/\"\n"
   ]
  },
  {
   "cell_type": "code",
   "execution_count": 5,
   "metadata": {
    "executionInfo": {
     "elapsed": 4264,
     "status": "ok",
     "timestamp": 1614023758250,
     "user": {
      "displayName": "Andrew Gaitskell",
      "photoUrl": "",
      "userId": "11970928497713339737"
     },
     "user_tz": 0
    },
    "id": "u-SVT-fotLqo"
   },
   "outputs": [],
   "source": [
    "def hello_world(threadid):\n",
    "  ws = create_connection(uri)\n",
    "  print(\"Sending 'Hello, World'...\")\n",
    "  message = \"Hello, World from \" + str(threadid)\n",
    "  ws.send(message)\n",
    "  print(\"Sent\")\n",
    "  print(\"Receiving...\")\n",
    "  result =  ws.recv()\n",
    "  print(\"Received '%s'\" % result)\n",
    "  ws.close()"
   ]
  },
  {
   "cell_type": "code",
   "execution_count": 6,
   "metadata": {
    "colab": {
     "base_uri": "https://localhost:8080/"
    },
    "executionInfo": {
     "elapsed": 4718,
     "status": "ok",
     "timestamp": 1614023758729,
     "user": {
      "displayName": "Andrew Gaitskell",
      "photoUrl": "",
      "userId": "11970928497713339737"
     },
     "user_tz": 0
    },
    "id": "4d1slYbrtaBv",
    "outputId": "d727e3cf-3d5d-4eaf-cd26-518cc5b6c3d7"
   },
   "outputs": [
    {
     "name": "stdout",
     "output_type": "stream",
     "text": [
      "Sending 'Hello, World'...\n",
      "Sent\n",
      "Receiving...\n",
      "Received 'Hello, World from 1/answer/442'\n"
     ]
    }
   ],
   "source": [
    "hello_world(1)"
   ]
  },
  {
   "cell_type": "code",
   "execution_count": 7,
   "metadata": {
    "executionInfo": {
     "elapsed": 4716,
     "status": "ok",
     "timestamp": 1614023758730,
     "user": {
      "displayName": "Andrew Gaitskell",
      "photoUrl": "",
      "userId": "11970928497713339737"
     },
     "user_tz": 0
    },
    "id": "8PK8o7KIr-sn"
   },
   "outputs": [],
   "source": [
    "def thread_function(name):\n",
    "    logging.info(\"Thread %s: starting\", name)\n",
    "    time.sleep(2)\n",
    "    logging.info(\"Thread %s: finishing\", name)\n",
    "\n"
   ]
  },
  {
   "cell_type": "code",
   "execution_count": 8,
   "metadata": {
    "colab": {
     "base_uri": "https://localhost:8080/"
    },
    "executionInfo": {
     "elapsed": 159821,
     "status": "ok",
     "timestamp": 1614023913844,
     "user": {
      "displayName": "Andrew Gaitskell",
      "photoUrl": "",
      "userId": "11970928497713339737"
     },
     "user_tz": 0
    },
    "id": "iFdKRdWtsOaK",
    "outputId": "d853b453-df2d-45bc-c49d-782caca09dbc"
   },
   "outputs": [
    {
     "name": "stderr",
     "output_type": "stream",
     "text": [
      "19:55:58: Main    : before creating thread\n"
     ]
    },
    {
     "name": "stdout",
     "output_type": "stream",
     "text": [
      "Sending 'Hello, World'...\n",
      "Sent\n",
      "Receiving...\n",
      "Received 'Hello, World from 1/answer/445'\n",
      "Sending 'Hello, World'...\n",
      "Sent\n",
      "Receiving...\n",
      "Received 'Hello, World from 2/answer/447'\n",
      "Sending 'Hello, World'...\n",
      "Sent\n",
      "Receiving...\n",
      "Received 'Hello, World from 3/answer/450'\n"
     ]
    },
    {
     "name": "stderr",
     "output_type": "stream",
     "text": [
      "19:56:00: Main    : before running thread\n",
      "19:56:00: Main    : wait for the thread to finish\n",
      "19:56:00: Main    : all done\n",
      "19:56:00: Main    : before creating thread\n"
     ]
    },
    {
     "name": "stdout",
     "output_type": "stream",
     "text": [
      "Sending 'Hello, World'...\n",
      "Sent\n",
      "Receiving...\n",
      "Received 'Hello, World from 1/answer/452'\n",
      "Sending 'Hello, World'...\n",
      "Sent\n",
      "Receiving...\n",
      "Received 'Hello, World from 2/answer/454'\n",
      "Sending 'Hello, World'...\n",
      "Sent\n",
      "Receiving...\n",
      "Received 'Hello, World from 3/answer/457'\n"
     ]
    },
    {
     "name": "stderr",
     "output_type": "stream",
     "text": [
      "19:56:01: Main    : before running thread\n",
      "19:56:01: Main    : wait for the thread to finish\n",
      "19:56:01: Main    : all done\n",
      "19:56:01: Main    : before creating thread\n"
     ]
    },
    {
     "name": "stdout",
     "output_type": "stream",
     "text": [
      "Sending 'Hello, World'...\n",
      "Sent\n",
      "Receiving...\n",
      "Received 'Hello, World from 1/answer/459'\n",
      "Sending 'Hello, World'...\n",
      "Sent\n",
      "Receiving...\n",
      "Received 'Hello, World from 2/answer/462'\n",
      "Sending 'Hello, World'...\n",
      "Sent\n",
      "Receiving...\n",
      "Received 'Hello, World from 3/answer/464'\n"
     ]
    },
    {
     "name": "stderr",
     "output_type": "stream",
     "text": [
      "19:56:03: Main    : before running thread\n",
      "19:56:03: Main    : wait for the thread to finish\n",
      "19:56:03: Main    : all done\n",
      "19:56:03: Main    : before creating thread\n"
     ]
    },
    {
     "name": "stdout",
     "output_type": "stream",
     "text": [
      "Sending 'Hello, World'...\n",
      "Sent\n",
      "Receiving...\n",
      "Received 'Hello, World from 1/answer/467'\n",
      "Sending 'Hello, World'...\n",
      "Sent\n",
      "Receiving...\n",
      "Received 'Hello, World from 2/answer/469'\n",
      "Sending 'Hello, World'...\n",
      "Sent\n",
      "Receiving...\n",
      "Received 'Hello, World from 3/answer/472'\n"
     ]
    },
    {
     "name": "stderr",
     "output_type": "stream",
     "text": [
      "19:56:04: Main    : before running thread\n",
      "19:56:04: Main    : wait for the thread to finish\n",
      "19:56:04: Main    : all done\n",
      "19:56:04: Main    : before creating thread\n"
     ]
    },
    {
     "name": "stdout",
     "output_type": "stream",
     "text": [
      "Sending 'Hello, World'...\n",
      "Sent\n",
      "Receiving...\n",
      "Received 'Hello, World from 1/answer/474'\n",
      "Sending 'Hello, World'...\n",
      "Sent\n",
      "Receiving...\n",
      "Received 'Hello, World from 2/answer/476'\n",
      "Sending 'Hello, World'...\n",
      "Sent\n",
      "Receiving...\n",
      "Received 'Hello, World from 3/answer/479'\n"
     ]
    },
    {
     "name": "stderr",
     "output_type": "stream",
     "text": [
      "19:56:06: Main    : before running thread\n",
      "19:56:06: Main    : wait for the thread to finish\n",
      "19:56:06: Main    : all done\n",
      "19:56:06: Main    : before creating thread\n"
     ]
    },
    {
     "name": "stdout",
     "output_type": "stream",
     "text": [
      "Sending 'Hello, World'...\n",
      "Sent\n",
      "Receiving...\n",
      "Received 'Hello, World from 1/answer/481'\n",
      "Sending 'Hello, World'...\n",
      "Sent\n",
      "Receiving...\n",
      "Received 'Hello, World from 2/answer/484'\n",
      "Sending 'Hello, World'...\n",
      "Sent\n",
      "Receiving...\n",
      "Received 'Hello, World from 3/answer/486'\n"
     ]
    },
    {
     "name": "stderr",
     "output_type": "stream",
     "text": [
      "19:56:07: Main    : before running thread\n",
      "19:56:07: Main    : wait for the thread to finish\n",
      "19:56:07: Main    : all done\n",
      "19:56:07: Main    : before creating thread\n"
     ]
    },
    {
     "name": "stdout",
     "output_type": "stream",
     "text": [
      "Sending 'Hello, World'...\n",
      "Sent\n",
      "Receiving...\n",
      "Received 'Hello, World from 1/answer/489'\n",
      "Sending 'Hello, World'...\n",
      "Sent\n",
      "Receiving...\n",
      "Received 'Hello, World from 2/answer/491'\n",
      "Sending 'Hello, World'...\n",
      "Sent\n",
      "Receiving...\n",
      "Received 'Hello, World from 3/answer/493'\n"
     ]
    },
    {
     "name": "stderr",
     "output_type": "stream",
     "text": [
      "19:56:09: Main    : before running thread\n",
      "19:56:09: Main    : wait for the thread to finish\n",
      "19:56:09: Main    : all done\n",
      "19:56:09: Main    : before creating thread\n"
     ]
    },
    {
     "name": "stdout",
     "output_type": "stream",
     "text": [
      "Sending 'Hello, World'...\n",
      "Sent\n",
      "Receiving...\n",
      "Received 'Hello, World from 1/answer/496'\n",
      "Sending 'Hello, World'...\n",
      "Sent\n",
      "Receiving...\n",
      "Received 'Hello, World from 2/answer/498'\n",
      "Sending 'Hello, World'...\n",
      "Sent\n",
      "Receiving...\n",
      "Received 'Hello, World from 3/answer/501'\n"
     ]
    },
    {
     "name": "stderr",
     "output_type": "stream",
     "text": [
      "19:56:10: Main    : before running thread\n",
      "19:56:10: Main    : wait for the thread to finish\n",
      "19:56:10: Main    : all done\n",
      "19:56:10: Main    : before creating thread\n"
     ]
    },
    {
     "name": "stdout",
     "output_type": "stream",
     "text": [
      "Sending 'Hello, World'...\n",
      "Sent\n",
      "Receiving...\n",
      "Received 'Hello, World from 1/answer/503'\n",
      "Sending 'Hello, World'...\n",
      "Sent\n",
      "Receiving...\n",
      "Received 'Hello, World from 2/answer/506'\n",
      "Sending 'Hello, World'...\n",
      "Sent\n",
      "Receiving...\n",
      "Received 'Hello, World from 3/answer/508'\n"
     ]
    },
    {
     "name": "stderr",
     "output_type": "stream",
     "text": [
      "19:56:12: Main    : before running thread\n",
      "19:56:12: Main    : wait for the thread to finish\n",
      "19:56:12: Main    : all done\n",
      "19:56:12: Main    : before creating thread\n"
     ]
    },
    {
     "name": "stdout",
     "output_type": "stream",
     "text": [
      "Sending 'Hello, World'...\n",
      "Sent\n",
      "Receiving...\n",
      "Received 'Hello, World from 1/answer/511'\n",
      "Sending 'Hello, World'...\n",
      "Sent\n",
      "Receiving...\n",
      "Received 'Hello, World from 2/answer/513'\n",
      "Sending 'Hello, World'...\n",
      "Sent\n",
      "Receiving...\n",
      "Received 'Hello, World from 3/answer/515'\n"
     ]
    },
    {
     "name": "stderr",
     "output_type": "stream",
     "text": [
      "19:56:13: Main    : before running thread\n",
      "19:56:13: Main    : wait for the thread to finish\n",
      "19:56:13: Main    : all done\n",
      "19:56:13: Main    : before creating thread\n"
     ]
    },
    {
     "name": "stdout",
     "output_type": "stream",
     "text": [
      "Sending 'Hello, World'...\n",
      "Sent\n",
      "Receiving...\n",
      "Received 'Hello, World from 1/answer/518'\n",
      "Sending 'Hello, World'...\n",
      "Sent\n",
      "Receiving...\n",
      "Received 'Hello, World from 2/answer/520'\n",
      "Sending 'Hello, World'...\n",
      "Sent\n",
      "Receiving...\n",
      "Received 'Hello, World from 3/answer/523'\n"
     ]
    },
    {
     "name": "stderr",
     "output_type": "stream",
     "text": [
      "19:56:15: Main    : before running thread\n",
      "19:56:15: Main    : wait for the thread to finish\n",
      "19:56:15: Main    : all done\n",
      "19:56:15: Main    : before creating thread\n"
     ]
    },
    {
     "name": "stdout",
     "output_type": "stream",
     "text": [
      "Sending 'Hello, World'...\n",
      "Sent\n",
      "Receiving...\n",
      "Received 'Hello, World from 1/answer/525'\n",
      "Sending 'Hello, World'...\n",
      "Sent\n",
      "Receiving...\n",
      "Received 'Hello, World from 2/answer/528'\n",
      "Sending 'Hello, World'...\n",
      "Sent\n",
      "Receiving...\n",
      "Received 'Hello, World from 3/answer/530'\n"
     ]
    },
    {
     "name": "stderr",
     "output_type": "stream",
     "text": [
      "19:56:17: Main    : before running thread\n",
      "19:56:17: Main    : wait for the thread to finish\n",
      "19:56:17: Main    : all done\n",
      "19:56:17: Main    : before creating thread\n"
     ]
    },
    {
     "name": "stdout",
     "output_type": "stream",
     "text": [
      "Sending 'Hello, World'...\n",
      "Sent\n",
      "Receiving...\n",
      "Received 'Hello, World from 1/answer/533'\n",
      "Sending 'Hello, World'...\n",
      "Sent\n",
      "Receiving...\n",
      "Received 'Hello, World from 2/answer/535'\n",
      "Sending 'Hello, World'...\n",
      "Sent\n",
      "Receiving...\n",
      "Received 'Hello, World from 3/answer/538'\n"
     ]
    },
    {
     "name": "stderr",
     "output_type": "stream",
     "text": [
      "19:56:18: Main    : before running thread\n",
      "19:56:18: Main    : wait for the thread to finish\n",
      "19:56:18: Main    : all done\n",
      "19:56:18: Main    : before creating thread\n"
     ]
    },
    {
     "name": "stdout",
     "output_type": "stream",
     "text": [
      "Sending 'Hello, World'...\n",
      "Sent\n",
      "Receiving...\n",
      "Received 'Hello, World from 1/answer/540'\n",
      "Sending 'Hello, World'...\n",
      "Sent\n",
      "Receiving...\n",
      "Received 'Hello, World from 2/answer/542'\n",
      "Sending 'Hello, World'...\n",
      "Sent\n",
      "Receiving...\n",
      "Received 'Hello, World from 3/answer/545'\n"
     ]
    },
    {
     "name": "stderr",
     "output_type": "stream",
     "text": [
      "19:56:20: Main    : before running thread\n",
      "19:56:20: Main    : wait for the thread to finish\n",
      "19:56:20: Main    : all done\n",
      "19:56:20: Main    : before creating thread\n"
     ]
    },
    {
     "name": "stdout",
     "output_type": "stream",
     "text": [
      "Sending 'Hello, World'...\n",
      "Sent\n",
      "Receiving...\n",
      "Received 'Hello, World from 1/answer/547'\n",
      "Sending 'Hello, World'...\n",
      "Sent\n",
      "Receiving...\n",
      "Received 'Hello, World from 2/answer/550'\n",
      "Sending 'Hello, World'...\n",
      "Sent\n",
      "Receiving...\n",
      "Received 'Hello, World from 3/answer/552'\n"
     ]
    },
    {
     "name": "stderr",
     "output_type": "stream",
     "text": [
      "19:56:21: Main    : before running thread\n",
      "19:56:21: Main    : wait for the thread to finish\n",
      "19:56:21: Main    : all done\n",
      "19:56:21: Main    : before creating thread\n"
     ]
    },
    {
     "name": "stdout",
     "output_type": "stream",
     "text": [
      "Sending 'Hello, World'...\n",
      "Sent\n",
      "Receiving...\n",
      "Received 'Hello, World from 1/answer/555'\n",
      "Sending 'Hello, World'...\n",
      "Sent\n",
      "Receiving...\n",
      "Received 'Hello, World from 2/answer/557'\n",
      "Sending 'Hello, World'...\n",
      "Sent\n",
      "Receiving...\n",
      "Received 'Hello, World from 3/answer/559'\n"
     ]
    },
    {
     "name": "stderr",
     "output_type": "stream",
     "text": [
      "19:56:23: Main    : before running thread\n",
      "19:56:23: Main    : wait for the thread to finish\n",
      "19:56:23: Main    : all done\n",
      "19:56:23: Main    : before creating thread\n"
     ]
    },
    {
     "name": "stdout",
     "output_type": "stream",
     "text": [
      "Sending 'Hello, World'...\n",
      "Sent\n",
      "Receiving...\n",
      "Received 'Hello, World from 1/answer/562'\n",
      "Sending 'Hello, World'...\n",
      "Sent\n",
      "Receiving...\n",
      "Received 'Hello, World from 2/answer/564'\n",
      "Sending 'Hello, World'...\n",
      "Sent\n",
      "Receiving...\n",
      "Received 'Hello, World from 3/answer/567'\n"
     ]
    },
    {
     "name": "stderr",
     "output_type": "stream",
     "text": [
      "19:56:24: Main    : before running thread\n",
      "19:56:24: Main    : wait for the thread to finish\n",
      "19:56:24: Main    : all done\n",
      "19:56:24: Main    : before creating thread\n"
     ]
    },
    {
     "name": "stdout",
     "output_type": "stream",
     "text": [
      "Sending 'Hello, World'...\n",
      "Sent\n",
      "Receiving...\n",
      "Received 'Hello, World from 1/answer/569'\n",
      "Sending 'Hello, World'...\n",
      "Sent\n",
      "Receiving...\n",
      "Received 'Hello, World from 2/answer/572'\n",
      "Sending 'Hello, World'...\n",
      "Sent\n",
      "Receiving...\n",
      "Received 'Hello, World from 3/answer/574'\n"
     ]
    },
    {
     "name": "stderr",
     "output_type": "stream",
     "text": [
      "19:56:26: Main    : before running thread\n",
      "19:56:26: Main    : wait for the thread to finish\n",
      "19:56:26: Main    : all done\n",
      "19:56:26: Main    : before creating thread\n"
     ]
    },
    {
     "name": "stdout",
     "output_type": "stream",
     "text": [
      "Sending 'Hello, World'...\n",
      "Sent\n",
      "Receiving...\n",
      "Received 'Hello, World from 1/answer/577'\n",
      "Sending 'Hello, World'...\n",
      "Sent\n",
      "Receiving...\n",
      "Received 'Hello, World from 2/answer/579'\n",
      "Sending 'Hello, World'...\n",
      "Sent\n",
      "Receiving...\n",
      "Received 'Hello, World from 3/answer/581'\n"
     ]
    },
    {
     "name": "stderr",
     "output_type": "stream",
     "text": [
      "19:56:27: Main    : before running thread\n",
      "19:56:27: Main    : wait for the thread to finish\n",
      "19:56:27: Main    : all done\n",
      "19:56:27: Main    : before creating thread\n"
     ]
    },
    {
     "name": "stdout",
     "output_type": "stream",
     "text": [
      "Sending 'Hello, World'...\n",
      "Sent\n",
      "Receiving...\n",
      "Received 'Hello, World from 1/answer/584'\n",
      "Sending 'Hello, World'...\n",
      "Sent\n",
      "Receiving...\n",
      "Received 'Hello, World from 2/answer/586'\n",
      "Sending 'Hello, World'...\n",
      "Sent\n",
      "Receiving...\n",
      "Received 'Hello, World from 3/answer/589'\n"
     ]
    },
    {
     "name": "stderr",
     "output_type": "stream",
     "text": [
      "19:56:29: Main    : before running thread\n",
      "19:56:29: Main    : wait for the thread to finish\n",
      "19:56:29: Main    : all done\n",
      "19:56:29: Main    : before creating thread\n"
     ]
    },
    {
     "name": "stdout",
     "output_type": "stream",
     "text": [
      "Sending 'Hello, World'...\n",
      "Sent\n",
      "Receiving...\n",
      "Received 'Hello, World from 1/answer/591'\n",
      "Sending 'Hello, World'...\n",
      "Sent\n",
      "Receiving...\n",
      "Received 'Hello, World from 2/answer/594'\n",
      "Sending 'Hello, World'...\n",
      "Sent\n",
      "Receiving...\n",
      "Received 'Hello, World from 3/answer/596'\n"
     ]
    },
    {
     "name": "stderr",
     "output_type": "stream",
     "text": [
      "19:56:30: Main    : before running thread\n",
      "19:56:30: Main    : wait for the thread to finish\n",
      "19:56:30: Main    : all done\n",
      "19:56:30: Main    : before creating thread\n"
     ]
    },
    {
     "name": "stdout",
     "output_type": "stream",
     "text": [
      "Sending 'Hello, World'...\n",
      "Sent\n",
      "Receiving...\n",
      "Received 'Hello, World from 1/answer/599'\n",
      "Sending 'Hello, World'...\n",
      "Sent\n",
      "Receiving...\n",
      "Received 'Hello, World from 2/answer/601'\n",
      "Sending 'Hello, World'...\n",
      "Sent\n",
      "Receiving...\n",
      "Received 'Hello, World from 3/answer/603'\n"
     ]
    },
    {
     "name": "stderr",
     "output_type": "stream",
     "text": [
      "19:56:32: Main    : before running thread\n",
      "19:56:32: Main    : wait for the thread to finish\n",
      "19:56:32: Main    : all done\n",
      "19:56:32: Main    : before creating thread\n"
     ]
    },
    {
     "name": "stdout",
     "output_type": "stream",
     "text": [
      "Sending 'Hello, World'...\n",
      "Sent\n",
      "Receiving...\n",
      "Received 'Hello, World from 1/answer/606'\n",
      "Sending 'Hello, World'...\n",
      "Sent\n",
      "Receiving...\n",
      "Received 'Hello, World from 2/answer/608'\n",
      "Sending 'Hello, World'...\n",
      "Sent\n",
      "Receiving...\n",
      "Received 'Hello, World from 3/answer/611'\n"
     ]
    },
    {
     "name": "stderr",
     "output_type": "stream",
     "text": [
      "19:56:34: Main    : before running thread\n",
      "19:56:34: Main    : wait for the thread to finish\n",
      "19:56:34: Main    : all done\n",
      "19:56:34: Main    : before creating thread\n"
     ]
    },
    {
     "name": "stdout",
     "output_type": "stream",
     "text": [
      "Sending 'Hello, World'...\n",
      "Sent\n",
      "Receiving...\n",
      "Received 'Hello, World from 1/answer/613'\n",
      "Sending 'Hello, World'...\n",
      "Sent\n",
      "Receiving...\n",
      "Received 'Hello, World from 2/answer/616'\n",
      "Sending 'Hello, World'...\n",
      "Sent\n",
      "Receiving...\n",
      "Received 'Hello, World from 3/answer/618'\n"
     ]
    },
    {
     "name": "stderr",
     "output_type": "stream",
     "text": [
      "19:56:35: Main    : before running thread\n",
      "19:56:35: Main    : wait for the thread to finish\n",
      "19:56:35: Main    : all done\n",
      "19:56:35: Main    : before creating thread\n"
     ]
    },
    {
     "name": "stdout",
     "output_type": "stream",
     "text": [
      "Sending 'Hello, World'...\n",
      "Sent\n",
      "Receiving...\n",
      "Received 'Hello, World from 1/answer/621'\n",
      "Sending 'Hello, World'...\n",
      "Sent\n",
      "Receiving...\n",
      "Received 'Hello, World from 2/answer/623'\n",
      "Sending 'Hello, World'...\n",
      "Sent\n",
      "Receiving...\n",
      "Received 'Hello, World from 3/answer/625'\n"
     ]
    },
    {
     "name": "stderr",
     "output_type": "stream",
     "text": [
      "19:56:37: Main    : before running thread\n",
      "19:56:37: Main    : wait for the thread to finish\n",
      "19:56:37: Main    : all done\n",
      "19:56:37: Main    : before creating thread\n"
     ]
    },
    {
     "name": "stdout",
     "output_type": "stream",
     "text": [
      "Sending 'Hello, World'...\n",
      "Sent\n",
      "Receiving...\n",
      "Received 'Hello, World from 1/answer/628'\n",
      "Sending 'Hello, World'...\n",
      "Sent\n",
      "Receiving...\n",
      "Received 'Hello, World from 2/answer/630'\n",
      "Sending 'Hello, World'...\n",
      "Sent\n",
      "Receiving...\n",
      "Received 'Hello, World from 3/answer/633'\n"
     ]
    },
    {
     "name": "stderr",
     "output_type": "stream",
     "text": [
      "19:56:38: Main    : before running thread\n",
      "19:56:38: Main    : wait for the thread to finish\n",
      "19:56:38: Main    : all done\n",
      "19:56:38: Main    : before creating thread\n"
     ]
    },
    {
     "name": "stdout",
     "output_type": "stream",
     "text": [
      "Sending 'Hello, World'...\n",
      "Sent\n",
      "Receiving...\n",
      "Received 'Hello, World from 1/answer/635'\n",
      "Sending 'Hello, World'...\n",
      "Sent\n",
      "Receiving...\n",
      "Received 'Hello, World from 2/answer/638'\n",
      "Sending 'Hello, World'...\n",
      "Sent\n",
      "Receiving...\n",
      "Received 'Hello, World from 3/answer/640'\n"
     ]
    },
    {
     "name": "stderr",
     "output_type": "stream",
     "text": [
      "19:56:40: Main    : before running thread\n",
      "19:56:40: Main    : wait for the thread to finish\n",
      "19:56:40: Main    : all done\n",
      "19:56:40: Main    : before creating thread\n"
     ]
    },
    {
     "name": "stdout",
     "output_type": "stream",
     "text": [
      "Sending 'Hello, World'...\n",
      "Sent\n",
      "Receiving...\n",
      "Received 'Hello, World from 1/answer/643'\n",
      "Sending 'Hello, World'...\n",
      "Sent\n",
      "Receiving...\n",
      "Received 'Hello, World from 2/answer/645'\n",
      "Sending 'Hello, World'...\n",
      "Sent\n",
      "Receiving...\n",
      "Received 'Hello, World from 3/answer/648'\n"
     ]
    },
    {
     "name": "stderr",
     "output_type": "stream",
     "text": [
      "19:56:41: Main    : before running thread\n",
      "19:56:41: Main    : wait for the thread to finish\n",
      "19:56:41: Main    : all done\n",
      "19:56:41: Main    : before creating thread\n"
     ]
    },
    {
     "name": "stdout",
     "output_type": "stream",
     "text": [
      "Sending 'Hello, World'...\n",
      "Sent\n",
      "Receiving...\n",
      "Received 'Hello, World from 1/answer/650'\n",
      "Sending 'Hello, World'...\n",
      "Sent\n",
      "Receiving...\n",
      "Received 'Hello, World from 2/answer/652'\n",
      "Sending 'Hello, World'...\n",
      "Sent\n",
      "Receiving...\n",
      "Received 'Hello, World from 3/answer/655'\n"
     ]
    },
    {
     "name": "stderr",
     "output_type": "stream",
     "text": [
      "19:56:43: Main    : before running thread\n",
      "19:56:43: Main    : wait for the thread to finish\n",
      "19:56:43: Main    : all done\n",
      "19:56:43: Main    : before creating thread\n"
     ]
    },
    {
     "name": "stdout",
     "output_type": "stream",
     "text": [
      "Sending 'Hello, World'...\n",
      "Sent\n",
      "Receiving...\n",
      "Received 'Hello, World from 1/answer/657'\n",
      "Sending 'Hello, World'...\n",
      "Sent\n",
      "Receiving...\n",
      "Received 'Hello, World from 2/answer/660'\n",
      "Sending 'Hello, World'...\n",
      "Sent\n",
      "Receiving...\n",
      "Received 'Hello, World from 3/answer/662'\n"
     ]
    },
    {
     "name": "stderr",
     "output_type": "stream",
     "text": [
      "19:56:44: Main    : before running thread\n",
      "19:56:44: Main    : wait for the thread to finish\n",
      "19:56:44: Main    : all done\n",
      "19:56:44: Main    : before creating thread\n"
     ]
    },
    {
     "name": "stdout",
     "output_type": "stream",
     "text": [
      "Sending 'Hello, World'...\n",
      "Sent\n",
      "Receiving...\n",
      "Received 'Hello, World from 1/answer/665'\n",
      "Sending 'Hello, World'...\n",
      "Sent\n",
      "Receiving...\n",
      "Received 'Hello, World from 2/answer/667'\n",
      "Sending 'Hello, World'...\n",
      "Sent\n",
      "Receiving...\n",
      "Received 'Hello, World from 3/answer/670'\n"
     ]
    },
    {
     "name": "stderr",
     "output_type": "stream",
     "text": [
      "19:56:46: Main    : before running thread\n",
      "19:56:46: Main    : wait for the thread to finish\n",
      "19:56:46: Main    : all done\n",
      "19:56:46: Main    : before creating thread\n"
     ]
    },
    {
     "name": "stdout",
     "output_type": "stream",
     "text": [
      "Sending 'Hello, World'...\n",
      "Sent\n",
      "Receiving...\n",
      "Received 'Hello, World from 1/answer/672'\n",
      "Sending 'Hello, World'...\n",
      "Sent\n",
      "Receiving...\n",
      "Received 'Hello, World from 2/answer/674'\n",
      "Sending 'Hello, World'...\n",
      "Sent\n",
      "Receiving...\n",
      "Received 'Hello, World from 3/answer/677'\n"
     ]
    },
    {
     "name": "stderr",
     "output_type": "stream",
     "text": [
      "19:56:47: Main    : before running thread\n",
      "19:56:47: Main    : wait for the thread to finish\n",
      "19:56:47: Main    : all done\n",
      "19:56:47: Main    : before creating thread\n"
     ]
    },
    {
     "name": "stdout",
     "output_type": "stream",
     "text": [
      "Sending 'Hello, World'...\n",
      "Sent\n",
      "Receiving...\n",
      "Received 'Hello, World from 1/answer/679'\n",
      "Sending 'Hello, World'...\n",
      "Sent\n",
      "Receiving...\n",
      "Received 'Hello, World from 2/answer/682'\n",
      "Sending 'Hello, World'...\n",
      "Sent\n",
      "Receiving...\n",
      "Received 'Hello, World from 3/answer/684'\n"
     ]
    },
    {
     "name": "stderr",
     "output_type": "stream",
     "text": [
      "19:56:49: Main    : before running thread\n",
      "19:56:49: Main    : wait for the thread to finish\n",
      "19:56:49: Main    : all done\n",
      "19:56:49: Main    : before creating thread\n"
     ]
    },
    {
     "name": "stdout",
     "output_type": "stream",
     "text": [
      "Sending 'Hello, World'...\n",
      "Sent\n",
      "Receiving...\n",
      "Received 'Hello, World from 1/answer/687'\n",
      "Sending 'Hello, World'...\n",
      "Sent\n",
      "Receiving...\n",
      "Received 'Hello, World from 2/answer/689'\n",
      "Sending 'Hello, World'...\n",
      "Sent\n",
      "Receiving...\n",
      "Received 'Hello, World from 3/answer/692'\n"
     ]
    },
    {
     "name": "stderr",
     "output_type": "stream",
     "text": [
      "19:56:51: Main    : before running thread\n",
      "19:56:51: Main    : wait for the thread to finish\n",
      "19:56:51: Main    : all done\n",
      "19:56:51: Main    : before creating thread\n"
     ]
    },
    {
     "name": "stdout",
     "output_type": "stream",
     "text": [
      "Sending 'Hello, World'...\n",
      "Sent\n",
      "Receiving...\n",
      "Received 'Hello, World from 1/answer/694'\n",
      "Sending 'Hello, World'...\n",
      "Sent\n",
      "Receiving...\n",
      "Received 'Hello, World from 2/answer/697'\n",
      "Sending 'Hello, World'...\n",
      "Sent\n",
      "Receiving...\n",
      "Received 'Hello, World from 3/answer/699'\n"
     ]
    },
    {
     "name": "stderr",
     "output_type": "stream",
     "text": [
      "19:56:52: Main    : before running thread\n",
      "19:56:52: Main    : wait for the thread to finish\n",
      "19:56:52: Main    : all done\n",
      "19:56:52: Main    : before creating thread\n"
     ]
    },
    {
     "name": "stdout",
     "output_type": "stream",
     "text": [
      "Sending 'Hello, World'...\n",
      "Sent\n",
      "Receiving...\n",
      "Received 'Hello, World from 1/answer/701'\n",
      "Sending 'Hello, World'...\n",
      "Sent\n",
      "Receiving...\n",
      "Received 'Hello, World from 2/answer/704'\n",
      "Sending 'Hello, World'...\n",
      "Sent\n",
      "Receiving...\n",
      "Received 'Hello, World from 3/answer/706'\n"
     ]
    },
    {
     "name": "stderr",
     "output_type": "stream",
     "text": [
      "19:56:54: Main    : before running thread\n",
      "19:56:54: Main    : wait for the thread to finish\n",
      "19:56:54: Main    : all done\n",
      "19:56:54: Main    : before creating thread\n"
     ]
    },
    {
     "name": "stdout",
     "output_type": "stream",
     "text": [
      "Sending 'Hello, World'...\n",
      "Sent\n",
      "Receiving...\n",
      "Received 'Hello, World from 1/answer/709'\n",
      "Sending 'Hello, World'...\n",
      "Sent\n",
      "Receiving...\n",
      "Received 'Hello, World from 2/answer/711'\n",
      "Sending 'Hello, World'...\n",
      "Sent\n",
      "Receiving...\n",
      "Received 'Hello, World from 3/answer/714'\n"
     ]
    },
    {
     "name": "stderr",
     "output_type": "stream",
     "text": [
      "19:56:55: Main    : before running thread\n",
      "19:56:55: Main    : wait for the thread to finish\n",
      "19:56:55: Main    : all done\n",
      "19:56:55: Main    : before creating thread\n"
     ]
    },
    {
     "name": "stdout",
     "output_type": "stream",
     "text": [
      "Sending 'Hello, World'...\n",
      "Sent\n",
      "Receiving...\n",
      "Received 'Hello, World from 1/answer/716'\n",
      "Sending 'Hello, World'...\n",
      "Sent\n",
      "Receiving...\n",
      "Received 'Hello, World from 2/answer/719'\n",
      "Sending 'Hello, World'...\n",
      "Sent\n",
      "Receiving...\n",
      "Received 'Hello, World from 3/answer/721'\n"
     ]
    },
    {
     "name": "stderr",
     "output_type": "stream",
     "text": [
      "19:56:57: Main    : before running thread\n",
      "19:56:57: Main    : wait for the thread to finish\n",
      "19:56:57: Main    : all done\n",
      "19:56:57: Main    : before creating thread\n"
     ]
    },
    {
     "name": "stdout",
     "output_type": "stream",
     "text": [
      "Sending 'Hello, World'...\n",
      "Sent\n",
      "Receiving...\n",
      "Received 'Hello, World from 1/answer/723'\n",
      "Sending 'Hello, World'...\n",
      "Sent\n",
      "Receiving...\n",
      "Received 'Hello, World from 2/answer/726'\n",
      "Sending 'Hello, World'...\n",
      "Sent\n",
      "Receiving...\n",
      "Received 'Hello, World from 3/answer/727'\n"
     ]
    },
    {
     "name": "stderr",
     "output_type": "stream",
     "text": [
      "19:56:58: Main    : before running thread\n",
      "19:56:58: Main    : wait for the thread to finish\n",
      "19:56:58: Main    : all done\n",
      "19:56:58: Main    : before creating thread\n"
     ]
    },
    {
     "name": "stdout",
     "output_type": "stream",
     "text": [
      "Sending 'Hello, World'...\n",
      "Sent\n",
      "Receiving...\n",
      "Received 'Hello, World from 1/answer/728'\n",
      "Sending 'Hello, World'...\n",
      "Sent\n",
      "Receiving...\n",
      "Received 'Hello, World from 2/answer/729'\n",
      "Sending 'Hello, World'...\n",
      "Sent\n",
      "Receiving...\n",
      "Received 'Hello, World from 3/answer/730'\n"
     ]
    },
    {
     "name": "stderr",
     "output_type": "stream",
     "text": [
      "19:57:00: Main    : before running thread\n",
      "19:57:00: Main    : wait for the thread to finish\n",
      "19:57:00: Main    : all done\n",
      "19:57:00: Main    : before creating thread\n"
     ]
    },
    {
     "name": "stdout",
     "output_type": "stream",
     "text": [
      "Sending 'Hello, World'...\n",
      "Sent\n",
      "Receiving...\n",
      "Received 'Hello, World from 1/answer/731'\n",
      "Sending 'Hello, World'...\n",
      "Sent\n",
      "Receiving...\n",
      "Received 'Hello, World from 2/answer/732'\n",
      "Sending 'Hello, World'...\n",
      "Sent\n",
      "Receiving...\n",
      "Received 'Hello, World from 3/answer/733'\n"
     ]
    },
    {
     "name": "stderr",
     "output_type": "stream",
     "text": [
      "19:57:01: Main    : before running thread\n",
      "19:57:01: Main    : wait for the thread to finish\n",
      "19:57:01: Main    : all done\n",
      "19:57:01: Main    : before creating thread\n"
     ]
    },
    {
     "name": "stdout",
     "output_type": "stream",
     "text": [
      "Sending 'Hello, World'...\n",
      "Sent\n",
      "Receiving...\n",
      "Received 'Hello, World from 1/answer/734'\n",
      "Sending 'Hello, World'...\n",
      "Sent\n",
      "Receiving...\n",
      "Received 'Hello, World from 2/answer/735'\n",
      "Sending 'Hello, World'...\n",
      "Sent\n",
      "Receiving...\n",
      "Received 'Hello, World from 3/answer/736'\n"
     ]
    },
    {
     "name": "stderr",
     "output_type": "stream",
     "text": [
      "19:57:03: Main    : before running thread\n",
      "19:57:03: Main    : wait for the thread to finish\n",
      "19:57:03: Main    : all done\n",
      "19:57:03: Main    : before creating thread\n"
     ]
    },
    {
     "name": "stdout",
     "output_type": "stream",
     "text": [
      "Sending 'Hello, World'...\n",
      "Sent\n",
      "Receiving...\n",
      "Received 'Hello, World from 1/answer/737'\n",
      "Sending 'Hello, World'...\n",
      "Sent\n",
      "Receiving...\n",
      "Received 'Hello, World from 2/answer/738'\n",
      "Sending 'Hello, World'...\n",
      "Sent\n",
      "Receiving...\n",
      "Received 'Hello, World from 3/answer/739'\n"
     ]
    },
    {
     "name": "stderr",
     "output_type": "stream",
     "text": [
      "19:57:05: Main    : before running thread\n",
      "19:57:05: Main    : wait for the thread to finish\n",
      "19:57:05: Main    : all done\n",
      "19:57:05: Main    : before creating thread\n"
     ]
    },
    {
     "name": "stdout",
     "output_type": "stream",
     "text": [
      "Sending 'Hello, World'...\n",
      "Sent\n",
      "Receiving...\n",
      "Received 'Hello, World from 1/answer/740'\n",
      "Sending 'Hello, World'...\n",
      "Sent\n",
      "Receiving...\n",
      "Received 'Hello, World from 2/answer/741'\n",
      "Sending 'Hello, World'...\n",
      "Sent\n",
      "Receiving...\n",
      "Received 'Hello, World from 3/answer/742'\n"
     ]
    },
    {
     "name": "stderr",
     "output_type": "stream",
     "text": [
      "19:57:06: Main    : before running thread\n",
      "19:57:06: Main    : wait for the thread to finish\n",
      "19:57:06: Main    : all done\n",
      "19:57:06: Main    : before creating thread\n"
     ]
    },
    {
     "name": "stdout",
     "output_type": "stream",
     "text": [
      "Sending 'Hello, World'...\n",
      "Sent\n",
      "Receiving...\n",
      "Received 'Hello, World from 1/answer/743'\n",
      "Sending 'Hello, World'...\n",
      "Sent\n",
      "Receiving...\n",
      "Received 'Hello, World from 2/answer/744'\n",
      "Sending 'Hello, World'...\n",
      "Sent\n",
      "Receiving...\n",
      "Received 'Hello, World from 3/answer/745'\n"
     ]
    },
    {
     "name": "stderr",
     "output_type": "stream",
     "text": [
      "19:57:08: Main    : before running thread\n",
      "19:57:08: Main    : wait for the thread to finish\n",
      "19:57:08: Main    : all done\n",
      "19:57:08: Main    : before creating thread\n"
     ]
    },
    {
     "name": "stdout",
     "output_type": "stream",
     "text": [
      "Sending 'Hello, World'...\n",
      "Sent\n",
      "Receiving...\n",
      "Received 'Hello, World from 1/answer/746'\n",
      "Sending 'Hello, World'...\n",
      "Sent\n",
      "Receiving...\n",
      "Received 'Hello, World from 2/answer/747'\n",
      "Sending 'Hello, World'...\n",
      "Sent\n",
      "Receiving...\n",
      "Received 'Hello, World from 3/answer/748'\n"
     ]
    },
    {
     "name": "stderr",
     "output_type": "stream",
     "text": [
      "19:57:09: Main    : before running thread\n",
      "19:57:09: Main    : wait for the thread to finish\n",
      "19:57:09: Main    : all done\n",
      "19:57:09: Main    : before creating thread\n"
     ]
    },
    {
     "name": "stdout",
     "output_type": "stream",
     "text": [
      "Sending 'Hello, World'...\n",
      "Sent\n",
      "Receiving...\n",
      "Received 'Hello, World from 1/answer/749'\n",
      "Sending 'Hello, World'...\n",
      "Sent\n",
      "Receiving...\n",
      "Received 'Hello, World from 2/answer/750'\n",
      "Sending 'Hello, World'...\n",
      "Sent\n",
      "Receiving...\n",
      "Received 'Hello, World from 3/answer/751'\n"
     ]
    },
    {
     "name": "stderr",
     "output_type": "stream",
     "text": [
      "19:57:11: Main    : before running thread\n",
      "19:57:11: Main    : wait for the thread to finish\n",
      "19:57:11: Main    : all done\n",
      "19:57:11: Main    : before creating thread\n"
     ]
    },
    {
     "name": "stdout",
     "output_type": "stream",
     "text": [
      "Sending 'Hello, World'...\n",
      "Sent\n",
      "Receiving...\n",
      "Received 'Hello, World from 1/answer/752'\n",
      "Sending 'Hello, World'...\n",
      "Sent\n",
      "Receiving...\n",
      "Received 'Hello, World from 2/answer/753'\n",
      "Sending 'Hello, World'...\n",
      "Sent\n",
      "Receiving...\n",
      "Received 'Hello, World from 3/answer/754'\n"
     ]
    },
    {
     "name": "stderr",
     "output_type": "stream",
     "text": [
      "19:57:12: Main    : before running thread\n",
      "19:57:12: Main    : wait for the thread to finish\n",
      "19:57:12: Main    : all done\n",
      "19:57:12: Main    : before creating thread\n"
     ]
    },
    {
     "name": "stdout",
     "output_type": "stream",
     "text": [
      "Sending 'Hello, World'...\n",
      "Sent\n",
      "Receiving...\n",
      "Received 'Hello, World from 1/answer/755'\n",
      "Sending 'Hello, World'...\n",
      "Sent\n",
      "Receiving...\n",
      "Received 'Hello, World from 2/answer/756'\n",
      "Sending 'Hello, World'...\n",
      "Sent\n",
      "Receiving...\n",
      "Received 'Hello, World from 3/answer/757'\n"
     ]
    },
    {
     "name": "stderr",
     "output_type": "stream",
     "text": [
      "19:57:14: Main    : before running thread\n",
      "19:57:14: Main    : wait for the thread to finish\n",
      "19:57:14: Main    : all done\n",
      "19:57:14: Main    : before creating thread\n"
     ]
    },
    {
     "name": "stdout",
     "output_type": "stream",
     "text": [
      "Sending 'Hello, World'...\n",
      "Sent\n",
      "Receiving...\n",
      "Received 'Hello, World from 1/answer/758'\n",
      "Sending 'Hello, World'...\n",
      "Sent\n",
      "Receiving...\n",
      "Received 'Hello, World from 2/answer/759'\n",
      "Sending 'Hello, World'...\n",
      "Sent\n",
      "Receiving...\n",
      "Received 'Hello, World from 3/answer/760'\n"
     ]
    },
    {
     "name": "stderr",
     "output_type": "stream",
     "text": [
      "19:57:15: Main    : before running thread\n",
      "19:57:15: Main    : wait for the thread to finish\n",
      "19:57:15: Main    : all done\n",
      "19:57:15: Main    : before creating thread\n"
     ]
    },
    {
     "name": "stdout",
     "output_type": "stream",
     "text": [
      "Sending 'Hello, World'...\n",
      "Sent\n",
      "Receiving...\n",
      "Received 'Hello, World from 1/answer/761'\n",
      "Sending 'Hello, World'...\n",
      "Sent\n",
      "Receiving...\n",
      "Received 'Hello, World from 2/answer/762'\n",
      "Sending 'Hello, World'...\n",
      "Sent\n",
      "Receiving...\n",
      "Received 'Hello, World from 3/answer/763'\n"
     ]
    },
    {
     "name": "stderr",
     "output_type": "stream",
     "text": [
      "19:57:17: Main    : before running thread\n",
      "19:57:17: Main    : wait for the thread to finish\n",
      "19:57:17: Main    : all done\n",
      "19:57:17: Main    : before creating thread\n"
     ]
    },
    {
     "name": "stdout",
     "output_type": "stream",
     "text": [
      "Sending 'Hello, World'...\n",
      "Sent\n",
      "Receiving...\n",
      "Received 'Hello, World from 1/answer/764'\n",
      "Sending 'Hello, World'...\n",
      "Sent\n",
      "Receiving...\n",
      "Received 'Hello, World from 2/answer/765'\n",
      "Sending 'Hello, World'...\n",
      "Sent\n",
      "Receiving...\n",
      "Received 'Hello, World from 3/answer/766'\n"
     ]
    },
    {
     "name": "stderr",
     "output_type": "stream",
     "text": [
      "19:57:18: Main    : before running thread\n",
      "19:57:18: Main    : wait for the thread to finish\n",
      "19:57:18: Main    : all done\n",
      "19:57:18: Main    : before creating thread\n"
     ]
    },
    {
     "name": "stdout",
     "output_type": "stream",
     "text": [
      "Sending 'Hello, World'...\n",
      "Sent\n",
      "Receiving...\n",
      "Received 'Hello, World from 1/answer/767'\n",
      "Sending 'Hello, World'...\n",
      "Sent\n",
      "Receiving...\n",
      "Received 'Hello, World from 2/answer/768'\n",
      "Sending 'Hello, World'...\n",
      "Sent\n",
      "Receiving...\n",
      "Received 'Hello, World from 3/answer/769'\n"
     ]
    },
    {
     "name": "stderr",
     "output_type": "stream",
     "text": [
      "19:57:20: Main    : before running thread\n",
      "19:57:20: Main    : wait for the thread to finish\n",
      "19:57:20: Main    : all done\n",
      "19:57:20: Main    : before creating thread\n"
     ]
    },
    {
     "name": "stdout",
     "output_type": "stream",
     "text": [
      "Sending 'Hello, World'...\n",
      "Sent\n",
      "Receiving...\n",
      "Received 'Hello, World from 1/answer/770'\n",
      "Sending 'Hello, World'...\n",
      "Sent\n",
      "Receiving...\n",
      "Received 'Hello, World from 2/answer/771'\n",
      "Sending 'Hello, World'...\n",
      "Sent\n",
      "Receiving...\n",
      "Received 'Hello, World from 3/answer/772'\n"
     ]
    },
    {
     "name": "stderr",
     "output_type": "stream",
     "text": [
      "19:57:22: Main    : before running thread\n",
      "19:57:22: Main    : wait for the thread to finish\n",
      "19:57:22: Main    : all done\n",
      "19:57:22: Main    : before creating thread\n"
     ]
    },
    {
     "name": "stdout",
     "output_type": "stream",
     "text": [
      "Sending 'Hello, World'...\n",
      "Sent\n",
      "Receiving...\n",
      "Received 'Hello, World from 1/answer/773'\n",
      "Sending 'Hello, World'...\n",
      "Sent\n",
      "Receiving...\n",
      "Received 'Hello, World from 2/answer/774'\n",
      "Sending 'Hello, World'...\n",
      "Sent\n",
      "Receiving...\n",
      "Received 'Hello, World from 3/answer/775'\n"
     ]
    },
    {
     "name": "stderr",
     "output_type": "stream",
     "text": [
      "19:57:23: Main    : before running thread\n",
      "19:57:23: Main    : wait for the thread to finish\n",
      "19:57:23: Main    : all done\n",
      "19:57:23: Main    : before creating thread\n"
     ]
    },
    {
     "name": "stdout",
     "output_type": "stream",
     "text": [
      "Sending 'Hello, World'...\n",
      "Sent\n",
      "Receiving...\n",
      "Received 'Hello, World from 1/answer/776'\n",
      "Sending 'Hello, World'...\n",
      "Sent\n",
      "Receiving...\n",
      "Received 'Hello, World from 2/answer/777'\n",
      "Sending 'Hello, World'...\n",
      "Sent\n",
      "Receiving...\n",
      "Received 'Hello, World from 3/answer/778'\n"
     ]
    },
    {
     "name": "stderr",
     "output_type": "stream",
     "text": [
      "19:57:25: Main    : before running thread\n",
      "19:57:25: Main    : wait for the thread to finish\n",
      "19:57:25: Main    : all done\n",
      "19:57:25: Main    : before creating thread\n"
     ]
    },
    {
     "name": "stdout",
     "output_type": "stream",
     "text": [
      "Sending 'Hello, World'...\n",
      "Sent\n",
      "Receiving...\n",
      "Received 'Hello, World from 1/answer/779'\n",
      "Sending 'Hello, World'...\n",
      "Sent\n",
      "Receiving...\n",
      "Received 'Hello, World from 2/answer/780'\n",
      "Sending 'Hello, World'...\n",
      "Sent\n",
      "Receiving...\n",
      "Received 'Hello, World from 3/answer/781'\n"
     ]
    },
    {
     "name": "stderr",
     "output_type": "stream",
     "text": [
      "19:57:26: Main    : before running thread\n",
      "19:57:26: Main    : wait for the thread to finish\n",
      "19:57:26: Main    : all done\n",
      "19:57:26: Main    : before creating thread\n"
     ]
    },
    {
     "name": "stdout",
     "output_type": "stream",
     "text": [
      "Sending 'Hello, World'...\n",
      "Sent\n",
      "Receiving...\n",
      "Received 'Hello, World from 1/answer/782'\n",
      "Sending 'Hello, World'...\n",
      "Sent\n",
      "Receiving...\n",
      "Received 'Hello, World from 2/answer/783'\n",
      "Sending 'Hello, World'...\n",
      "Sent\n",
      "Receiving...\n",
      "Received 'Hello, World from 3/answer/784'\n"
     ]
    },
    {
     "name": "stderr",
     "output_type": "stream",
     "text": [
      "19:57:28: Main    : before running thread\n",
      "19:57:28: Main    : wait for the thread to finish\n",
      "19:57:28: Main    : all done\n",
      "19:57:28: Main    : before creating thread\n"
     ]
    },
    {
     "name": "stdout",
     "output_type": "stream",
     "text": [
      "Sending 'Hello, World'...\n",
      "Sent\n",
      "Receiving...\n",
      "Received 'Hello, World from 1/answer/785'\n",
      "Sending 'Hello, World'...\n",
      "Sent\n",
      "Receiving...\n",
      "Received 'Hello, World from 2/answer/786'\n",
      "Sending 'Hello, World'...\n",
      "Sent\n",
      "Receiving...\n",
      "Received 'Hello, World from 3/answer/787'\n"
     ]
    },
    {
     "name": "stderr",
     "output_type": "stream",
     "text": [
      "19:57:29: Main    : before running thread\n",
      "19:57:29: Main    : wait for the thread to finish\n",
      "19:57:29: Main    : all done\n",
      "19:57:29: Main    : before creating thread\n"
     ]
    },
    {
     "name": "stdout",
     "output_type": "stream",
     "text": [
      "Sending 'Hello, World'...\n",
      "Sent\n",
      "Receiving...\n",
      "Received 'Hello, World from 1/answer/789'\n",
      "Sending 'Hello, World'...\n",
      "Sent\n",
      "Receiving...\n",
      "Received 'Hello, World from 2/answer/792'\n",
      "Sending 'Hello, World'...\n",
      "Sent\n",
      "Receiving...\n",
      "Received 'Hello, World from 3/answer/794'\n"
     ]
    },
    {
     "name": "stderr",
     "output_type": "stream",
     "text": [
      "19:57:31: Main    : before running thread\n",
      "19:57:31: Main    : wait for the thread to finish\n",
      "19:57:31: Main    : all done\n",
      "19:57:31: Main    : before creating thread\n"
     ]
    },
    {
     "name": "stdout",
     "output_type": "stream",
     "text": [
      "Sending 'Hello, World'...\n",
      "Sent\n",
      "Receiving...\n",
      "Received 'Hello, World from 1/answer/797'\n",
      "Sending 'Hello, World'...\n",
      "Sent\n",
      "Receiving...\n",
      "Received 'Hello, World from 2/answer/799'\n",
      "Sending 'Hello, World'...\n",
      "Sent\n",
      "Receiving...\n",
      "Received 'Hello, World from 3/answer/802'\n"
     ]
    },
    {
     "name": "stderr",
     "output_type": "stream",
     "text": [
      "19:57:32: Main    : before running thread\n",
      "19:57:32: Main    : wait for the thread to finish\n",
      "19:57:32: Main    : all done\n",
      "19:57:32: Main    : before creating thread\n"
     ]
    },
    {
     "name": "stdout",
     "output_type": "stream",
     "text": [
      "Sending 'Hello, World'...\n",
      "Sent\n",
      "Receiving...\n",
      "Received 'Hello, World from 1/answer/804'\n",
      "Sending 'Hello, World'...\n",
      "Sent\n",
      "Receiving...\n",
      "Received 'Hello, World from 2/answer/806'\n",
      "Sending 'Hello, World'...\n",
      "Sent\n",
      "Receiving...\n",
      "Received 'Hello, World from 3/answer/808'\n"
     ]
    },
    {
     "name": "stderr",
     "output_type": "stream",
     "text": [
      "19:57:34: Main    : before running thread\n",
      "19:57:34: Main    : wait for the thread to finish\n",
      "19:57:34: Main    : all done\n",
      "19:57:34: Main    : before creating thread\n"
     ]
    },
    {
     "name": "stdout",
     "output_type": "stream",
     "text": [
      "Sending 'Hello, World'...\n",
      "Sent\n",
      "Receiving...\n",
      "Received 'Hello, World from 1/answer/809'\n",
      "Sending 'Hello, World'...\n",
      "Sent\n",
      "Receiving...\n",
      "Received 'Hello, World from 2/answer/810'\n",
      "Sending 'Hello, World'...\n",
      "Sent\n",
      "Receiving...\n",
      "Received 'Hello, World from 3/answer/811'\n"
     ]
    },
    {
     "name": "stderr",
     "output_type": "stream",
     "text": [
      "19:57:36: Main    : before running thread\n",
      "19:57:36: Main    : wait for the thread to finish\n",
      "19:57:36: Main    : all done\n",
      "19:57:36: Main    : before creating thread\n"
     ]
    },
    {
     "name": "stdout",
     "output_type": "stream",
     "text": [
      "Sending 'Hello, World'...\n",
      "Sent\n",
      "Receiving...\n",
      "Received 'Hello, World from 1/answer/812'\n",
      "Sending 'Hello, World'...\n",
      "Sent\n",
      "Receiving...\n",
      "Received 'Hello, World from 2/answer/813'\n",
      "Sending 'Hello, World'...\n",
      "Sent\n",
      "Receiving...\n",
      "Received 'Hello, World from 3/answer/814'\n"
     ]
    },
    {
     "name": "stderr",
     "output_type": "stream",
     "text": [
      "19:57:37: Main    : before running thread\n",
      "19:57:37: Main    : wait for the thread to finish\n",
      "19:57:37: Main    : all done\n",
      "19:57:37: Main    : before creating thread\n"
     ]
    },
    {
     "name": "stdout",
     "output_type": "stream",
     "text": [
      "Sending 'Hello, World'...\n",
      "Sent\n",
      "Receiving...\n",
      "Received 'Hello, World from 1/answer/815'\n",
      "Sending 'Hello, World'...\n",
      "Sent\n",
      "Receiving...\n",
      "Received 'Hello, World from 2/answer/816'\n",
      "Sending 'Hello, World'...\n",
      "Sent\n",
      "Receiving...\n",
      "Received 'Hello, World from 3/answer/817'\n"
     ]
    },
    {
     "name": "stderr",
     "output_type": "stream",
     "text": [
      "19:57:39: Main    : before running thread\n",
      "19:57:39: Main    : wait for the thread to finish\n",
      "19:57:39: Main    : all done\n",
      "19:57:39: Main    : before creating thread\n"
     ]
    },
    {
     "name": "stdout",
     "output_type": "stream",
     "text": [
      "Sending 'Hello, World'...\n",
      "Sent\n",
      "Receiving...\n",
      "Received 'Hello, World from 1/answer/818'\n",
      "Sending 'Hello, World'...\n",
      "Sent\n",
      "Receiving...\n",
      "Received 'Hello, World from 2/answer/819'\n",
      "Sending 'Hello, World'...\n",
      "Sent\n",
      "Receiving...\n",
      "Received 'Hello, World from 3/answer/820'\n"
     ]
    },
    {
     "name": "stderr",
     "output_type": "stream",
     "text": [
      "19:57:40: Main    : before running thread\n",
      "19:57:40: Main    : wait for the thread to finish\n",
      "19:57:40: Main    : all done\n",
      "19:57:40: Main    : before creating thread\n"
     ]
    },
    {
     "name": "stdout",
     "output_type": "stream",
     "text": [
      "Sending 'Hello, World'...\n",
      "Sent\n",
      "Receiving...\n",
      "Received 'Hello, World from 1/answer/821'\n",
      "Sending 'Hello, World'...\n",
      "Sent\n",
      "Receiving...\n",
      "Received 'Hello, World from 2/answer/822'\n",
      "Sending 'Hello, World'...\n",
      "Sent\n",
      "Receiving...\n",
      "Received 'Hello, World from 3/answer/823'\n"
     ]
    },
    {
     "name": "stderr",
     "output_type": "stream",
     "text": [
      "19:57:42: Main    : before running thread\n",
      "19:57:42: Main    : wait for the thread to finish\n",
      "19:57:42: Main    : all done\n",
      "19:57:42: Main    : before creating thread\n"
     ]
    },
    {
     "name": "stdout",
     "output_type": "stream",
     "text": [
      "Sending 'Hello, World'...\n",
      "Sent\n",
      "Receiving...\n",
      "Received 'Hello, World from 1/answer/824'\n",
      "Sending 'Hello, World'...\n",
      "Sent\n",
      "Receiving...\n",
      "Received 'Hello, World from 2/answer/825'\n",
      "Sending 'Hello, World'...\n",
      "Sent\n",
      "Receiving...\n",
      "Received 'Hello, World from 3/answer/826'\n"
     ]
    },
    {
     "name": "stderr",
     "output_type": "stream",
     "text": [
      "19:57:43: Main    : before running thread\n",
      "19:57:43: Main    : wait for the thread to finish\n",
      "19:57:43: Main    : all done\n",
      "19:57:43: Main    : before creating thread\n"
     ]
    },
    {
     "name": "stdout",
     "output_type": "stream",
     "text": [
      "Sending 'Hello, World'...\n",
      "Sent\n",
      "Receiving...\n",
      "Received 'Hello, World from 1/answer/827'\n",
      "Sending 'Hello, World'...\n",
      "Sent\n",
      "Receiving...\n",
      "Received 'Hello, World from 2/answer/828'\n",
      "Sending 'Hello, World'...\n",
      "Sent\n",
      "Receiving...\n",
      "Received 'Hello, World from 3/answer/829'\n"
     ]
    },
    {
     "name": "stderr",
     "output_type": "stream",
     "text": [
      "19:57:45: Main    : before running thread\n",
      "19:57:45: Main    : wait for the thread to finish\n",
      "19:57:45: Main    : all done\n",
      "19:57:45: Main    : before creating thread\n"
     ]
    },
    {
     "name": "stdout",
     "output_type": "stream",
     "text": [
      "Sending 'Hello, World'...\n",
      "Sent\n",
      "Receiving...\n",
      "Received 'Hello, World from 1/answer/830'\n",
      "Sending 'Hello, World'...\n",
      "Sent\n",
      "Receiving...\n",
      "Received 'Hello, World from 2/answer/831'\n",
      "Sending 'Hello, World'...\n",
      "Sent\n",
      "Receiving...\n",
      "Received 'Hello, World from 3/answer/832'\n"
     ]
    },
    {
     "name": "stderr",
     "output_type": "stream",
     "text": [
      "19:57:46: Main    : before running thread\n",
      "19:57:46: Main    : wait for the thread to finish\n",
      "19:57:46: Main    : all done\n",
      "19:57:46: Main    : before creating thread\n"
     ]
    },
    {
     "name": "stdout",
     "output_type": "stream",
     "text": [
      "Sending 'Hello, World'...\n",
      "Sent\n",
      "Receiving...\n",
      "Received 'Hello, World from 1/answer/833'\n",
      "Sending 'Hello, World'...\n",
      "Sent\n",
      "Receiving...\n",
      "Received 'Hello, World from 2/answer/834'\n",
      "Sending 'Hello, World'...\n",
      "Sent\n",
      "Receiving...\n",
      "Received 'Hello, World from 3/answer/835'\n"
     ]
    },
    {
     "name": "stderr",
     "output_type": "stream",
     "text": [
      "19:57:48: Main    : before running thread\n",
      "19:57:48: Main    : wait for the thread to finish\n",
      "19:57:48: Main    : all done\n",
      "19:57:48: Main    : before creating thread\n"
     ]
    },
    {
     "name": "stdout",
     "output_type": "stream",
     "text": [
      "Sending 'Hello, World'...\n",
      "Sent\n",
      "Receiving...\n",
      "Received 'Hello, World from 1/answer/836'\n",
      "Sending 'Hello, World'...\n",
      "Sent\n",
      "Receiving...\n",
      "Received 'Hello, World from 2/answer/837'\n",
      "Sending 'Hello, World'...\n",
      "Sent\n",
      "Receiving...\n",
      "Received 'Hello, World from 3/answer/838'\n"
     ]
    },
    {
     "name": "stderr",
     "output_type": "stream",
     "text": [
      "19:57:50: Main    : before running thread\n",
      "19:57:50: Main    : wait for the thread to finish\n",
      "19:57:50: Main    : all done\n",
      "19:57:50: Main    : before creating thread\n"
     ]
    },
    {
     "name": "stdout",
     "output_type": "stream",
     "text": [
      "Sending 'Hello, World'...\n",
      "Sent\n",
      "Receiving...\n",
      "Received 'Hello, World from 1/answer/839'\n",
      "Sending 'Hello, World'...\n",
      "Sent\n",
      "Receiving...\n",
      "Received 'Hello, World from 2/answer/840'\n",
      "Sending 'Hello, World'...\n",
      "Sent\n",
      "Receiving...\n",
      "Received 'Hello, World from 3/answer/841'\n"
     ]
    },
    {
     "name": "stderr",
     "output_type": "stream",
     "text": [
      "19:57:51: Main    : before running thread\n",
      "19:57:51: Main    : wait for the thread to finish\n",
      "19:57:51: Main    : all done\n",
      "19:57:51: Main    : before creating thread\n"
     ]
    },
    {
     "name": "stdout",
     "output_type": "stream",
     "text": [
      "Sending 'Hello, World'...\n",
      "Sent\n",
      "Receiving...\n",
      "Received 'Hello, World from 1/answer/842'\n",
      "Sending 'Hello, World'...\n",
      "Sent\n",
      "Receiving...\n",
      "Received 'Hello, World from 2/answer/843'\n",
      "Sending 'Hello, World'...\n",
      "Sent\n",
      "Receiving...\n",
      "Received 'Hello, World from 3/answer/844'\n"
     ]
    },
    {
     "name": "stderr",
     "output_type": "stream",
     "text": [
      "19:57:53: Main    : before running thread\n",
      "19:57:53: Main    : wait for the thread to finish\n",
      "19:57:53: Main    : all done\n",
      "19:57:53: Main    : before creating thread\n"
     ]
    },
    {
     "name": "stdout",
     "output_type": "stream",
     "text": [
      "Sending 'Hello, World'...\n",
      "Sent\n",
      "Receiving...\n",
      "Received 'Hello, World from 1/answer/845'\n",
      "Sending 'Hello, World'...\n",
      "Sent\n",
      "Receiving...\n",
      "Received 'Hello, World from 2/answer/846'\n",
      "Sending 'Hello, World'...\n",
      "Sent\n",
      "Receiving...\n",
      "Received 'Hello, World from 3/answer/847'\n"
     ]
    },
    {
     "name": "stderr",
     "output_type": "stream",
     "text": [
      "19:57:54: Main    : before running thread\n",
      "19:57:54: Main    : wait for the thread to finish\n",
      "19:57:54: Main    : all done\n",
      "19:57:54: Main    : before creating thread\n"
     ]
    },
    {
     "name": "stdout",
     "output_type": "stream",
     "text": [
      "Sending 'Hello, World'...\n",
      "Sent\n",
      "Receiving...\n",
      "Received 'Hello, World from 1/answer/848'\n",
      "Sending 'Hello, World'...\n",
      "Sent\n",
      "Receiving...\n",
      "Received 'Hello, World from 2/answer/849'\n",
      "Sending 'Hello, World'...\n",
      "Sent\n",
      "Receiving...\n",
      "Received 'Hello, World from 3/answer/850'\n"
     ]
    },
    {
     "name": "stderr",
     "output_type": "stream",
     "text": [
      "19:57:56: Main    : before running thread\n",
      "19:57:56: Main    : wait for the thread to finish\n",
      "19:57:56: Main    : all done\n",
      "19:57:56: Main    : before creating thread\n"
     ]
    },
    {
     "name": "stdout",
     "output_type": "stream",
     "text": [
      "Sending 'Hello, World'...\n",
      "Sent\n",
      "Receiving...\n",
      "Received 'Hello, World from 1/answer/851'\n",
      "Sending 'Hello, World'...\n",
      "Sent\n",
      "Receiving...\n",
      "Received 'Hello, World from 2/answer/852'\n",
      "Sending 'Hello, World'...\n",
      "Sent\n",
      "Receiving...\n",
      "Received 'Hello, World from 3/answer/853'\n"
     ]
    },
    {
     "name": "stderr",
     "output_type": "stream",
     "text": [
      "19:57:57: Main    : before running thread\n",
      "19:57:57: Main    : wait for the thread to finish\n",
      "19:57:57: Main    : all done\n",
      "19:57:57: Main    : before creating thread\n"
     ]
    },
    {
     "name": "stdout",
     "output_type": "stream",
     "text": [
      "Sending 'Hello, World'...\n",
      "Sent\n",
      "Receiving...\n",
      "Received 'Hello, World from 1/answer/854'\n",
      "Sending 'Hello, World'...\n",
      "Sent\n",
      "Receiving...\n",
      "Received 'Hello, World from 2/answer/855'\n",
      "Sending 'Hello, World'...\n",
      "Sent\n",
      "Receiving...\n",
      "Received 'Hello, World from 3/answer/856'\n"
     ]
    },
    {
     "name": "stderr",
     "output_type": "stream",
     "text": [
      "19:57:59: Main    : before running thread\n",
      "19:57:59: Main    : wait for the thread to finish\n",
      "19:57:59: Main    : all done\n",
      "19:57:59: Main    : before creating thread\n"
     ]
    },
    {
     "name": "stdout",
     "output_type": "stream",
     "text": [
      "Sending 'Hello, World'...\n",
      "Sent\n",
      "Receiving...\n",
      "Received 'Hello, World from 1/answer/857'\n",
      "Sending 'Hello, World'...\n",
      "Sent\n",
      "Receiving...\n",
      "Received 'Hello, World from 2/answer/858'\n",
      "Sending 'Hello, World'...\n",
      "Sent\n",
      "Receiving...\n",
      "Received 'Hello, World from 3/answer/859'\n"
     ]
    },
    {
     "name": "stderr",
     "output_type": "stream",
     "text": [
      "19:58:00: Main    : before running thread\n",
      "19:58:00: Main    : wait for the thread to finish\n",
      "19:58:00: Main    : all done\n",
      "19:58:00: Main    : before creating thread\n"
     ]
    },
    {
     "name": "stdout",
     "output_type": "stream",
     "text": [
      "Sending 'Hello, World'...\n",
      "Sent\n",
      "Receiving...\n",
      "Received 'Hello, World from 1/answer/860'\n",
      "Sending 'Hello, World'...\n",
      "Sent\n",
      "Receiving...\n",
      "Received 'Hello, World from 2/answer/861'\n",
      "Sending 'Hello, World'...\n",
      "Sent\n",
      "Receiving...\n",
      "Received 'Hello, World from 3/answer/862'\n"
     ]
    },
    {
     "name": "stderr",
     "output_type": "stream",
     "text": [
      "19:58:02: Main    : before running thread\n",
      "19:58:02: Main    : wait for the thread to finish\n",
      "19:58:02: Main    : all done\n",
      "19:58:02: Main    : before creating thread\n"
     ]
    },
    {
     "name": "stdout",
     "output_type": "stream",
     "text": [
      "Sending 'Hello, World'...\n",
      "Sent\n",
      "Receiving...\n",
      "Received 'Hello, World from 1/answer/863'\n",
      "Sending 'Hello, World'...\n",
      "Sent\n",
      "Receiving...\n",
      "Received 'Hello, World from 2/answer/864'\n",
      "Sending 'Hello, World'...\n",
      "Sent\n",
      "Receiving...\n",
      "Received 'Hello, World from 3/answer/865'\n"
     ]
    },
    {
     "name": "stderr",
     "output_type": "stream",
     "text": [
      "19:58:03: Main    : before running thread\n",
      "19:58:04: Main    : wait for the thread to finish\n",
      "19:58:04: Main    : all done\n",
      "19:58:04: Main    : before creating thread\n"
     ]
    },
    {
     "name": "stdout",
     "output_type": "stream",
     "text": [
      "Sending 'Hello, World'...\n",
      "Sent\n",
      "Receiving...\n",
      "Received 'Hello, World from 1/answer/866'\n",
      "Sending 'Hello, World'...\n",
      "Sent\n",
      "Receiving...\n",
      "Received 'Hello, World from 2/answer/867'\n",
      "Sending 'Hello, World'...\n",
      "Sent\n",
      "Receiving...\n",
      "Received 'Hello, World from 3/answer/868'\n"
     ]
    },
    {
     "name": "stderr",
     "output_type": "stream",
     "text": [
      "19:58:05: Main    : before running thread\n",
      "19:58:05: Main    : wait for the thread to finish\n",
      "19:58:05: Main    : all done\n",
      "19:58:05: Main    : before creating thread\n"
     ]
    },
    {
     "name": "stdout",
     "output_type": "stream",
     "text": [
      "Sending 'Hello, World'...\n",
      "Sent\n",
      "Receiving...\n",
      "Received 'Hello, World from 1/answer/869'\n",
      "Sending 'Hello, World'...\n",
      "Sent\n",
      "Receiving...\n",
      "Received 'Hello, World from 2/answer/870'\n",
      "Sending 'Hello, World'...\n",
      "Sent\n",
      "Receiving...\n",
      "Received 'Hello, World from 3/answer/871'\n"
     ]
    },
    {
     "name": "stderr",
     "output_type": "stream",
     "text": [
      "19:58:07: Main    : before running thread\n",
      "19:58:07: Main    : wait for the thread to finish\n",
      "19:58:07: Main    : all done\n",
      "19:58:07: Main    : before creating thread\n"
     ]
    },
    {
     "name": "stdout",
     "output_type": "stream",
     "text": [
      "Sending 'Hello, World'...\n",
      "Sent\n",
      "Receiving...\n",
      "Received 'Hello, World from 1/answer/872'\n",
      "Sending 'Hello, World'...\n",
      "Sent\n",
      "Receiving...\n",
      "Received 'Hello, World from 2/answer/873'\n",
      "Sending 'Hello, World'...\n",
      "Sent\n",
      "Receiving...\n",
      "Received 'Hello, World from 3/answer/874'\n"
     ]
    },
    {
     "name": "stderr",
     "output_type": "stream",
     "text": [
      "19:58:08: Main    : before running thread\n",
      "19:58:08: Main    : wait for the thread to finish\n",
      "19:58:08: Main    : all done\n",
      "19:58:08: Main    : before creating thread\n"
     ]
    },
    {
     "name": "stdout",
     "output_type": "stream",
     "text": [
      "Sending 'Hello, World'...\n",
      "Sent\n",
      "Receiving...\n",
      "Received 'Hello, World from 1/answer/875'\n",
      "Sending 'Hello, World'...\n",
      "Sent\n",
      "Receiving...\n",
      "Received 'Hello, World from 2/answer/876'\n",
      "Sending 'Hello, World'...\n",
      "Sent\n",
      "Receiving...\n",
      "Received 'Hello, World from 3/answer/877'\n"
     ]
    },
    {
     "name": "stderr",
     "output_type": "stream",
     "text": [
      "19:58:10: Main    : before running thread\n",
      "19:58:10: Main    : wait for the thread to finish\n",
      "19:58:10: Main    : all done\n",
      "19:58:10: Main    : before creating thread\n"
     ]
    },
    {
     "name": "stdout",
     "output_type": "stream",
     "text": [
      "Sending 'Hello, World'...\n",
      "Sent\n",
      "Receiving...\n",
      "Received 'Hello, World from 1/answer/878'\n",
      "Sending 'Hello, World'...\n",
      "Sent\n",
      "Receiving...\n",
      "Received 'Hello, World from 2/answer/879'\n",
      "Sending 'Hello, World'...\n",
      "Sent\n",
      "Receiving...\n",
      "Received 'Hello, World from 3/answer/880'\n"
     ]
    },
    {
     "name": "stderr",
     "output_type": "stream",
     "text": [
      "19:58:11: Main    : before running thread\n",
      "19:58:11: Main    : wait for the thread to finish\n",
      "19:58:11: Main    : all done\n",
      "19:58:11: Main    : before creating thread\n"
     ]
    },
    {
     "name": "stdout",
     "output_type": "stream",
     "text": [
      "Sending 'Hello, World'...\n",
      "Sent\n",
      "Receiving...\n",
      "Received 'Hello, World from 1/answer/881'\n",
      "Sending 'Hello, World'...\n",
      "Sent\n",
      "Receiving...\n",
      "Received 'Hello, World from 2/answer/882'\n",
      "Sending 'Hello, World'...\n",
      "Sent\n",
      "Receiving...\n",
      "Received 'Hello, World from 3/answer/883'\n"
     ]
    },
    {
     "name": "stderr",
     "output_type": "stream",
     "text": [
      "19:58:13: Main    : before running thread\n",
      "19:58:13: Main    : wait for the thread to finish\n",
      "19:58:13: Main    : all done\n",
      "19:58:13: Main    : before creating thread\n"
     ]
    },
    {
     "name": "stdout",
     "output_type": "stream",
     "text": [
      "Sending 'Hello, World'...\n",
      "Sent\n",
      "Receiving...\n",
      "Received 'Hello, World from 1/answer/884'\n",
      "Sending 'Hello, World'...\n",
      "Sent\n",
      "Receiving...\n",
      "Received 'Hello, World from 2/answer/885'\n",
      "Sending 'Hello, World'...\n",
      "Sent\n",
      "Receiving...\n",
      "Received 'Hello, World from 3/answer/886'\n"
     ]
    },
    {
     "name": "stderr",
     "output_type": "stream",
     "text": [
      "19:58:14: Main    : before running thread\n",
      "19:58:14: Main    : wait for the thread to finish\n",
      "19:58:14: Main    : all done\n",
      "19:58:14: Main    : before creating thread\n"
     ]
    },
    {
     "name": "stdout",
     "output_type": "stream",
     "text": [
      "Sending 'Hello, World'...\n",
      "Sent\n",
      "Receiving...\n",
      "Received 'Hello, World from 1/answer/887'\n",
      "Sending 'Hello, World'...\n",
      "Sent\n",
      "Receiving...\n",
      "Received 'Hello, World from 2/answer/888'\n",
      "Sending 'Hello, World'...\n",
      "Sent\n",
      "Receiving...\n",
      "Received 'Hello, World from 3/answer/889'\n"
     ]
    },
    {
     "name": "stderr",
     "output_type": "stream",
     "text": [
      "19:58:16: Main    : before running thread\n",
      "19:58:16: Main    : wait for the thread to finish\n",
      "19:58:16: Main    : all done\n",
      "19:58:16: Main    : before creating thread\n"
     ]
    },
    {
     "name": "stdout",
     "output_type": "stream",
     "text": [
      "Sending 'Hello, World'...\n",
      "Sent\n",
      "Receiving...\n",
      "Received 'Hello, World from 1/answer/890'\n",
      "Sending 'Hello, World'...\n",
      "Sent\n",
      "Receiving...\n",
      "Received 'Hello, World from 2/answer/891'\n",
      "Sending 'Hello, World'...\n",
      "Sent\n",
      "Receiving...\n",
      "Received 'Hello, World from 3/answer/892'\n"
     ]
    },
    {
     "name": "stderr",
     "output_type": "stream",
     "text": [
      "19:58:17: Main    : before running thread\n",
      "19:58:17: Main    : wait for the thread to finish\n",
      "19:58:17: Main    : all done\n",
      "19:58:17: Main    : before creating thread\n"
     ]
    },
    {
     "name": "stdout",
     "output_type": "stream",
     "text": [
      "Sending 'Hello, World'...\n",
      "Sent\n",
      "Receiving...\n",
      "Received 'Hello, World from 1/answer/893'\n",
      "Sending 'Hello, World'...\n",
      "Sent\n",
      "Receiving...\n",
      "Received 'Hello, World from 2/answer/894'\n",
      "Sending 'Hello, World'...\n",
      "Sent\n",
      "Receiving...\n",
      "Received 'Hello, World from 3/answer/895'\n"
     ]
    },
    {
     "name": "stderr",
     "output_type": "stream",
     "text": [
      "19:58:19: Main    : before running thread\n",
      "19:58:19: Main    : wait for the thread to finish\n",
      "19:58:19: Main    : all done\n",
      "19:58:19: Main    : before creating thread\n"
     ]
    },
    {
     "name": "stdout",
     "output_type": "stream",
     "text": [
      "Sending 'Hello, World'...\n",
      "Sent\n",
      "Receiving...\n",
      "Received 'Hello, World from 1/answer/896'\n",
      "Sending 'Hello, World'...\n",
      "Sent\n",
      "Receiving...\n",
      "Received 'Hello, World from 2/answer/897'\n",
      "Sending 'Hello, World'...\n",
      "Sent\n",
      "Receiving...\n",
      "Received 'Hello, World from 3/answer/898'\n"
     ]
    },
    {
     "name": "stderr",
     "output_type": "stream",
     "text": [
      "19:58:21: Main    : before running thread\n",
      "19:58:21: Main    : wait for the thread to finish\n",
      "19:58:21: Main    : all done\n",
      "19:58:21: Main    : before creating thread\n"
     ]
    },
    {
     "name": "stdout",
     "output_type": "stream",
     "text": [
      "Sending 'Hello, World'...\n",
      "Sent\n",
      "Receiving...\n",
      "Received 'Hello, World from 1/answer/899'\n",
      "Sending 'Hello, World'...\n",
      "Sent\n",
      "Receiving...\n",
      "Received 'Hello, World from 2/answer/900'\n",
      "Sending 'Hello, World'...\n",
      "Sent\n",
      "Receiving...\n",
      "Received 'Hello, World from 3/answer/901'\n"
     ]
    },
    {
     "name": "stderr",
     "output_type": "stream",
     "text": [
      "19:58:22: Main    : before running thread\n",
      "19:58:22: Main    : wait for the thread to finish\n",
      "19:58:22: Main    : all done\n",
      "19:58:22: Main    : before creating thread\n"
     ]
    },
    {
     "name": "stdout",
     "output_type": "stream",
     "text": [
      "Sending 'Hello, World'...\n",
      "Sent\n",
      "Receiving...\n",
      "Received 'Hello, World from 1/answer/902'\n",
      "Sending 'Hello, World'...\n",
      "Sent\n",
      "Receiving...\n",
      "Received 'Hello, World from 2/answer/903'\n",
      "Sending 'Hello, World'...\n",
      "Sent\n",
      "Receiving...\n",
      "Received 'Hello, World from 3/answer/904'\n"
     ]
    },
    {
     "name": "stderr",
     "output_type": "stream",
     "text": [
      "19:58:24: Main    : before running thread\n",
      "19:58:24: Main    : wait for the thread to finish\n",
      "19:58:24: Main    : all done\n",
      "19:58:24: Main    : before creating thread\n"
     ]
    },
    {
     "name": "stdout",
     "output_type": "stream",
     "text": [
      "Sending 'Hello, World'...\n",
      "Sent\n",
      "Receiving...\n",
      "Received 'Hello, World from 1/answer/905'\n",
      "Sending 'Hello, World'...\n",
      "Sent\n",
      "Receiving...\n",
      "Received 'Hello, World from 2/answer/906'\n",
      "Sending 'Hello, World'...\n",
      "Sent\n",
      "Receiving...\n",
      "Received 'Hello, World from 3/answer/907'\n"
     ]
    },
    {
     "name": "stderr",
     "output_type": "stream",
     "text": [
      "19:58:25: Main    : before running thread\n",
      "19:58:25: Main    : wait for the thread to finish\n",
      "19:58:25: Main    : all done\n",
      "19:58:25: Main    : before creating thread\n"
     ]
    },
    {
     "name": "stdout",
     "output_type": "stream",
     "text": [
      "Sending 'Hello, World'...\n",
      "Sent\n",
      "Receiving...\n",
      "Received 'Hello, World from 1/answer/908'\n",
      "Sending 'Hello, World'...\n",
      "Sent\n",
      "Receiving...\n",
      "Received 'Hello, World from 2/answer/909'\n",
      "Sending 'Hello, World'...\n",
      "Sent\n",
      "Receiving...\n",
      "Received 'Hello, World from 3/answer/910'\n"
     ]
    },
    {
     "name": "stderr",
     "output_type": "stream",
     "text": [
      "19:58:27: Main    : before running thread\n",
      "19:58:27: Main    : wait for the thread to finish\n",
      "19:58:27: Main    : all done\n",
      "19:58:27: Main    : before creating thread\n"
     ]
    },
    {
     "name": "stdout",
     "output_type": "stream",
     "text": [
      "Sending 'Hello, World'...\n",
      "Sent\n",
      "Receiving...\n",
      "Received 'Hello, World from 1/answer/911'\n",
      "Sending 'Hello, World'...\n",
      "Sent\n",
      "Receiving...\n",
      "Received 'Hello, World from 2/answer/912'\n",
      "Sending 'Hello, World'...\n",
      "Sent\n",
      "Receiving...\n",
      "Received 'Hello, World from 3/answer/913'\n"
     ]
    },
    {
     "name": "stderr",
     "output_type": "stream",
     "text": [
      "19:58:28: Main    : before running thread\n",
      "19:58:28: Main    : wait for the thread to finish\n",
      "19:58:28: Main    : all done\n",
      "19:58:28: Main    : before creating thread\n"
     ]
    },
    {
     "name": "stdout",
     "output_type": "stream",
     "text": [
      "Sending 'Hello, World'...\n",
      "Sent\n",
      "Receiving...\n",
      "Received 'Hello, World from 1/answer/914'\n",
      "Sending 'Hello, World'...\n",
      "Sent\n",
      "Receiving...\n",
      "Received 'Hello, World from 2/answer/915'\n",
      "Sending 'Hello, World'...\n",
      "Sent\n",
      "Receiving...\n",
      "Received 'Hello, World from 3/answer/916'\n"
     ]
    },
    {
     "name": "stderr",
     "output_type": "stream",
     "text": [
      "19:58:30: Main    : before running thread\n",
      "19:58:30: Main    : wait for the thread to finish\n",
      "19:58:30: Main    : all done\n",
      "19:58:30: Main    : before creating thread\n"
     ]
    },
    {
     "name": "stdout",
     "output_type": "stream",
     "text": [
      "Sending 'Hello, World'...\n",
      "Sent\n",
      "Receiving...\n",
      "Received 'Hello, World from 1/answer/917'\n",
      "Sending 'Hello, World'...\n",
      "Sent\n",
      "Receiving...\n",
      "Received 'Hello, World from 2/answer/918'\n",
      "Sending 'Hello, World'...\n",
      "Sent\n",
      "Receiving...\n",
      "Received 'Hello, World from 3/answer/919'\n"
     ]
    },
    {
     "name": "stderr",
     "output_type": "stream",
     "text": [
      "19:58:31: Main    : before running thread\n",
      "19:58:31: Main    : wait for the thread to finish\n",
      "19:58:31: Main    : all done\n",
      "19:58:31: Main    : before creating thread\n"
     ]
    },
    {
     "name": "stdout",
     "output_type": "stream",
     "text": [
      "Sending 'Hello, World'...\n",
      "Sent\n",
      "Receiving...\n",
      "Received 'Hello, World from 1/answer/920'\n",
      "Sending 'Hello, World'...\n",
      "Sent\n",
      "Receiving...\n",
      "Received 'Hello, World from 2/answer/921'\n",
      "Sending 'Hello, World'...\n",
      "Sent\n",
      "Receiving...\n",
      "Received 'Hello, World from 3/answer/922'\n"
     ]
    },
    {
     "name": "stderr",
     "output_type": "stream",
     "text": [
      "19:58:33: Main    : before running thread\n",
      "19:58:33: Main    : wait for the thread to finish\n",
      "19:58:33: Main    : all done\n"
     ]
    }
   ],
   "source": [
    "for q in range(0, 100):\n",
    "  format = \"%(asctime)s: %(message)s\"\n",
    "  logging.basicConfig(format=format, level=logging.INFO,\n",
    "                      datefmt=\"%H:%M:%S\")\n",
    "\n",
    "  logging.info(\"Main    : before creating thread\")\n",
    "  x = threading.Thread(target=hello_world(1), args=(1,))\n",
    "  y = threading.Thread(target=hello_world(2), args=(2,))\n",
    "  z = threading.Thread(target=hello_world(3), args=(3,))\n",
    "  logging.info(\"Main    : before running thread\")\n",
    "  x.start()\n",
    "  y.start()\n",
    "  z.start()\n",
    "  logging.info(\"Main    : wait for the thread to finish\")\n",
    "  # x.join()\n",
    "  logging.info(\"Main    : all done\")"
   ]
  }
 ],
 "metadata": {
  "colab": {
   "authorship_tag": "ABX9TyN2oijTTwMlq9+5TH24Tk9E",
   "collapsed_sections": [],
   "name": "WebsocketClient_2.ipynb",
   "provenance": [
    {
     "file_id": "13eqAJbXmWCWBeN9gaYB04zA5xHAdPW5j",
     "timestamp": 1614023601150
    }
   ]
  },
  "kernelspec": {
   "display_name": "Python 3",
   "language": "python",
   "name": "python3"
  },
  "language_info": {
   "codemirror_mode": {
    "name": "ipython",
    "version": 3
   },
   "file_extension": ".py",
   "mimetype": "text/x-python",
   "name": "python",
   "nbconvert_exporter": "python",
   "pygments_lexer": "ipython3",
   "version": "3.8.10"
  }
 },
 "nbformat": 4,
 "nbformat_minor": 1
}
