{
 "cells": [
  {
   "cell_type": "code",
   "execution_count": 1,
   "metadata": {
    "executionInfo": {
     "elapsed": 4272,
     "status": "ok",
     "timestamp": 1614023758248,
     "user": {
      "displayName": "Andrew Gaitskell",
      "photoUrl": "",
      "userId": "11970928497713339737"
     },
     "user_tz": 0
    },
    "id": "Cq4QVzMnsCch"
   },
   "outputs": [],
   "source": [
    "import logging\n",
    "import threading\n",
    "import time"
   ]
  },
  {
   "cell_type": "code",
   "execution_count": 2,
   "metadata": {
    "executionInfo": {
     "elapsed": 4269,
     "status": "ok",
     "timestamp": 1614023758249,
     "user": {
      "displayName": "Andrew Gaitskell",
      "photoUrl": "",
      "userId": "11970928497713339737"
     },
     "user_tz": 0
    },
    "id": "vvNAOcLAstKF"
   },
   "outputs": [],
   "source": [
    "from websocket import create_connection"
   ]
  },
  {
   "cell_type": "code",
   "execution_count": 3,
   "metadata": {
    "executionInfo": {
     "elapsed": 4267,
     "status": "ok",
     "timestamp": 1614023758250,
     "user": {
      "displayName": "Andrew Gaitskell",
      "photoUrl": "",
      "userId": "11970928497713339737"
     },
     "user_tz": 0
    },
    "id": "QG-dJg-PsyAP"
   },
   "outputs": [],
   "source": [
    "uri = \"ws://35.214.64.37:5010/ws/\"\n"
   ]
  },
  {
   "cell_type": "code",
   "execution_count": 4,
   "metadata": {
    "executionInfo": {
     "elapsed": 4264,
     "status": "ok",
     "timestamp": 1614023758250,
     "user": {
      "displayName": "Andrew Gaitskell",
      "photoUrl": "",
      "userId": "11970928497713339737"
     },
     "user_tz": 0
    },
    "id": "u-SVT-fotLqo"
   },
   "outputs": [],
   "source": [
    "def hello_world(threadid):\n",
    "  ws = create_connection(uri)\n",
    "  print(\"Sending 'Hello, World'...\")\n",
    "  message = \"Hello, World from \" + str(threadid)\n",
    "  ws.send(message)\n",
    "  print(\"Sent\")\n",
    "  print(\"Receiving...\")\n",
    "  result =  ws.recv()\n",
    "  print(\"Received '%s'\" % result)\n",
    "  ws.close()"
   ]
  },
  {
   "cell_type": "code",
   "execution_count": 5,
   "metadata": {
    "colab": {
     "base_uri": "https://localhost:8080/"
    },
    "executionInfo": {
     "elapsed": 4718,
     "status": "ok",
     "timestamp": 1614023758729,
     "user": {
      "displayName": "Andrew Gaitskell",
      "photoUrl": "",
      "userId": "11970928497713339737"
     },
     "user_tz": 0
    },
    "id": "4d1slYbrtaBv",
    "outputId": "d727e3cf-3d5d-4eaf-cd26-518cc5b6c3d7"
   },
   "outputs": [
    {
     "name": "stdout",
     "output_type": "stream",
     "text": [
      "Sending 'Hello, World'...\n",
      "Sent\n",
      "Receiving...\n",
      "Received 'Hello, World from 1/answer/2'\n"
     ]
    }
   ],
   "source": [
    "hello_world(1)"
   ]
  },
  {
   "cell_type": "code",
   "execution_count": 6,
   "metadata": {
    "executionInfo": {
     "elapsed": 4716,
     "status": "ok",
     "timestamp": 1614023758730,
     "user": {
      "displayName": "Andrew Gaitskell",
      "photoUrl": "",
      "userId": "11970928497713339737"
     },
     "user_tz": 0
    },
    "id": "8PK8o7KIr-sn"
   },
   "outputs": [],
   "source": [
    "def thread_function(name):\n",
    "    logging.info(\"Thread %s: starting\", name)\n",
    "    time.sleep(2)\n",
    "    logging.info(\"Thread %s: finishing\", name)\n",
    "\n"
   ]
  },
  {
   "cell_type": "code",
   "execution_count": 7,
   "metadata": {
    "colab": {
     "base_uri": "https://localhost:8080/"
    },
    "executionInfo": {
     "elapsed": 159821,
     "status": "ok",
     "timestamp": 1614023913844,
     "user": {
      "displayName": "Andrew Gaitskell",
      "photoUrl": "",
      "userId": "11970928497713339737"
     },
     "user_tz": 0
    },
    "id": "iFdKRdWtsOaK",
    "outputId": "d853b453-df2d-45bc-c49d-782caca09dbc"
   },
   "outputs": [
    {
     "name": "stderr",
     "output_type": "stream",
     "text": [
      "09:29:03: Main    : before creating thread\n"
     ]
    },
    {
     "name": "stdout",
     "output_type": "stream",
     "text": [
      "Sending 'Hello, World'...\n",
      "Sent\n",
      "Receiving...\n",
      "Received 'Hello, World from 1/answer/3'\n",
      "Sending 'Hello, World'...\n",
      "Sent\n",
      "Receiving...\n",
      "Received 'Hello, World from 2/answer/4'\n",
      "Sending 'Hello, World'...\n",
      "Sent\n",
      "Receiving...\n",
      "Received 'Hello, World from 3/answer/5'\n"
     ]
    },
    {
     "name": "stderr",
     "output_type": "stream",
     "text": [
      "09:29:06: Main    : before running thread\n",
      "09:29:06: Main    : wait for the thread to finish\n",
      "09:29:06: Main    : all done\n",
      "09:29:06: Main    : before creating thread\n"
     ]
    },
    {
     "name": "stdout",
     "output_type": "stream",
     "text": [
      "Sending 'Hello, World'...\n",
      "Sent\n",
      "Receiving...\n",
      "Received 'Hello, World from 1/answer/6'\n",
      "Sending 'Hello, World'...\n",
      "Sent\n",
      "Receiving...\n",
      "Received 'Hello, World from 2/answer/7'\n",
      "Sending 'Hello, World'...\n",
      "Sent\n",
      "Receiving...\n",
      "Received 'Hello, World from 3/answer/8'\n"
     ]
    },
    {
     "name": "stderr",
     "output_type": "stream",
     "text": [
      "09:29:08: Main    : before running thread\n",
      "09:29:08: Main    : wait for the thread to finish\n",
      "09:29:08: Main    : all done\n",
      "09:29:08: Main    : before creating thread\n"
     ]
    },
    {
     "name": "stdout",
     "output_type": "stream",
     "text": [
      "Sending 'Hello, World'...\n",
      "Sent\n",
      "Receiving...\n",
      "Received 'Hello, World from 1/answer/9'\n",
      "Sending 'Hello, World'...\n",
      "Sent\n",
      "Receiving...\n"
     ]
    },
    {
     "name": "stderr",
     "output_type": "stream",
     "text": [
      "09:29:09: Main    : before running thread\n",
      "09:29:09: Main    : wait for the thread to finish\n",
      "09:29:09: Main    : all done\n",
      "09:29:09: Main    : before creating thread\n"
     ]
    },
    {
     "name": "stdout",
     "output_type": "stream",
     "text": [
      "Received 'Hello, World from 2/answer/10'\n",
      "Sending 'Hello, World'...\n",
      "Sent\n",
      "Receiving...\n",
      "Received 'Hello, World from 3/answer/11'\n",
      "Sending 'Hello, World'...\n",
      "Sent\n",
      "Receiving...\n",
      "Received 'Hello, World from 1/answer/12'\n"
     ]
    },
    {
     "name": "stderr",
     "output_type": "stream",
     "text": [
      "09:29:09: Main    : before running thread\n",
      "09:29:09: Main    : wait for the thread to finish\n",
      "09:29:09: Main    : all done\n",
      "09:29:09: Main    : before creating thread\n"
     ]
    },
    {
     "name": "stdout",
     "output_type": "stream",
     "text": [
      "Sending 'Hello, World'...\n",
      "Sent\n",
      "Receiving...\n",
      "Received 'Hello, World from 2/answer/13'\n",
      "Sending 'Hello, World'...\n",
      "Sent\n",
      "Receiving...\n",
      "Received 'Hello, World from 3/answer/14'\n",
      "Sending 'Hello, World'...\n",
      "Sent\n",
      "Receiving...\n",
      "Received 'Hello, World from 1/answer/15'\n",
      "Sending 'Hello, World'...\n",
      "Sent\n",
      "Receiving...\n",
      "Received 'Hello, World from 2/answer/16'\n"
     ]
    },
    {
     "name": "stderr",
     "output_type": "stream",
     "text": [
      "09:29:10: Main    : before running thread\n",
      "09:29:10: Main    : wait for the thread to finish\n",
      "09:29:10: Main    : all done\n",
      "09:29:10: Main    : before creating thread\n"
     ]
    },
    {
     "name": "stdout",
     "output_type": "stream",
     "text": [
      "Sending 'Hello, World'...\n",
      "Sent\n",
      "Receiving...\n",
      "Received 'Hello, World from 3/answer/17'\n",
      "Sending 'Hello, World'...\n",
      "Sent\n",
      "Receiving...\n",
      "Received 'Hello, World from 1/answer/18'\n",
      "Sending 'Hello, World'...\n",
      "Sent\n",
      "Receiving...\n"
     ]
    },
    {
     "name": "stderr",
     "output_type": "stream",
     "text": [
      "09:29:10: Main    : before running thread\n",
      "09:29:10: Main    : wait for the thread to finish\n",
      "09:29:10: Main    : all done\n",
      "09:29:10: Main    : before creating thread\n"
     ]
    },
    {
     "name": "stdout",
     "output_type": "stream",
     "text": [
      "Received 'Hello, World from 2/answer/19'\n",
      "Sending 'Hello, World'...\n",
      "Sent\n",
      "Receiving...\n",
      "Received 'Hello, World from 3/answer/20'\n",
      "Sending 'Hello, World'...\n",
      "Sent\n",
      "Receiving...\n",
      "Received 'Hello, World from 1/answer/21'\n",
      "Sending 'Hello, World'...\n",
      "Sent\n",
      "Receiving...\n",
      "Received 'Hello, World from 2/answer/22'\n",
      "Sending 'Hello, World'...\n",
      "Sent\n",
      "Receiving...\n"
     ]
    },
    {
     "name": "stderr",
     "output_type": "stream",
     "text": [
      "09:29:10: Main    : before running thread\n",
      "09:29:10: Main    : wait for the thread to finish\n",
      "09:29:10: Main    : all done\n",
      "09:29:10: Main    : before creating thread\n"
     ]
    },
    {
     "name": "stdout",
     "output_type": "stream",
     "text": [
      "Received 'Hello, World from 3/answer/23'\n",
      "Sending 'Hello, World'...\n",
      "Sent\n",
      "Receiving...\n",
      "Received 'Hello, World from 1/answer/24'\n",
      "Sending 'Hello, World'...\n",
      "Sent\n",
      "Receiving...\n",
      "Received 'Hello, World from 2/answer/25'\n"
     ]
    },
    {
     "name": "stderr",
     "output_type": "stream",
     "text": [
      "09:29:11: Main    : before running thread\n",
      "09:29:11: Main    : wait for the thread to finish\n",
      "09:29:11: Main    : all done\n",
      "09:29:11: Main    : before creating thread\n"
     ]
    },
    {
     "name": "stdout",
     "output_type": "stream",
     "text": [
      "Sending 'Hello, World'...\n",
      "Sent\n",
      "Receiving...\n",
      "Received 'Hello, World from 3/answer/26'\n",
      "Sending 'Hello, World'...\n",
      "Sent\n",
      "Receiving...\n",
      "Received 'Hello, World from 1/answer/27'\n"
     ]
    },
    {
     "name": "stderr",
     "output_type": "stream",
     "text": [
      "09:29:11: Main    : before running thread\n",
      "09:29:11: Main    : wait for the thread to finish\n",
      "09:29:11: Main    : all done\n",
      "09:29:11: Main    : before creating thread\n"
     ]
    },
    {
     "name": "stdout",
     "output_type": "stream",
     "text": [
      "Sending 'Hello, World'...\n",
      "Sent\n",
      "Receiving...\n",
      "Received 'Hello, World from 2/answer/28'\n",
      "Sending 'Hello, World'...\n",
      "Sent\n",
      "Receiving...\n",
      "Received 'Hello, World from 3/answer/29'\n",
      "Sending 'Hello, World'...\n",
      "Sent\n",
      "Receiving...\n",
      "Received 'Hello, World from 1/answer/30'\n",
      "Sending 'Hello, World'...\n",
      "Sent\n",
      "Receiving...\n",
      "Received 'Hello, World from 2/answer/31'\n",
      "Sending 'Hello, World'...\n",
      "Sent\n",
      "Receiving...\n"
     ]
    },
    {
     "name": "stderr",
     "output_type": "stream",
     "text": [
      "09:29:11: Main    : before running thread\n",
      "09:29:11: Main    : wait for the thread to finish\n",
      "09:29:11: Main    : all done\n",
      "09:29:11: Main    : before creating thread\n"
     ]
    },
    {
     "name": "stdout",
     "output_type": "stream",
     "text": [
      "Received 'Hello, World from 3/answer/32'\n",
      "Sending 'Hello, World'...\n",
      "Sent\n",
      "Receiving...\n",
      "Received 'Hello, World from 1/answer/33'\n"
     ]
    },
    {
     "name": "stderr",
     "output_type": "stream",
     "text": [
      "09:29:11: Main    : before running thread\n",
      "09:29:11: Main    : wait for the thread to finish\n",
      "09:29:11: Main    : all done\n",
      "09:29:11: Main    : before creating thread\n"
     ]
    },
    {
     "name": "stdout",
     "output_type": "stream",
     "text": [
      "Sending 'Hello, World'...\n",
      "Sent\n",
      "Receiving...\n",
      "Received 'Hello, World from 2/answer/34'\n",
      "Sending 'Hello, World'...\n",
      "Sent\n",
      "Receiving...\n",
      "Received 'Hello, World from 3/answer/35'\n",
      "Sending 'Hello, World'...\n",
      "Sent\n",
      "Receiving...\n",
      "Received 'Hello, World from 1/answer/36'\n",
      "Sending 'Hello, World'...\n",
      "Sent\n",
      "Receiving...\n",
      "Received 'Hello, World from 2/answer/37'\n"
     ]
    },
    {
     "name": "stderr",
     "output_type": "stream",
     "text": [
      "09:29:12: Main    : before running thread\n",
      "09:29:12: Main    : wait for the thread to finish\n",
      "09:29:12: Main    : all done\n",
      "09:29:12: Main    : before creating thread\n"
     ]
    },
    {
     "name": "stdout",
     "output_type": "stream",
     "text": [
      "Sending 'Hello, World'...\n",
      "Sent\n",
      "Receiving...\n",
      "Received 'Hello, World from 3/answer/38'\n",
      "Sending 'Hello, World'...\n",
      "Sent\n",
      "Receiving...\n",
      "Received 'Hello, World from 1/answer/39'\n",
      "Sending 'Hello, World'...\n",
      "Sent\n",
      "Receiving...\n"
     ]
    },
    {
     "name": "stderr",
     "output_type": "stream",
     "text": [
      "09:29:12: Main    : before running thread\n",
      "09:29:12: Main    : wait for the thread to finish\n",
      "09:29:12: Main    : all done\n",
      "09:29:12: Main    : before creating thread\n"
     ]
    },
    {
     "name": "stdout",
     "output_type": "stream",
     "text": [
      "Received 'Hello, World from 2/answer/40'\n",
      "Sending 'Hello, World'...\n",
      "Sent\n",
      "Receiving...\n",
      "Received 'Hello, World from 3/answer/41'\n",
      "Sending 'Hello, World'...\n",
      "Sent\n",
      "Receiving...\n",
      "Received 'Hello, World from 1/answer/42'\n",
      "Sending 'Hello, World'...\n",
      "Sent\n",
      "Receiving...\n",
      "Received 'Hello, World from 2/answer/43'\n",
      "Sending 'Hello, World'...\n",
      "Sent\n",
      "Receiving...\n"
     ]
    },
    {
     "name": "stderr",
     "output_type": "stream",
     "text": [
      "09:29:12: Main    : before running thread\n",
      "09:29:12: Main    : wait for the thread to finish\n",
      "09:29:12: Main    : all done\n",
      "09:29:12: Main    : before creating thread\n"
     ]
    },
    {
     "name": "stdout",
     "output_type": "stream",
     "text": [
      "Received 'Hello, World from 3/answer/44'\n",
      "Sending 'Hello, World'...\n",
      "Sent\n",
      "Receiving...\n",
      "Received 'Hello, World from 1/answer/45'\n",
      "Sending 'Hello, World'...\n",
      "Sent\n",
      "Receiving...\n"
     ]
    },
    {
     "name": "stderr",
     "output_type": "stream",
     "text": [
      "09:29:13: Main    : before running thread\n",
      "09:29:13: Main    : wait for the thread to finish\n",
      "09:29:13: Main    : all done\n",
      "09:29:13: Main    : before creating thread\n"
     ]
    },
    {
     "name": "stdout",
     "output_type": "stream",
     "text": [
      "Received 'Hello, World from 2/answer/46'\n",
      "Sending 'Hello, World'...\n",
      "Sent\n",
      "Receiving...\n",
      "Received 'Hello, World from 3/answer/47'\n",
      "Sending 'Hello, World'...\n",
      "Sent\n",
      "Receiving...\n",
      "Received 'Hello, World from 1/answer/48'\n"
     ]
    },
    {
     "name": "stderr",
     "output_type": "stream",
     "text": [
      "09:29:13: Main    : before running thread\n",
      "09:29:13: Main    : wait for the thread to finish\n",
      "09:29:13: Main    : all done\n",
      "09:29:13: Main    : before creating thread\n"
     ]
    },
    {
     "name": "stdout",
     "output_type": "stream",
     "text": [
      "Sending 'Hello, World'...\n",
      "Sent\n",
      "Receiving...\n",
      "Received 'Hello, World from 2/answer/49'\n",
      "Sending 'Hello, World'...\n",
      "Sent\n",
      "Receiving...\n",
      "Received 'Hello, World from 3/answer/50'\n",
      "Sending 'Hello, World'...\n",
      "Sent\n",
      "Receiving...\n",
      "Received 'Hello, World from 1/answer/51'\n",
      "Sending 'Hello, World'...\n",
      "Sent\n",
      "Receiving...\n",
      "Received 'Hello, World from 2/answer/52'\n",
      "Sending 'Hello, World'...\n",
      "Sent\n",
      "Receiving...\n"
     ]
    },
    {
     "name": "stderr",
     "output_type": "stream",
     "text": [
      "09:29:13: Main    : before running thread\n",
      "09:29:13: Main    : wait for the thread to finish\n",
      "09:29:13: Main    : all done\n",
      "09:29:13: Main    : before creating thread\n"
     ]
    },
    {
     "name": "stdout",
     "output_type": "stream",
     "text": [
      "Received 'Hello, World from 3/answer/53'\n",
      "Sending 'Hello, World'...\n",
      "Sent\n",
      "Receiving...\n",
      "Received 'Hello, World from 1/answer/54'\n",
      "Sending 'Hello, World'...\n",
      "Sent\n",
      "Receiving...\n"
     ]
    },
    {
     "name": "stderr",
     "output_type": "stream",
     "text": [
      "09:29:14: Main    : before running thread\n",
      "09:29:14: Main    : wait for the thread to finish\n",
      "09:29:14: Main    : all done\n",
      "09:29:14: Main    : before creating thread\n"
     ]
    },
    {
     "name": "stdout",
     "output_type": "stream",
     "text": [
      "Received 'Hello, World from 2/answer/55'\n",
      "Sending 'Hello, World'...\n",
      "Sent\n",
      "Receiving...\n",
      "Received 'Hello, World from 3/answer/56'\n",
      "Sending 'Hello, World'...\n",
      "Sent\n",
      "Receiving...\n",
      "Received 'Hello, World from 1/answer/57'\n",
      "Sending 'Hello, World'...\n",
      "Sent\n",
      "Receiving...\n",
      "Received 'Hello, World from 2/answer/58'\n",
      "Sending 'Hello, World'...\n",
      "Sent\n",
      "Receiving...\n"
     ]
    },
    {
     "name": "stderr",
     "output_type": "stream",
     "text": [
      "09:29:14: Main    : before running thread\n",
      "09:29:14: Main    : wait for the thread to finish\n",
      "09:29:14: Main    : all done\n",
      "09:29:14: Main    : before creating thread\n"
     ]
    },
    {
     "name": "stdout",
     "output_type": "stream",
     "text": [
      "Received 'Hello, World from 3/answer/59'\n",
      "Sending 'Hello, World'...\n",
      "Sent\n",
      "Receiving...\n",
      "Received 'Hello, World from 1/answer/60'\n",
      "Sending 'Hello, World'...\n",
      "Sent\n",
      "Receiving...\n"
     ]
    },
    {
     "name": "stderr",
     "output_type": "stream",
     "text": [
      "09:29:14: Main    : before running thread\n",
      "09:29:14: Main    : wait for the thread to finish\n",
      "09:29:14: Main    : all done\n",
      "09:29:14: Main    : before creating thread\n"
     ]
    },
    {
     "name": "stdout",
     "output_type": "stream",
     "text": [
      "Received 'Hello, World from 2/answer/61'\n",
      "Sending 'Hello, World'...\n",
      "Sent\n",
      "Receiving...\n",
      "Received 'Hello, World from 3/answer/62'\n",
      "Sending 'Hello, World'...\n",
      "Sent\n",
      "Receiving...\n",
      "Received 'Hello, World from 1/answer/63'\n",
      "Sending 'Hello, World'...\n",
      "Sent\n",
      "Receiving...\n",
      "Received 'Hello, World from 2/answer/64'\n",
      "Sending 'Hello, World'...\n",
      "Sent\n",
      "Receiving...\n",
      "Received 'Hello, World from 3/answer/65'\n"
     ]
    },
    {
     "name": "stderr",
     "output_type": "stream",
     "text": [
      "09:29:15: Main    : before running thread\n",
      "09:29:15: Main    : wait for the thread to finish\n",
      "09:29:15: Main    : all done\n",
      "09:29:15: Main    : before creating thread\n"
     ]
    },
    {
     "name": "stdout",
     "output_type": "stream",
     "text": [
      "Sending 'Hello, World'...\n",
      "Sent\n",
      "Receiving...\n",
      "Received 'Hello, World from 1/answer/66'\n",
      "Sending 'Hello, World'...\n",
      "Sent\n",
      "Receiving...\n",
      "Received 'Hello, World from 2/answer/67'\n"
     ]
    },
    {
     "name": "stderr",
     "output_type": "stream",
     "text": [
      "09:29:15: Main    : before running thread\n",
      "09:29:15: Main    : wait for the thread to finish\n",
      "09:29:15: Main    : all done\n",
      "09:29:15: Main    : before creating thread\n"
     ]
    },
    {
     "name": "stdout",
     "output_type": "stream",
     "text": [
      "Sending 'Hello, World'...\n",
      "Sent\n",
      "Receiving...\n",
      "Received 'Hello, World from 3/answer/68'\n",
      "Sending 'Hello, World'...\n",
      "Sent\n",
      "Receiving...\n",
      "Received 'Hello, World from 1/answer/69'\n"
     ]
    },
    {
     "name": "stderr",
     "output_type": "stream",
     "text": [
      "09:29:15: Main    : before running thread\n",
      "09:29:15: Main    : wait for the thread to finish\n",
      "09:29:15: Main    : all done\n",
      "09:29:15: Main    : before creating thread\n"
     ]
    },
    {
     "name": "stdout",
     "output_type": "stream",
     "text": [
      "Sending 'Hello, World'...\n",
      "Sent\n",
      "Receiving...\n",
      "Received 'Hello, World from 2/answer/70'\n",
      "Sending 'Hello, World'...\n",
      "Sent\n",
      "Receiving...\n",
      "Received 'Hello, World from 3/answer/71'\n",
      "Sending 'Hello, World'...\n",
      "Sent\n",
      "Receiving...\n",
      "Received 'Hello, World from 1/answer/72'\n",
      "Sending 'Hello, World'...\n",
      "Sent\n",
      "Receiving...\n",
      "Received 'Hello, World from 2/answer/73'\n"
     ]
    },
    {
     "name": "stderr",
     "output_type": "stream",
     "text": [
      "09:29:15: Main    : before running thread\n",
      "09:29:15: Main    : wait for the thread to finish\n",
      "09:29:15: Main    : all done\n",
      "09:29:15: Main    : before creating thread\n"
     ]
    },
    {
     "name": "stdout",
     "output_type": "stream",
     "text": [
      "Sending 'Hello, World'...\n",
      "Sent\n",
      "Receiving...\n",
      "Received 'Hello, World from 3/answer/74'\n",
      "Sending 'Hello, World'...\n",
      "Sent\n",
      "Receiving...\n",
      "Received 'Hello, World from 1/answer/75'\n"
     ]
    },
    {
     "name": "stderr",
     "output_type": "stream",
     "text": [
      "09:29:16: Main    : before running thread\n",
      "09:29:16: Main    : wait for the thread to finish\n",
      "09:29:16: Main    : all done\n",
      "09:29:16: Main    : before creating thread\n"
     ]
    },
    {
     "name": "stdout",
     "output_type": "stream",
     "text": [
      "Sending 'Hello, World'...\n",
      "Sent\n",
      "Receiving...\n",
      "Received 'Hello, World from 2/answer/76'\n",
      "Sending 'Hello, World'...\n",
      "Sent\n",
      "Receiving...\n",
      "Received 'Hello, World from 3/answer/77'\n",
      "Sending 'Hello, World'...\n",
      "Sent\n",
      "Receiving...\n",
      "Received 'Hello, World from 1/answer/78'\n",
      "Sending 'Hello, World'...\n",
      "Sent\n",
      "Receiving...\n",
      "Received 'Hello, World from 2/answer/79'\n"
     ]
    },
    {
     "name": "stderr",
     "output_type": "stream",
     "text": [
      "09:29:16: Main    : before running thread\n",
      "09:29:16: Main    : wait for the thread to finish\n",
      "09:29:16: Main    : all done\n",
      "09:29:16: Main    : before creating thread\n"
     ]
    },
    {
     "name": "stdout",
     "output_type": "stream",
     "text": [
      "Sending 'Hello, World'...\n",
      "Sent\n",
      "Receiving...\n",
      "Received 'Hello, World from 3/answer/80'\n",
      "Sending 'Hello, World'...\n",
      "Sent\n",
      "Receiving...\n",
      "Received 'Hello, World from 1/answer/81'\n"
     ]
    },
    {
     "name": "stderr",
     "output_type": "stream",
     "text": [
      "09:29:16: Main    : before running thread\n",
      "09:29:16: Main    : wait for the thread to finish\n",
      "09:29:16: Main    : all done\n",
      "09:29:16: Main    : before creating thread\n"
     ]
    },
    {
     "name": "stdout",
     "output_type": "stream",
     "text": [
      "Sending 'Hello, World'...\n",
      "Sent\n",
      "Receiving...\n",
      "Received 'Hello, World from 2/answer/82'\n",
      "Sending 'Hello, World'...\n",
      "Sent\n",
      "Receiving...\n",
      "Received 'Hello, World from 3/answer/83'\n",
      "Sending 'Hello, World'...\n",
      "Sent\n",
      "Receiving...\n",
      "Received 'Hello, World from 1/answer/84'\n",
      "Sending 'Hello, World'...\n",
      "Sent\n",
      "Receiving...\n",
      "Received 'Hello, World from 2/answer/85'\n"
     ]
    },
    {
     "name": "stderr",
     "output_type": "stream",
     "text": [
      "09:29:17: Main    : before running thread\n",
      "09:29:17: Main    : wait for the thread to finish\n",
      "09:29:17: Main    : all done\n",
      "09:29:17: Main    : before creating thread\n"
     ]
    },
    {
     "name": "stdout",
     "output_type": "stream",
     "text": [
      "Sending 'Hello, World'...\n",
      "Sent\n",
      "Receiving...\n",
      "Received 'Hello, World from 3/answer/86'\n",
      "Sending 'Hello, World'...\n",
      "Sent\n",
      "Receiving...\n",
      "Received 'Hello, World from 1/answer/87'\n"
     ]
    },
    {
     "name": "stderr",
     "output_type": "stream",
     "text": [
      "09:29:17: Main    : before running thread\n",
      "09:29:17: Main    : wait for the thread to finish\n",
      "09:29:17: Main    : all done\n",
      "09:29:17: Main    : before creating thread\n"
     ]
    },
    {
     "name": "stdout",
     "output_type": "stream",
     "text": [
      "Sending 'Hello, World'...\n",
      "Sent\n",
      "Receiving...\n",
      "Received 'Hello, World from 2/answer/88'\n",
      "Sending 'Hello, World'...\n",
      "Sent\n",
      "Receiving...\n",
      "Received 'Hello, World from 3/answer/89'\n",
      "Sending 'Hello, World'...\n",
      "Sent\n",
      "Receiving...\n",
      "Received 'Hello, World from 1/answer/90'\n",
      "Sending 'Hello, World'...\n",
      "Sent\n",
      "Receiving...\n",
      "Received 'Hello, World from 2/answer/91'\n"
     ]
    },
    {
     "name": "stderr",
     "output_type": "stream",
     "text": [
      "09:29:17: Main    : before running thread\n",
      "09:29:17: Main    : wait for the thread to finish\n",
      "09:29:17: Main    : all done\n",
      "09:29:17: Main    : before creating thread\n"
     ]
    },
    {
     "name": "stdout",
     "output_type": "stream",
     "text": [
      "Sending 'Hello, World'...\n",
      "Sent\n",
      "Receiving...\n",
      "Received 'Hello, World from 3/answer/92'\n",
      "Sending 'Hello, World'...\n",
      "Sent\n",
      "Receiving...\n",
      "Received 'Hello, World from 1/answer/93'\n",
      "Sending 'Hello, World'...\n",
      "Sent\n",
      "Receiving...\n"
     ]
    },
    {
     "name": "stderr",
     "output_type": "stream",
     "text": [
      "09:29:18: Main    : before running thread\n",
      "09:29:18: Main    : wait for the thread to finish\n",
      "09:29:18: Main    : all done\n",
      "09:29:18: Main    : before creating thread\n"
     ]
    },
    {
     "name": "stdout",
     "output_type": "stream",
     "text": [
      "Received 'Hello, World from 2/answer/94'\n",
      "Sending 'Hello, World'...\n",
      "Sent\n",
      "Receiving...\n",
      "Received 'Hello, World from 3/answer/95'\n",
      "Sending 'Hello, World'...\n",
      "Sent\n",
      "Receiving...\n",
      "Received 'Hello, World from 1/answer/96'\n"
     ]
    },
    {
     "name": "stderr",
     "output_type": "stream",
     "text": [
      "09:29:18: Main    : before running thread\n",
      "09:29:18: Main    : wait for the thread to finish\n",
      "09:29:18: Main    : all done\n",
      "09:29:18: Main    : before creating thread\n"
     ]
    },
    {
     "name": "stdout",
     "output_type": "stream",
     "text": [
      "Sending 'Hello, World'...\n",
      "Sent\n",
      "Receiving...\n",
      "Received 'Hello, World from 2/answer/97'\n",
      "Sending 'Hello, World'...\n",
      "Sent\n",
      "Receiving...\n",
      "Received 'Hello, World from 3/answer/98'\n",
      "Sending 'Hello, World'...\n",
      "Sent\n",
      "Receiving...\n",
      "Received 'Hello, World from 1/answer/99'\n",
      "Sending 'Hello, World'...\n",
      "Sent\n",
      "Receiving...\n",
      "Received 'Hello, World from 2/answer/100'\n"
     ]
    },
    {
     "name": "stderr",
     "output_type": "stream",
     "text": [
      "09:29:18: Main    : before running thread\n",
      "09:29:18: Main    : wait for the thread to finish\n",
      "09:29:18: Main    : all done\n",
      "09:29:18: Main    : before creating thread\n"
     ]
    },
    {
     "name": "stdout",
     "output_type": "stream",
     "text": [
      "Sending 'Hello, World'...\n",
      "Sent\n",
      "Receiving...\n",
      "Received 'Hello, World from 3/answer/101'\n",
      "Sending 'Hello, World'...\n",
      "Sent\n",
      "Receiving...\n",
      "Received 'Hello, World from 1/answer/102'\n",
      "Sending 'Hello, World'...\n",
      "Sent\n",
      "Receiving...\n"
     ]
    },
    {
     "name": "stderr",
     "output_type": "stream",
     "text": [
      "09:29:19: Main    : before running thread\n",
      "09:29:19: Main    : wait for the thread to finish\n",
      "09:29:19: Main    : all done\n",
      "09:29:19: Main    : before creating thread\n"
     ]
    },
    {
     "name": "stdout",
     "output_type": "stream",
     "text": [
      "Received 'Hello, World from 2/answer/103'\n",
      "Sending 'Hello, World'...\n",
      "Sent\n",
      "Receiving...\n",
      "Received 'Hello, World from 3/answer/104'\n",
      "Sending 'Hello, World'...\n",
      "Sent\n",
      "Receiving...\n",
      "Received 'Hello, World from 1/answer/105'\n",
      "Sending 'Hello, World'...\n",
      "Sent\n",
      "Receiving...\n",
      "Received 'Hello, World from 2/answer/106'\n",
      "Sending 'Hello, World'...\n",
      "Sent\n",
      "Receiving...\n",
      "Received 'Hello, World from 3/answer/107'\n"
     ]
    },
    {
     "name": "stderr",
     "output_type": "stream",
     "text": [
      "09:29:19: Main    : before running thread\n",
      "09:29:19: Main    : wait for the thread to finish\n",
      "09:29:19: Main    : all done\n",
      "09:29:19: Main    : before creating thread\n"
     ]
    },
    {
     "name": "stdout",
     "output_type": "stream",
     "text": [
      "Sending 'Hello, World'...\n",
      "Sent\n",
      "Receiving...\n",
      "Received 'Hello, World from 1/answer/108'\n",
      "Sending 'Hello, World'...\n",
      "Sent\n",
      "Receiving...\n",
      "Received 'Hello, World from 2/answer/109'\n"
     ]
    },
    {
     "name": "stderr",
     "output_type": "stream",
     "text": [
      "09:29:19: Main    : before running thread\n",
      "09:29:19: Main    : wait for the thread to finish\n",
      "09:29:19: Main    : all done\n",
      "09:29:19: Main    : before creating thread\n"
     ]
    },
    {
     "name": "stdout",
     "output_type": "stream",
     "text": [
      "Sending 'Hello, World'...\n",
      "Sent\n",
      "Receiving...\n",
      "Received 'Hello, World from 3/answer/110'\n",
      "Sending 'Hello, World'...\n",
      "Sent\n",
      "Receiving...\n",
      "Received 'Hello, World from 1/answer/111'\n"
     ]
    },
    {
     "name": "stderr",
     "output_type": "stream",
     "text": [
      "09:29:20: Main    : before running thread\n",
      "09:29:20: Main    : wait for the thread to finish\n",
      "09:29:20: Main    : all done\n",
      "09:29:20: Main    : before creating thread\n"
     ]
    },
    {
     "name": "stdout",
     "output_type": "stream",
     "text": [
      "Sending 'Hello, World'...\n",
      "Sent\n",
      "Receiving...\n",
      "Received 'Hello, World from 2/answer/112'\n",
      "Sending 'Hello, World'...\n",
      "Sent\n",
      "Receiving...\n",
      "Received 'Hello, World from 3/answer/113'\n",
      "Sending 'Hello, World'...\n",
      "Sent\n",
      "Receiving...\n",
      "Received 'Hello, World from 1/answer/114'\n",
      "Sending 'Hello, World'...\n",
      "Sent\n",
      "Receiving...\n",
      "Received 'Hello, World from 2/answer/115'\n"
     ]
    },
    {
     "name": "stderr",
     "output_type": "stream",
     "text": [
      "09:29:20: Main    : before running thread\n",
      "09:29:20: Main    : wait for the thread to finish\n",
      "09:29:20: Main    : all done\n",
      "09:29:20: Main    : before creating thread\n"
     ]
    },
    {
     "name": "stdout",
     "output_type": "stream",
     "text": [
      "Sending 'Hello, World'...\n",
      "Sent\n",
      "Receiving...\n",
      "Received 'Hello, World from 3/answer/116'\n",
      "Sending 'Hello, World'...\n",
      "Sent\n",
      "Receiving...\n",
      "Received 'Hello, World from 1/answer/117'\n"
     ]
    },
    {
     "name": "stderr",
     "output_type": "stream",
     "text": [
      "09:29:20: Main    : before running thread\n",
      "09:29:20: Main    : wait for the thread to finish\n",
      "09:29:20: Main    : all done\n",
      "09:29:20: Main    : before creating thread\n"
     ]
    },
    {
     "name": "stdout",
     "output_type": "stream",
     "text": [
      "Sending 'Hello, World'...\n",
      "Sent\n",
      "Receiving...\n",
      "Received 'Hello, World from 2/answer/118'\n",
      "Sending 'Hello, World'...\n",
      "Sent\n",
      "Receiving...\n",
      "Received 'Hello, World from 3/answer/119'\n",
      "Sending 'Hello, World'...\n",
      "Sent\n",
      "Receiving...\n",
      "Received 'Hello, World from 1/answer/120'\n",
      "Sending 'Hello, World'...\n",
      "Sent\n",
      "Receiving...\n",
      "Received 'Hello, World from 2/answer/121'\n",
      "Sending 'Hello, World'...\n",
      "Sent\n",
      "Receiving...\n"
     ]
    },
    {
     "name": "stderr",
     "output_type": "stream",
     "text": [
      "09:29:20: Main    : before running thread\n",
      "09:29:20: Main    : wait for the thread to finish\n",
      "09:29:20: Main    : all done\n",
      "09:29:20: Main    : before creating thread\n"
     ]
    },
    {
     "name": "stdout",
     "output_type": "stream",
     "text": [
      "Received 'Hello, World from 3/answer/122'\n",
      "Sending 'Hello, World'...\n",
      "Sent\n",
      "Receiving...\n",
      "Received 'Hello, World from 1/answer/123'\n",
      "Sending 'Hello, World'...\n",
      "Sent\n",
      "Receiving...\n",
      "Received 'Hello, World from 2/answer/124'\n"
     ]
    },
    {
     "name": "stderr",
     "output_type": "stream",
     "text": [
      "09:29:21: Main    : before running thread\n",
      "09:29:21: Main    : wait for the thread to finish\n",
      "09:29:21: Main    : all done\n",
      "09:29:21: Main    : before creating thread\n"
     ]
    },
    {
     "name": "stdout",
     "output_type": "stream",
     "text": [
      "Sending 'Hello, World'...\n",
      "Sent\n",
      "Receiving...\n",
      "Received 'Hello, World from 3/answer/125'\n",
      "Sending 'Hello, World'...\n",
      "Sent\n",
      "Receiving...\n",
      "Received 'Hello, World from 1/answer/126'\n"
     ]
    },
    {
     "name": "stderr",
     "output_type": "stream",
     "text": [
      "09:29:21: Main    : before running thread\n",
      "09:29:21: Main    : wait for the thread to finish\n",
      "09:29:21: Main    : all done\n",
      "09:29:21: Main    : before creating thread\n"
     ]
    },
    {
     "name": "stdout",
     "output_type": "stream",
     "text": [
      "Sending 'Hello, World'...\n",
      "Sent\n",
      "Receiving...\n",
      "Received 'Hello, World from 2/answer/127'\n",
      "Sending 'Hello, World'...\n",
      "Sent\n",
      "Receiving...\n",
      "Received 'Hello, World from 3/answer/128'\n",
      "Sending 'Hello, World'...\n",
      "Sent\n",
      "Receiving...\n",
      "Received 'Hello, World from 1/answer/129'\n",
      "Sending 'Hello, World'...\n",
      "Sent\n",
      "Receiving...\n",
      "Received 'Hello, World from 2/answer/130'\n",
      "Sending 'Hello, World'...\n",
      "Sent\n",
      "Receiving...\n"
     ]
    },
    {
     "name": "stderr",
     "output_type": "stream",
     "text": [
      "09:29:21: Main    : before running thread\n",
      "09:29:21: Main    : wait for the thread to finish\n",
      "09:29:21: Main    : all done\n",
      "09:29:21: Main    : before creating thread\n"
     ]
    },
    {
     "name": "stdout",
     "output_type": "stream",
     "text": [
      "Received 'Hello, World from 3/answer/131'\n",
      "Sending 'Hello, World'...\n",
      "Sent\n",
      "Receiving...\n",
      "Received 'Hello, World from 1/answer/132'\n",
      "Sending 'Hello, World'...\n",
      "Sent\n",
      "Receiving...\n"
     ]
    },
    {
     "name": "stderr",
     "output_type": "stream",
     "text": [
      "09:29:22: Main    : before running thread\n",
      "09:29:22: Main    : wait for the thread to finish\n",
      "09:29:22: Main    : all done\n",
      "09:29:22: Main    : before creating thread\n"
     ]
    },
    {
     "name": "stdout",
     "output_type": "stream",
     "text": [
      "Received 'Hello, World from 2/answer/133'\n",
      "Sending 'Hello, World'...\n",
      "Sent\n",
      "Receiving...\n",
      "Received 'Hello, World from 3/answer/134'\n",
      "Sending 'Hello, World'...\n",
      "Sent\n",
      "Receiving...\n",
      "Received 'Hello, World from 1/answer/135'\n",
      "Sending 'Hello, World'...\n",
      "Sent\n",
      "Receiving...\n",
      "Received 'Hello, World from 2/answer/136'\n",
      "Sending 'Hello, World'...\n",
      "Sent\n",
      "Receiving...\n",
      "Received 'Hello, World from 3/answer/137'\n"
     ]
    },
    {
     "name": "stderr",
     "output_type": "stream",
     "text": [
      "09:29:22: Main    : before running thread\n",
      "09:29:22: Main    : wait for the thread to finish\n",
      "09:29:22: Main    : all done\n",
      "09:29:22: Main    : before creating thread\n"
     ]
    },
    {
     "name": "stdout",
     "output_type": "stream",
     "text": [
      "Sending 'Hello, World'...\n",
      "Sent\n",
      "Receiving...\n",
      "Received 'Hello, World from 1/answer/138'\n",
      "Sending 'Hello, World'...\n",
      "Sent\n",
      "Receiving...\n",
      "Received 'Hello, World from 2/answer/139'\n",
      "Sending 'Hello, World'...\n",
      "Sent\n",
      "Receiving...\n"
     ]
    },
    {
     "name": "stderr",
     "output_type": "stream",
     "text": [
      "09:29:22: Main    : before running thread\n",
      "09:29:22: Main    : wait for the thread to finish\n",
      "09:29:22: Main    : all done\n",
      "09:29:22: Main    : before creating thread\n"
     ]
    },
    {
     "name": "stdout",
     "output_type": "stream",
     "text": [
      "Received 'Hello, World from 3/answer/140'\n",
      "Sending 'Hello, World'...\n",
      "Sent\n",
      "Receiving...\n",
      "Received 'Hello, World from 1/answer/141'\n",
      "Sending 'Hello, World'...\n",
      "Sent\n",
      "Receiving...\n"
     ]
    },
    {
     "name": "stderr",
     "output_type": "stream",
     "text": [
      "09:29:23: Main    : before running thread\n",
      "09:29:23: Main    : wait for the thread to finish\n",
      "09:29:23: Main    : all done\n",
      "09:29:23: Main    : before creating thread\n"
     ]
    },
    {
     "name": "stdout",
     "output_type": "stream",
     "text": [
      "Received 'Hello, World from 2/answer/142'\n",
      "Sending 'Hello, World'...\n",
      "Sent\n",
      "Receiving...\n",
      "Received 'Hello, World from 3/answer/143'\n",
      "Sending 'Hello, World'...\n",
      "Sent\n",
      "Receiving...\n",
      "Received 'Hello, World from 1/answer/144'\n"
     ]
    },
    {
     "name": "stderr",
     "output_type": "stream",
     "text": [
      "09:29:23: Main    : before running thread\n",
      "09:29:23: Main    : wait for the thread to finish\n",
      "09:29:23: Main    : all done\n",
      "09:29:23: Main    : before creating thread\n"
     ]
    },
    {
     "name": "stdout",
     "output_type": "stream",
     "text": [
      "Sending 'Hello, World'...\n",
      "Sent\n",
      "Receiving...\n",
      "Received 'Hello, World from 2/answer/145'\n",
      "Sending 'Hello, World'...\n",
      "Sent\n",
      "Receiving...\n",
      "Received 'Hello, World from 3/answer/146'\n",
      "Sending 'Hello, World'...\n",
      "Sent\n",
      "Receiving...\n",
      "Received 'Hello, World from 1/answer/147'\n",
      "Sending 'Hello, World'...\n",
      "Sent\n",
      "Receiving...\n",
      "Received 'Hello, World from 2/answer/148'\n",
      "Sending 'Hello, World'...\n",
      "Sent\n",
      "Receiving...\n"
     ]
    },
    {
     "name": "stderr",
     "output_type": "stream",
     "text": [
      "09:29:23: Main    : before running thread\n",
      "09:29:23: Main    : wait for the thread to finish\n",
      "09:29:23: Main    : all done\n",
      "09:29:23: Main    : before creating thread\n"
     ]
    },
    {
     "name": "stdout",
     "output_type": "stream",
     "text": [
      "Received 'Hello, World from 3/answer/149'\n",
      "Sending 'Hello, World'...\n",
      "Sent\n",
      "Receiving...\n",
      "Received 'Hello, World from 1/answer/150'\n",
      "Sending 'Hello, World'...\n",
      "Sent\n",
      "Receiving...\n"
     ]
    },
    {
     "name": "stderr",
     "output_type": "stream",
     "text": [
      "09:29:24: Main    : before running thread\n",
      "09:29:24: Main    : wait for the thread to finish\n",
      "09:29:24: Main    : all done\n",
      "09:29:24: Main    : before creating thread\n"
     ]
    },
    {
     "name": "stdout",
     "output_type": "stream",
     "text": [
      "Received 'Hello, World from 2/answer/151'\n",
      "Sending 'Hello, World'...\n",
      "Sent\n",
      "Receiving...\n",
      "Received 'Hello, World from 3/answer/152'\n",
      "Sending 'Hello, World'...\n",
      "Sent\n",
      "Receiving...\n",
      "Received 'Hello, World from 1/answer/153'\n",
      "Sending 'Hello, World'...\n",
      "Sent\n",
      "Receiving...\n",
      "Received 'Hello, World from 2/answer/154'\n",
      "Sending 'Hello, World'...\n",
      "Sent\n",
      "Receiving...\n",
      "Received 'Hello, World from 3/answer/155'\n"
     ]
    },
    {
     "name": "stderr",
     "output_type": "stream",
     "text": [
      "09:29:24: Main    : before running thread\n",
      "09:29:24: Main    : wait for the thread to finish\n",
      "09:29:24: Main    : all done\n",
      "09:29:24: Main    : before creating thread\n"
     ]
    },
    {
     "name": "stdout",
     "output_type": "stream",
     "text": [
      "Sending 'Hello, World'...\n",
      "Sent\n",
      "Receiving...\n",
      "Received 'Hello, World from 1/answer/156'\n",
      "Sending 'Hello, World'...\n",
      "Sent\n",
      "Receiving...\n",
      "Received 'Hello, World from 2/answer/157'\n"
     ]
    },
    {
     "name": "stderr",
     "output_type": "stream",
     "text": [
      "09:29:24: Main    : before running thread\n",
      "09:29:24: Main    : wait for the thread to finish\n",
      "09:29:24: Main    : all done\n",
      "09:29:24: Main    : before creating thread\n"
     ]
    },
    {
     "name": "stdout",
     "output_type": "stream",
     "text": [
      "Sending 'Hello, World'...\n",
      "Sent\n",
      "Receiving...\n",
      "Received 'Hello, World from 3/answer/158'\n",
      "Sending 'Hello, World'...\n",
      "Sent\n",
      "Receiving...\n",
      "Received 'Hello, World from 1/answer/159'\n"
     ]
    },
    {
     "name": "stderr",
     "output_type": "stream",
     "text": [
      "09:29:24: Main    : before running thread\n",
      "09:29:24: Main    : wait for the thread to finish\n",
      "09:29:24: Main    : all done\n",
      "09:29:24: Main    : before creating thread\n"
     ]
    },
    {
     "name": "stdout",
     "output_type": "stream",
     "text": [
      "Sending 'Hello, World'...\n",
      "Sent\n",
      "Receiving...\n",
      "Received 'Hello, World from 2/answer/160'\n",
      "Sending 'Hello, World'...\n",
      "Sent\n",
      "Receiving...\n",
      "Received 'Hello, World from 3/answer/161'\n",
      "Sending 'Hello, World'...\n",
      "Sent\n",
      "Receiving...\n",
      "Received 'Hello, World from 1/answer/162'\n",
      "Sending 'Hello, World'...\n",
      "Sent\n",
      "Receiving...\n",
      "Received 'Hello, World from 2/answer/163'\n",
      "Sending 'Hello, World'...\n",
      "Sent\n",
      "Receiving...\n"
     ]
    },
    {
     "name": "stderr",
     "output_type": "stream",
     "text": [
      "09:29:25: Main    : before running thread\n",
      "09:29:25: Main    : wait for the thread to finish\n",
      "09:29:25: Main    : all done\n",
      "09:29:25: Main    : before creating thread\n"
     ]
    },
    {
     "name": "stdout",
     "output_type": "stream",
     "text": [
      "Received 'Hello, World from 3/answer/164'\n",
      "Sending 'Hello, World'...\n",
      "Sent\n",
      "Receiving...\n",
      "Received 'Hello, World from 1/answer/165'\n",
      "Sending 'Hello, World'...\n",
      "Sent\n",
      "Receiving...\n"
     ]
    },
    {
     "name": "stderr",
     "output_type": "stream",
     "text": [
      "09:29:25: Main    : before running thread\n",
      "09:29:25: Main    : wait for the thread to finish\n",
      "09:29:25: Main    : all done\n",
      "09:29:25: Main    : before creating thread\n"
     ]
    },
    {
     "name": "stdout",
     "output_type": "stream",
     "text": [
      "Received 'Hello, World from 2/answer/166'\n",
      "Sending 'Hello, World'...\n",
      "Sent\n",
      "Receiving...\n",
      "Received 'Hello, World from 3/answer/167'\n",
      "Sending 'Hello, World'...\n",
      "Sent\n",
      "Receiving...\n",
      "Received 'Hello, World from 1/answer/168'\n",
      "Sending 'Hello, World'...\n",
      "Sent\n",
      "Receiving...\n",
      "Received 'Hello, World from 2/answer/169'\n",
      "Sending 'Hello, World'...\n",
      "Sent\n",
      "Receiving...\n"
     ]
    },
    {
     "name": "stderr",
     "output_type": "stream",
     "text": [
      "09:29:25: Main    : before running thread\n",
      "09:29:25: Main    : wait for the thread to finish\n",
      "09:29:25: Main    : all done\n",
      "09:29:25: Main    : before creating thread\n"
     ]
    },
    {
     "name": "stdout",
     "output_type": "stream",
     "text": [
      "Received 'Hello, World from 3/answer/170'\n",
      "Sending 'Hello, World'...\n",
      "Sent\n",
      "Receiving...\n",
      "Received 'Hello, World from 1/answer/171'\n",
      "Sending 'Hello, World'...\n",
      "Sent\n",
      "Receiving...\n"
     ]
    },
    {
     "name": "stderr",
     "output_type": "stream",
     "text": [
      "09:29:26: Main    : before running thread\n",
      "09:29:26: Main    : wait for the thread to finish\n",
      "09:29:26: Main    : all done\n",
      "09:29:26: Main    : before creating thread\n"
     ]
    },
    {
     "name": "stdout",
     "output_type": "stream",
     "text": [
      "Received 'Hello, World from 2/answer/172'\n",
      "Sending 'Hello, World'...\n",
      "Sent\n",
      "Receiving...\n",
      "Received 'Hello, World from 3/answer/173'\n",
      "Sending 'Hello, World'...\n",
      "Sent\n",
      "Receiving...\n",
      "Received 'Hello, World from 1/answer/174'\n"
     ]
    },
    {
     "name": "stderr",
     "output_type": "stream",
     "text": [
      "09:29:26: Main    : before running thread\n",
      "09:29:26: Main    : wait for the thread to finish\n",
      "09:29:26: Main    : all done\n",
      "09:29:26: Main    : before creating thread\n"
     ]
    },
    {
     "name": "stdout",
     "output_type": "stream",
     "text": [
      "Sending 'Hello, World'...\n",
      "Sent\n",
      "Receiving...\n",
      "Received 'Hello, World from 2/answer/175'\n",
      "Sending 'Hello, World'...\n",
      "Sent\n",
      "Receiving...\n",
      "Received 'Hello, World from 3/answer/176'\n",
      "Sending 'Hello, World'...\n",
      "Sent\n",
      "Receiving...\n",
      "Received 'Hello, World from 1/answer/177'\n",
      "Sending 'Hello, World'...\n",
      "Sent\n",
      "Receiving...\n",
      "Received 'Hello, World from 2/answer/178'\n"
     ]
    },
    {
     "name": "stderr",
     "output_type": "stream",
     "text": [
      "09:29:26: Main    : before running thread\n",
      "09:29:26: Main    : wait for the thread to finish\n",
      "09:29:26: Main    : all done\n",
      "09:29:26: Main    : before creating thread\n"
     ]
    },
    {
     "name": "stdout",
     "output_type": "stream",
     "text": [
      "Sending 'Hello, World'...\n",
      "Sent\n",
      "Receiving...\n",
      "Received 'Hello, World from 3/answer/179'\n",
      "Sending 'Hello, World'...\n",
      "Sent\n",
      "Receiving...\n",
      "Received 'Hello, World from 1/answer/180'\n",
      "Sending 'Hello, World'...\n"
     ]
    },
    {
     "name": "stderr",
     "output_type": "stream",
     "text": [
      "09:29:27: Main    : before running thread\n",
      "09:29:27: Main    : wait for the thread to finish\n",
      "09:29:27: Main    : all done\n",
      "09:29:27: Main    : before creating thread\n"
     ]
    },
    {
     "name": "stdout",
     "output_type": "stream",
     "text": [
      "Sent\n",
      "Receiving...\n",
      "Received 'Hello, World from 2/answer/181'\n",
      "Sending 'Hello, World'...\n",
      "Sent\n",
      "Receiving...\n",
      "Received 'Hello, World from 3/answer/182'\n",
      "Sending 'Hello, World'...\n",
      "Sent\n",
      "Receiving...\n",
      "Received 'Hello, World from 1/answer/183'\n",
      "Sending 'Hello, World'...\n",
      "Sent\n",
      "Receiving...\n",
      "Received 'Hello, World from 2/answer/184'\n",
      "Sending 'Hello, World'...\n",
      "Sent\n",
      "Receiving...\n",
      "Received 'Hello, World from 3/answer/185'\n"
     ]
    },
    {
     "name": "stderr",
     "output_type": "stream",
     "text": [
      "09:29:27: Main    : before running thread\n",
      "09:29:27: Main    : wait for the thread to finish\n",
      "09:29:27: Main    : all done\n",
      "09:29:27: Main    : before creating thread\n"
     ]
    },
    {
     "name": "stdout",
     "output_type": "stream",
     "text": [
      "Sending 'Hello, World'...\n",
      "Sent\n",
      "Receiving...\n",
      "Received 'Hello, World from 1/answer/186'\n",
      "Sending 'Hello, World'...\n",
      "Sent\n",
      "Receiving...\n",
      "Received 'Hello, World from 2/answer/187'\n",
      "Sending 'Hello, World'...\n",
      "Sent\n",
      "Receiving...\n"
     ]
    },
    {
     "name": "stderr",
     "output_type": "stream",
     "text": [
      "09:29:27: Main    : before running thread\n",
      "09:29:27: Main    : wait for the thread to finish\n",
      "09:29:27: Main    : all done\n",
      "09:29:27: Main    : before creating thread\n"
     ]
    },
    {
     "name": "stdout",
     "output_type": "stream",
     "text": [
      "Received 'Hello, World from 3/answer/188'\n",
      "Sending 'Hello, World'...\n",
      "Sent\n",
      "Receiving...\n",
      "Received 'Hello, World from 1/answer/189'\n",
      "Sending 'Hello, World'...\n",
      "Sent\n",
      "Receiving...\n",
      "Received 'Hello, World from 2/answer/190'\n"
     ]
    },
    {
     "name": "stderr",
     "output_type": "stream",
     "text": [
      "09:29:27: Main    : before running thread\n",
      "09:29:27: Main    : wait for the thread to finish\n",
      "09:29:27: Main    : all done\n",
      "09:29:27: Main    : before creating thread\n"
     ]
    },
    {
     "name": "stdout",
     "output_type": "stream",
     "text": [
      "Sending 'Hello, World'...\n",
      "Sent\n",
      "Receiving...\n",
      "Received 'Hello, World from 3/answer/191'\n",
      "Sending 'Hello, World'...\n",
      "Sent\n",
      "Receiving...\n",
      "Received 'Hello, World from 1/answer/192'\n",
      "Sending 'Hello, World'...\n",
      "Sent\n",
      "Receiving...\n"
     ]
    },
    {
     "name": "stderr",
     "output_type": "stream",
     "text": [
      "09:29:28: Main    : before running thread\n",
      "09:29:28: Main    : wait for the thread to finish\n",
      "09:29:28: Main    : all done\n",
      "09:29:28: Main    : before creating thread\n"
     ]
    },
    {
     "name": "stdout",
     "output_type": "stream",
     "text": [
      "Received 'Hello, World from 2/answer/193'\n",
      "Sending 'Hello, World'...\n",
      "Sent\n",
      "Receiving...\n",
      "Received 'Hello, World from 3/answer/194'\n",
      "Sending 'Hello, World'...\n",
      "Sent\n",
      "Receiving...\n",
      "Received 'Hello, World from 1/answer/195'\n",
      "Sending 'Hello, World'...\n",
      "Sent\n",
      "Receiving...\n",
      "Received 'Hello, World from 2/answer/196'\n",
      "Sending 'Hello, World'...\n",
      "Sent\n",
      "Receiving...\n"
     ]
    },
    {
     "name": "stderr",
     "output_type": "stream",
     "text": [
      "09:29:28: Main    : before running thread\n",
      "09:29:28: Main    : wait for the thread to finish\n",
      "09:29:28: Main    : all done\n",
      "09:29:28: Main    : before creating thread\n"
     ]
    },
    {
     "name": "stdout",
     "output_type": "stream",
     "text": [
      "Received 'Hello, World from 3/answer/197'\n",
      "Sending 'Hello, World'...\n",
      "Sent\n",
      "Receiving...\n",
      "Received 'Hello, World from 1/answer/198'\n",
      "Sending 'Hello, World'...\n",
      "Sent\n",
      "Receiving...\n",
      "Received 'Hello, World from 2/answer/199'\n"
     ]
    },
    {
     "name": "stderr",
     "output_type": "stream",
     "text": [
      "09:29:28: Main    : before running thread\n",
      "09:29:28: Main    : wait for the thread to finish\n",
      "09:29:28: Main    : all done\n",
      "09:29:28: Main    : before creating thread\n"
     ]
    },
    {
     "name": "stdout",
     "output_type": "stream",
     "text": [
      "Sending 'Hello, World'...\n",
      "Sent\n",
      "Receiving...\n",
      "Received 'Hello, World from 3/answer/200'\n",
      "Sending 'Hello, World'...\n",
      "Sent\n",
      "Receiving...\n",
      "Received 'Hello, World from 1/answer/201'\n",
      "Sending 'Hello, World'...\n",
      "Sent\n",
      "Receiving...\n"
     ]
    },
    {
     "name": "stderr",
     "output_type": "stream",
     "text": [
      "09:29:29: Main    : before running thread\n",
      "09:29:29: Main    : wait for the thread to finish\n",
      "09:29:29: Main    : all done\n",
      "09:29:29: Main    : before creating thread\n"
     ]
    },
    {
     "name": "stdout",
     "output_type": "stream",
     "text": [
      "Received 'Hello, World from 2/answer/202'\n",
      "Sending 'Hello, World'...\n",
      "Sent\n",
      "Receiving...\n",
      "Received 'Hello, World from 3/answer/203'\n",
      "Sending 'Hello, World'...\n",
      "Sent\n",
      "Receiving...\n",
      "Received 'Hello, World from 1/answer/204'\n"
     ]
    },
    {
     "name": "stderr",
     "output_type": "stream",
     "text": [
      "09:29:29: Main    : before running thread\n",
      "09:29:29: Main    : wait for the thread to finish\n",
      "09:29:29: Main    : all done\n",
      "09:29:29: Main    : before creating thread\n"
     ]
    },
    {
     "name": "stdout",
     "output_type": "stream",
     "text": [
      "Sending 'Hello, World'...\n",
      "Sent\n",
      "Receiving...\n",
      "Received 'Hello, World from 2/answer/205'\n",
      "Sending 'Hello, World'...\n",
      "Sent\n",
      "Receiving...\n",
      "Received 'Hello, World from 3/answer/206'\n",
      "Sending 'Hello, World'...\n",
      "Sent\n",
      "Receiving...\n",
      "Received 'Hello, World from 1/answer/207'\n",
      "Sending 'Hello, World'...\n",
      "Sent\n",
      "Receiving...\n",
      "Received 'Hello, World from 2/answer/208'\n",
      "Sending 'Hello, World'...\n",
      "Sent\n",
      "Receiving...\n"
     ]
    },
    {
     "name": "stderr",
     "output_type": "stream",
     "text": [
      "09:29:29: Main    : before running thread\n",
      "09:29:29: Main    : wait for the thread to finish\n",
      "09:29:29: Main    : all done\n",
      "09:29:29: Main    : before creating thread\n"
     ]
    },
    {
     "name": "stdout",
     "output_type": "stream",
     "text": [
      "Received 'Hello, World from 3/answer/209'\n",
      "Sending 'Hello, World'...\n",
      "Sent\n",
      "Receiving...\n",
      "Received 'Hello, World from 1/answer/210'\n",
      "Sending 'Hello, World'...\n",
      "Sent\n",
      "Receiving...\n",
      "Received 'Hello, World from 2/answer/211'\n"
     ]
    },
    {
     "name": "stderr",
     "output_type": "stream",
     "text": [
      "09:29:30: Main    : before running thread\n",
      "09:29:30: Main    : wait for the thread to finish\n",
      "09:29:30: Main    : all done\n",
      "09:29:30: Main    : before creating thread\n"
     ]
    },
    {
     "name": "stdout",
     "output_type": "stream",
     "text": [
      "Sending 'Hello, World'...\n",
      "Sent\n",
      "Receiving...\n",
      "Received 'Hello, World from 3/answer/212'\n",
      "Sending 'Hello, World'...\n",
      "Sent\n",
      "Receiving...\n",
      "Received 'Hello, World from 1/answer/213'\n",
      "Sending 'Hello, World'...\n",
      "Sent\n",
      "Receiving...\n"
     ]
    },
    {
     "name": "stderr",
     "output_type": "stream",
     "text": [
      "09:29:30: Main    : before running thread\n",
      "09:29:30: Main    : wait for the thread to finish\n",
      "09:29:30: Main    : all done\n",
      "09:29:30: Main    : before creating thread\n"
     ]
    },
    {
     "name": "stdout",
     "output_type": "stream",
     "text": [
      "Received 'Hello, World from 2/answer/214'\n",
      "Sending 'Hello, World'...\n",
      "Sent\n",
      "Receiving...\n",
      "Received 'Hello, World from 3/answer/215'\n",
      "Sending 'Hello, World'...\n",
      "Sent\n",
      "Receiving...\n",
      "Received 'Hello, World from 1/answer/216'\n"
     ]
    },
    {
     "name": "stderr",
     "output_type": "stream",
     "text": [
      "09:29:30: Main    : before running thread\n",
      "09:29:30: Main    : wait for the thread to finish\n",
      "09:29:30: Main    : all done\n",
      "09:29:30: Main    : before creating thread\n"
     ]
    },
    {
     "name": "stdout",
     "output_type": "stream",
     "text": [
      "Sending 'Hello, World'...\n",
      "Sent\n",
      "Receiving...\n",
      "Received 'Hello, World from 2/answer/217'\n",
      "Sending 'Hello, World'...\n",
      "Sent\n",
      "Receiving...\n",
      "Received 'Hello, World from 3/answer/218'\n",
      "Sending 'Hello, World'...\n",
      "Sent\n",
      "Receiving...\n",
      "Received 'Hello, World from 1/answer/219'\n",
      "Sending 'Hello, World'...\n",
      "Sent\n",
      "Receiving...\n",
      "Received 'Hello, World from 2/answer/220'\n"
     ]
    },
    {
     "name": "stderr",
     "output_type": "stream",
     "text": [
      "09:29:30: Main    : before running thread\n",
      "09:29:30: Main    : wait for the thread to finish\n",
      "09:29:30: Main    : all done\n",
      "09:29:30: Main    : before creating thread\n"
     ]
    },
    {
     "name": "stdout",
     "output_type": "stream",
     "text": [
      "Sending 'Hello, World'...\n",
      "Sent\n",
      "Receiving...\n",
      "Received 'Hello, World from 3/answer/221'\n",
      "Sending 'Hello, World'...\n",
      "Sent\n",
      "Receiving...\n",
      "Received 'Hello, World from 1/answer/222'\n"
     ]
    },
    {
     "name": "stderr",
     "output_type": "stream",
     "text": [
      "09:29:31: Main    : before running thread\n",
      "09:29:31: Main    : wait for the thread to finish\n",
      "09:29:31: Main    : all done\n",
      "09:29:31: Main    : before creating thread\n"
     ]
    },
    {
     "name": "stdout",
     "output_type": "stream",
     "text": [
      "Sending 'Hello, World'...\n",
      "Sent\n",
      "Receiving...\n",
      "Received 'Hello, World from 2/answer/223'\n",
      "Sending 'Hello, World'...\n",
      "Sent\n",
      "Receiving...\n",
      "Received 'Hello, World from 3/answer/224'\n",
      "Sending 'Hello, World'...\n",
      "Sent\n",
      "Receiving...\n",
      "Received 'Hello, World from 1/answer/225'\n",
      "Sending 'Hello, World'...\n",
      "Sent\n",
      "Receiving...\n",
      "Received 'Hello, World from 2/answer/226'\n"
     ]
    },
    {
     "name": "stderr",
     "output_type": "stream",
     "text": [
      "09:29:31: Main    : before running thread\n",
      "09:29:31: Main    : wait for the thread to finish\n",
      "09:29:31: Main    : all done\n",
      "09:29:31: Main    : before creating thread\n"
     ]
    },
    {
     "name": "stdout",
     "output_type": "stream",
     "text": [
      "Sending 'Hello, World'...\n",
      "Sent\n",
      "Receiving...\n",
      "Received 'Hello, World from 3/answer/227'\n",
      "Sending 'Hello, World'...\n",
      "Sent\n",
      "Receiving...\n",
      "Received 'Hello, World from 1/answer/228'\n",
      "Sending 'Hello, World'...\n",
      "Sent\n",
      "Receiving...\n"
     ]
    },
    {
     "name": "stderr",
     "output_type": "stream",
     "text": [
      "09:29:31: Main    : before running thread\n",
      "09:29:31: Main    : wait for the thread to finish\n",
      "09:29:31: Main    : all done\n",
      "09:29:31: Main    : before creating thread\n"
     ]
    },
    {
     "name": "stdout",
     "output_type": "stream",
     "text": [
      "Received 'Hello, World from 2/answer/229'\n",
      "Sending 'Hello, World'...\n",
      "Sent\n",
      "Receiving...\n",
      "Received 'Hello, World from 3/answer/230'\n",
      "Sending 'Hello, World'...\n",
      "Sent\n",
      "Receiving...\n",
      "Received 'Hello, World from 1/answer/231'\n",
      "Sending 'Hello, World'...\n",
      "Sent\n",
      "Receiving...\n",
      "Received 'Hello, World from 2/answer/232'\n",
      "Sending 'Hello, World'...\n",
      "Sent\n",
      "Receiving...\n",
      "Received 'Hello, World from 3/answer/233'\n"
     ]
    },
    {
     "name": "stderr",
     "output_type": "stream",
     "text": [
      "09:29:32: Main    : before running thread\n",
      "09:29:32: Main    : wait for the thread to finish\n",
      "09:29:32: Main    : all done\n",
      "09:29:32: Main    : before creating thread\n"
     ]
    },
    {
     "name": "stdout",
     "output_type": "stream",
     "text": [
      "Sending 'Hello, World'...\n",
      "Sent\n",
      "Receiving...\n",
      "Received 'Hello, World from 1/answer/234'\n",
      "Sending 'Hello, World'...\n",
      "Sent\n",
      "Receiving...\n",
      "Received 'Hello, World from 2/answer/235'\n",
      "Sending 'Hello, World'...\n",
      "Sent\n",
      "Receiving...\n"
     ]
    },
    {
     "name": "stderr",
     "output_type": "stream",
     "text": [
      "09:29:32: Main    : before running thread\n",
      "09:29:32: Main    : wait for the thread to finish\n",
      "09:29:32: Main    : all done\n",
      "09:29:32: Main    : before creating thread\n"
     ]
    },
    {
     "name": "stdout",
     "output_type": "stream",
     "text": [
      "Received 'Hello, World from 3/answer/236'\n",
      "Sending 'Hello, World'...\n",
      "Sent\n",
      "Receiving...\n",
      "Received 'Hello, World from 1/answer/237'\n",
      "Sending 'Hello, World'...\n",
      "Sent\n",
      "Receiving...\n"
     ]
    },
    {
     "name": "stderr",
     "output_type": "stream",
     "text": [
      "09:29:32: Main    : before running thread\n",
      "09:29:32: Main    : wait for the thread to finish\n",
      "09:29:32: Main    : all done\n",
      "09:29:32: Main    : before creating thread\n"
     ]
    },
    {
     "name": "stdout",
     "output_type": "stream",
     "text": [
      "Received 'Hello, World from 2/answer/238'\n",
      "Sending 'Hello, World'...\n",
      "Sent\n",
      "Receiving...\n",
      "Received 'Hello, World from 3/answer/239'\n",
      "Sending 'Hello, World'...\n",
      "Sent\n",
      "Receiving...\n",
      "Received 'Hello, World from 1/answer/240'\n",
      "Sending 'Hello, World'...\n",
      "Sent\n",
      "Receiving...\n",
      "Received 'Hello, World from 2/answer/241'\n",
      "Sending 'Hello, World'...\n",
      "Sent\n",
      "Receiving...\n"
     ]
    },
    {
     "name": "stderr",
     "output_type": "stream",
     "text": [
      "09:29:33: Main    : before running thread\n",
      "09:29:33: Main    : wait for the thread to finish\n",
      "09:29:33: Main    : all done\n",
      "09:29:33: Main    : before creating thread\n"
     ]
    },
    {
     "name": "stdout",
     "output_type": "stream",
     "text": [
      "Received 'Hello, World from 3/answer/242'\n",
      "Sending 'Hello, World'...\n",
      "Sent\n",
      "Receiving...\n",
      "Received 'Hello, World from 1/answer/243'\n",
      "Sending 'Hello, World'...\n",
      "Sent\n",
      "Receiving...\n"
     ]
    },
    {
     "name": "stderr",
     "output_type": "stream",
     "text": [
      "09:29:33: Main    : before running thread\n",
      "09:29:33: Main    : wait for the thread to finish\n",
      "09:29:33: Main    : all done\n",
      "09:29:33: Main    : before creating thread\n"
     ]
    },
    {
     "name": "stdout",
     "output_type": "stream",
     "text": [
      "Received 'Hello, World from 2/answer/244'\n",
      "Sending 'Hello, World'...\n",
      "Sent\n",
      "Receiving...\n",
      "Received 'Hello, World from 3/answer/245'\n",
      "Sending 'Hello, World'...\n",
      "Sent\n",
      "Receiving...\n",
      "Received 'Hello, World from 1/answer/246'\n"
     ]
    },
    {
     "name": "stderr",
     "output_type": "stream",
     "text": [
      "09:29:33: Main    : before running thread\n",
      "09:29:33: Main    : wait for the thread to finish\n",
      "09:29:33: Main    : all done\n",
      "09:29:33: Main    : before creating thread\n"
     ]
    },
    {
     "name": "stdout",
     "output_type": "stream",
     "text": [
      "Sending 'Hello, World'...\n",
      "Sent\n",
      "Receiving...\n",
      "Received 'Hello, World from 2/answer/247'\n",
      "Sending 'Hello, World'...\n",
      "Sent\n",
      "Receiving...\n",
      "Received 'Hello, World from 3/answer/248'\n",
      "Sending 'Hello, World'...\n",
      "Sent\n",
      "Receiving...\n",
      "Received 'Hello, World from 1/answer/249'\n",
      "Sending 'Hello, World'...\n",
      "Sent\n",
      "Receiving...\n",
      "Received 'Hello, World from 2/answer/250'\n",
      "Sending 'Hello, World'...\n",
      "Sent\n",
      "Receiving...\n"
     ]
    },
    {
     "name": "stderr",
     "output_type": "stream",
     "text": [
      "09:29:34: Main    : before running thread\n",
      "09:29:34: Main    : wait for the thread to finish\n",
      "09:29:34: Main    : all done\n",
      "09:29:34: Main    : before creating thread\n"
     ]
    },
    {
     "name": "stdout",
     "output_type": "stream",
     "text": [
      "Received 'Hello, World from 3/answer/251'\n",
      "Sending 'Hello, World'...\n",
      "Sent\n",
      "Receiving...\n",
      "Received 'Hello, World from 1/answer/252'\n",
      "Sending 'Hello, World'...\n",
      "Sent\n",
      "Receiving...\n",
      "Received 'Hello, World from 2/answer/253'\n"
     ]
    },
    {
     "name": "stderr",
     "output_type": "stream",
     "text": [
      "09:29:34: Main    : before running thread\n",
      "09:29:34: Main    : wait for the thread to finish\n",
      "09:29:34: Main    : all done\n",
      "09:29:34: Main    : before creating thread\n"
     ]
    },
    {
     "name": "stdout",
     "output_type": "stream",
     "text": [
      "Sending 'Hello, World'...\n",
      "Sent\n",
      "Receiving...\n",
      "Received 'Hello, World from 3/answer/254'\n",
      "Sending 'Hello, World'...\n",
      "Sent\n",
      "Receiving...\n",
      "Received 'Hello, World from 1/answer/255'\n",
      "Sending 'Hello, World'...\n",
      "Sent\n",
      "Receiving...\n"
     ]
    },
    {
     "name": "stderr",
     "output_type": "stream",
     "text": [
      "09:29:34: Main    : before running thread\n",
      "09:29:34: Main    : wait for the thread to finish\n",
      "09:29:34: Main    : all done\n",
      "09:29:34: Main    : before creating thread\n"
     ]
    },
    {
     "name": "stdout",
     "output_type": "stream",
     "text": [
      "Received 'Hello, World from 2/answer/256'\n",
      "Sending 'Hello, World'...\n",
      "Sent\n",
      "Receiving...\n",
      "Received 'Hello, World from 3/answer/257'\n",
      "Sending 'Hello, World'...\n",
      "Sent\n",
      "Receiving...\n",
      "Received 'Hello, World from 1/answer/258'\n",
      "Sending 'Hello, World'...\n",
      "Sent\n",
      "Receiving...\n",
      "Received 'Hello, World from 2/answer/259'\n",
      "Sending 'Hello, World'...\n",
      "Sent\n",
      "Receiving...\n"
     ]
    },
    {
     "name": "stderr",
     "output_type": "stream",
     "text": [
      "09:29:34: Main    : before running thread\n",
      "09:29:34: Main    : wait for the thread to finish\n",
      "09:29:34: Main    : all done\n",
      "09:29:34: Main    : before creating thread\n"
     ]
    },
    {
     "name": "stdout",
     "output_type": "stream",
     "text": [
      "Received 'Hello, World from 3/answer/260'\n",
      "Sending 'Hello, World'...\n",
      "Sent\n",
      "Receiving...\n",
      "Received 'Hello, World from 1/answer/261'\n",
      "Sending 'Hello, World'...\n",
      "Sent\n",
      "Receiving...\n",
      "Received 'Hello, World from 2/answer/262'\n"
     ]
    },
    {
     "name": "stderr",
     "output_type": "stream",
     "text": [
      "09:29:35: Main    : before running thread\n",
      "09:29:35: Main    : wait for the thread to finish\n",
      "09:29:35: Main    : all done\n",
      "09:29:35: Main    : before creating thread\n"
     ]
    },
    {
     "name": "stdout",
     "output_type": "stream",
     "text": [
      "Sending 'Hello, World'...\n",
      "Sent\n",
      "Receiving...\n",
      "Received 'Hello, World from 3/answer/263'\n",
      "Sending 'Hello, World'...\n",
      "Sent\n",
      "Receiving...\n",
      "Received 'Hello, World from 1/answer/264'\n",
      "Sending 'Hello, World'...\n",
      "Sent\n",
      "Receiving...\n"
     ]
    },
    {
     "name": "stderr",
     "output_type": "stream",
     "text": [
      "09:29:35: Main    : before running thread\n",
      "09:29:35: Main    : wait for the thread to finish\n",
      "09:29:35: Main    : all done\n",
      "09:29:35: Main    : before creating thread\n"
     ]
    },
    {
     "name": "stdout",
     "output_type": "stream",
     "text": [
      "Received 'Hello, World from 2/answer/265'\n",
      "Sending 'Hello, World'...\n",
      "Sent\n",
      "Receiving...\n",
      "Received 'Hello, World from 3/answer/266'\n",
      "Sending 'Hello, World'...\n",
      "Sent\n",
      "Receiving...\n",
      "Received 'Hello, World from 1/answer/267'\n"
     ]
    },
    {
     "name": "stderr",
     "output_type": "stream",
     "text": [
      "09:29:35: Main    : before running thread\n",
      "09:29:35: Main    : wait for the thread to finish\n",
      "09:29:35: Main    : all done\n",
      "09:29:35: Main    : before creating thread\n"
     ]
    },
    {
     "name": "stdout",
     "output_type": "stream",
     "text": [
      "Sending 'Hello, World'...\n",
      "Sent\n",
      "Receiving...\n",
      "Received 'Hello, World from 2/answer/268'\n",
      "Sending 'Hello, World'...\n",
      "Sent\n",
      "Receiving...\n",
      "Received 'Hello, World from 3/answer/269'\n",
      "Sending 'Hello, World'...\n",
      "Sent\n",
      "Receiving...\n",
      "Received 'Hello, World from 1/answer/270'\n",
      "Sending 'Hello, World'...\n",
      "Sent\n",
      "Receiving...\n",
      "Received 'Hello, World from 2/answer/271'\n",
      "Sending 'Hello, World'...\n",
      "Sent\n",
      "Receiving...\n"
     ]
    },
    {
     "name": "stderr",
     "output_type": "stream",
     "text": [
      "09:29:36: Main    : before running thread\n",
      "09:29:36: Main    : wait for the thread to finish\n",
      "09:29:36: Main    : all done\n",
      "09:29:36: Main    : before creating thread\n"
     ]
    },
    {
     "name": "stdout",
     "output_type": "stream",
     "text": [
      "Received 'Hello, World from 3/answer/272'\n",
      "Sending 'Hello, World'...\n",
      "Sent\n",
      "Receiving...\n",
      "Received 'Hello, World from 1/answer/273'\n",
      "Sending 'Hello, World'...\n",
      "Sent\n",
      "Receiving...\n"
     ]
    },
    {
     "name": "stderr",
     "output_type": "stream",
     "text": [
      "09:29:36: Main    : before running thread\n",
      "09:29:36: Main    : wait for the thread to finish\n",
      "09:29:36: Main    : all done\n",
      "09:29:36: Main    : before creating thread\n"
     ]
    },
    {
     "name": "stdout",
     "output_type": "stream",
     "text": [
      "Received 'Hello, World from 2/answer/274'\n",
      "Sending 'Hello, World'...\n",
      "Sent\n",
      "Receiving...\n",
      "Received 'Hello, World from 3/answer/275'\n",
      "Sending 'Hello, World'...\n",
      "Sent\n",
      "Receiving...\n",
      "Received 'Hello, World from 1/answer/276'\n",
      "Sending 'Hello, World'...\n",
      "Sent\n",
      "Receiving...\n",
      "Received 'Hello, World from 2/answer/277'\n",
      "Sending 'Hello, World'...\n",
      "Sent\n",
      "Receiving...\n"
     ]
    },
    {
     "name": "stderr",
     "output_type": "stream",
     "text": [
      "09:29:36: Main    : before running thread\n",
      "09:29:36: Main    : wait for the thread to finish\n",
      "09:29:36: Main    : all done\n",
      "09:29:36: Main    : before creating thread\n"
     ]
    },
    {
     "name": "stdout",
     "output_type": "stream",
     "text": [
      "Received 'Hello, World from 3/answer/278'\n",
      "Sending 'Hello, World'...\n",
      "Sent\n",
      "Receiving...\n",
      "Received 'Hello, World from 1/answer/279'\n"
     ]
    },
    {
     "name": "stderr",
     "output_type": "stream",
     "text": [
      "09:29:37: Main    : before running thread\n",
      "09:29:37: Main    : wait for the thread to finish\n",
      "09:29:37: Main    : all done\n",
      "09:29:37: Main    : before creating thread\n"
     ]
    },
    {
     "name": "stdout",
     "output_type": "stream",
     "text": [
      "Sending 'Hello, World'...\n",
      "Sent\n",
      "Receiving...\n",
      "Received 'Hello, World from 2/answer/280'\n",
      "Sending 'Hello, World'...\n",
      "Sent\n",
      "Receiving...\n",
      "Received 'Hello, World from 3/answer/281'\n",
      "Sending 'Hello, World'...\n",
      "Sent\n",
      "Receiving...\n",
      "Received 'Hello, World from 1/answer/282'\n",
      "Sending 'Hello, World'...\n",
      "Sent\n",
      "Receiving...\n",
      "Received 'Hello, World from 2/answer/283'\n",
      "Sending 'Hello, World'...\n",
      "Sent\n",
      "Receiving...\n"
     ]
    },
    {
     "name": "stderr",
     "output_type": "stream",
     "text": [
      "09:29:37: Main    : before running thread\n",
      "09:29:37: Main    : wait for the thread to finish\n",
      "09:29:37: Main    : all done\n",
      "09:29:37: Main    : before creating thread\n"
     ]
    },
    {
     "name": "stdout",
     "output_type": "stream",
     "text": [
      "Received 'Hello, World from 3/answer/284'\n",
      "Sending 'Hello, World'...\n",
      "Sent\n",
      "Receiving...\n",
      "Received 'Hello, World from 1/answer/285'\n",
      "Sending 'Hello, World'...\n",
      "Sent\n",
      "Receiving...\n"
     ]
    },
    {
     "name": "stderr",
     "output_type": "stream",
     "text": [
      "09:29:37: Main    : before running thread\n",
      "09:29:37: Main    : wait for the thread to finish\n",
      "09:29:37: Main    : all done\n",
      "09:29:37: Main    : before creating thread\n"
     ]
    },
    {
     "name": "stdout",
     "output_type": "stream",
     "text": [
      "Received 'Hello, World from 2/answer/286'\n",
      "Sending 'Hello, World'...\n",
      "Sent\n",
      "Receiving...\n",
      "Received 'Hello, World from 3/answer/287'\n",
      "Sending 'Hello, World'...\n",
      "Sent\n",
      "Receiving...\n",
      "Received 'Hello, World from 1/answer/288'\n",
      "Sending 'Hello, World'...\n",
      "Sent\n",
      "Receiving...\n",
      "Received 'Hello, World from 2/answer/289'\n",
      "Sending 'Hello, World'...\n",
      "Sent\n",
      "Receiving...\n",
      "Received 'Hello, World from 3/answer/290'\n"
     ]
    },
    {
     "name": "stderr",
     "output_type": "stream",
     "text": [
      "09:29:37: Main    : before running thread\n",
      "09:29:37: Main    : wait for the thread to finish\n",
      "09:29:37: Main    : all done\n",
      "09:29:37: Main    : before creating thread\n"
     ]
    },
    {
     "name": "stdout",
     "output_type": "stream",
     "text": [
      "Sending 'Hello, World'...\n",
      "Sent\n",
      "Receiving...\n",
      "Received 'Hello, World from 1/answer/291'\n",
      "Sending 'Hello, World'...\n",
      "Sent\n",
      "Receiving...\n",
      "Received 'Hello, World from 2/answer/292'\n",
      "Sending 'Hello, World'...\n"
     ]
    },
    {
     "name": "stderr",
     "output_type": "stream",
     "text": [
      "09:29:38: Main    : before running thread\n",
      "09:29:38: Main    : wait for the thread to finish\n",
      "09:29:38: Main    : all done\n",
      "09:29:38: Main    : before creating thread\n"
     ]
    },
    {
     "name": "stdout",
     "output_type": "stream",
     "text": [
      "Sent\n",
      "Receiving...\n",
      "Received 'Hello, World from 3/answer/293'\n",
      "Sending 'Hello, World'...\n",
      "Sent\n",
      "Receiving...\n",
      "Received 'Hello, World from 1/answer/294'\n",
      "Sending 'Hello, World'...\n",
      "Sent\n",
      "Receiving...\n"
     ]
    },
    {
     "name": "stderr",
     "output_type": "stream",
     "text": [
      "09:29:38: Main    : before running thread\n",
      "09:29:38: Main    : wait for the thread to finish\n",
      "09:29:38: Main    : all done\n",
      "09:29:38: Main    : before creating thread\n"
     ]
    },
    {
     "name": "stdout",
     "output_type": "stream",
     "text": [
      "Received 'Hello, World from 2/answer/295'\n",
      "Sending 'Hello, World'...\n",
      "Sent\n",
      "Receiving...\n",
      "Received 'Hello, World from 3/answer/296'\n",
      "Sending 'Hello, World'...\n",
      "Sent\n",
      "Receiving...\n",
      "Received 'Hello, World from 1/answer/297'\n"
     ]
    },
    {
     "name": "stderr",
     "output_type": "stream",
     "text": [
      "09:29:38: Main    : before running thread\n",
      "09:29:38: Main    : wait for the thread to finish\n",
      "09:29:38: Main    : all done\n",
      "09:29:38: Main    : before creating thread\n"
     ]
    },
    {
     "name": "stdout",
     "output_type": "stream",
     "text": [
      "Sending 'Hello, World'...\n",
      "Sent\n",
      "Receiving...\n",
      "Received 'Hello, World from 2/answer/298'\n",
      "Sending 'Hello, World'...\n",
      "Sent\n",
      "Receiving...\n",
      "Received 'Hello, World from 3/answer/299'\n",
      "Sending 'Hello, World'...\n",
      "Sent\n",
      "Receiving...\n",
      "Received 'Hello, World from 1/answer/300'\n",
      "Sending 'Hello, World'...\n",
      "Sent\n",
      "Receiving...\n",
      "Received 'Hello, World from 2/answer/301'\n",
      "Sending 'Hello, World'...\n",
      "Sent\n",
      "Receiving...\n",
      "Received 'Hello, World from 3/answer/302'\n"
     ]
    },
    {
     "name": "stderr",
     "output_type": "stream",
     "text": [
      "09:29:39: Main    : before running thread\n",
      "09:29:39: Main    : wait for the thread to finish\n",
      "09:29:39: Main    : all done\n"
     ]
    }
   ],
   "source": [
    "for q in range(0, 100):\n",
    "  format = \"%(asctime)s: %(message)s\"\n",
    "  logging.basicConfig(format=format, level=logging.INFO,\n",
    "                      datefmt=\"%H:%M:%S\")\n",
    "\n",
    "  logging.info(\"Main    : before creating thread\")\n",
    "  x = threading.Thread(target=hello_world(1), args=(1,))\n",
    "  y = threading.Thread(target=hello_world(2), args=(2,))\n",
    "  z = threading.Thread(target=hello_world(3), args=(3,))\n",
    "  logging.info(\"Main    : before running thread\")\n",
    "  x.start()\n",
    "  y.start()\n",
    "  z.start()\n",
    "  logging.info(\"Main    : wait for the thread to finish\")\n",
    "  # x.join()\n",
    "  logging.info(\"Main    : all done\")"
   ]
  },
  {
   "cell_type": "code",
   "execution_count": null,
   "metadata": {},
   "outputs": [],
   "source": []
  }
 ],
 "metadata": {
  "colab": {
   "authorship_tag": "ABX9TyN2oijTTwMlq9+5TH24Tk9E",
   "collapsed_sections": [],
   "name": "WebsocketClient_2.ipynb",
   "provenance": [
    {
     "file_id": "13eqAJbXmWCWBeN9gaYB04zA5xHAdPW5j",
     "timestamp": 1614023601150
    }
   ]
  },
  "kernelspec": {
   "display_name": "Python 3",
   "language": "python",
   "name": "python3"
  },
  "language_info": {
   "codemirror_mode": {
    "name": "ipython",
    "version": 3
   },
   "file_extension": ".py",
   "mimetype": "text/x-python",
   "name": "python",
   "nbconvert_exporter": "python",
   "pygments_lexer": "ipython3",
   "version": "3.8.10"
  }
 },
 "nbformat": 4,
 "nbformat_minor": 1
}
