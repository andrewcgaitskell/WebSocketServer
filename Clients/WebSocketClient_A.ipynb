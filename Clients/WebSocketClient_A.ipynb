{
  "nbformat": 4,
  "nbformat_minor": 0,
  "metadata": {
    "colab": {
      "name": "WebSocketClient_A.ipynb",
      "provenance": [],
      "authorship_tag": "ABX9TyOF8DJg4GSmIbgRELuBTBGv",
      "include_colab_link": true
    },
    "kernelspec": {
      "name": "python3",
      "display_name": "Python 3"
    }
  },
  "cells": [
    {
      "cell_type": "markdown",
      "metadata": {
        "id": "view-in-github",
        "colab_type": "text"
      },
      "source": [
        "<a href=\"https://colab.research.google.com/github/andrewcgaitskell/WebSocketServer/blob/main/WebSocketClient_A.ipynb\" target=\"_parent\"><img src=\"https://colab.research.google.com/assets/colab-badge.svg\" alt=\"Open In Colab\"/></a>"
      ]
    },
    {
      "cell_type": "code",
      "metadata": {
        "colab": {
          "base_uri": "https://localhost:8080/"
        },
        "id": "nzRdMqwleRxp",
        "outputId": "e56ddc63-bb08-41d1-9cdc-8deb26e208d9"
      },
      "source": [
        "!pip install websocket_client"
      ],
      "execution_count": 1,
      "outputs": [
        {
          "output_type": "stream",
          "text": [
            "Requirement already satisfied: websocket_client in /usr/local/lib/python3.6/dist-packages (0.57.0)\n",
            "Requirement already satisfied: six in /usr/local/lib/python3.6/dist-packages (from websocket_client) (1.15.0)\n"
          ],
          "name": "stdout"
        }
      ]
    },
    {
      "cell_type": "code",
      "metadata": {
        "id": "XEOz0pAnd2NO"
      },
      "source": [
        "import websocket\n",
        "try:\n",
        "    import thread\n",
        "except ImportError:\n",
        "    import _thread as thread\n",
        "import time\n"
      ],
      "execution_count": 2,
      "outputs": []
    },
    {
      "cell_type": "code",
      "metadata": {
        "id": "b4F-xBF3d87M"
      },
      "source": [
        "def on_message(ws, message):\n",
        "    print(message)\n",
        "\n",
        "def on_error(ws, error):\n",
        "    print(error)\n",
        "\n",
        "def on_close(ws):\n",
        "    print(\"### closed ###\")\n",
        "\n",
        "def on_open(ws):\n",
        "    def run(*args):\n",
        "        for i in range(3):\n",
        "            time.sleep(1)\n",
        "            ws.send(\"Hello %d\" % i)\n",
        "        time.sleep(1)\n",
        "        ws.close()\n",
        "        print(\"thread terminating...\")\n",
        "    thread.start_new_thread(run, ())"
      ],
      "execution_count": 5,
      "outputs": []
    },
    {
      "cell_type": "code",
      "metadata": {
        "colab": {
          "base_uri": "https://localhost:8080/"
        },
        "id": "loJ8-ySAd9EL",
        "outputId": "2c64a3fd-ba08-44bf-a7b3-2c5cdd880f23"
      },
      "source": [
        "websocket.enableTrace(True)\n",
        "uri = \"ws://35.214.36.98:5010/ws/\"\n",
        "ws = websocket.WebSocketApp(uri,\n",
        "                          on_message = on_message,\n",
        "                          on_error = on_error,\n",
        "                          on_close = on_close)\n",
        "ws.on_open = on_open\n",
        "ws.run_forever()"
      ],
      "execution_count": 11,
      "outputs": [
        {
          "output_type": "stream",
          "text": [
            "--- request header ---\n",
            "GET /ws/ HTTP/1.1\n",
            "Upgrade: websocket\n",
            "Host: 35.214.36.98:5010\n",
            "Origin: http://35.214.36.98:5010\n",
            "Sec-WebSocket-Key: XKaOCWmqV+7OaUkx4le5qQ==\n",
            "Sec-WebSocket-Version: 13\n",
            "Connection: upgrade\n",
            "\n",
            "\n",
            "-----------------------\n",
            "--- response header ---\n",
            "HTTP/1.1 101 Switching Protocols\n",
            "Upgrade: websocket\n",
            "Connection: upgrade\n",
            "Sec-WebSocket-Accept: VDUogE5VDLq3N00yxIY2LS51CsI=\n",
            "Content-Type: application/octet-stream\n",
            "Date: Mon, 22 Feb 2021 16:10:51 GMT\n",
            "Server: Python/3.6 aiohttp/3.7.3\n",
            "-----------------------\n",
            "send: b'\\x81\\x87\\xa6\\x82\\xc7\\x0e\\xee\\xe7\\xabb\\xc9\\xa2\\xf7'\n"
          ],
          "name": "stderr"
        },
        {
          "output_type": "stream",
          "text": [
            "Hello 0/answer/59\n"
          ],
          "name": "stdout"
        },
        {
          "output_type": "stream",
          "text": [
            "send: b'\\x81\\x87\\x07ZQ\\xd6O?=\\xbahz`'\n"
          ],
          "name": "stderr"
        },
        {
          "output_type": "stream",
          "text": [
            "Hello 1/answer/62\n"
          ],
          "name": "stdout"
        },
        {
          "output_type": "stream",
          "text": [
            "send: b'\\x81\\x87\\xb5\\xca&|\\xfd\\xafJ\\x10\\xda\\xea\\x14'\n"
          ],
          "name": "stderr"
        },
        {
          "output_type": "stream",
          "text": [
            "Hello 2/answer/65\n"
          ],
          "name": "stdout"
        },
        {
          "output_type": "stream",
          "text": [
            "send: b'\\x88\\x82\\xf9\\x04\\xec\\xc5\\xfa\\xec'\n"
          ],
          "name": "stderr"
        },
        {
          "output_type": "stream",
          "text": [
            "### closed ###\n",
            "thread terminating...\n"
          ],
          "name": "stdout"
        }
      ]
    }
  ]
}
